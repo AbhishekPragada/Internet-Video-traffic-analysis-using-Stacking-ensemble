{
  "nbformat": 4,
  "nbformat_minor": 0,
  "metadata": {
    "colab": {
      "name": "New_Preprocessing_part /Stacking .ipynb",
      "provenance": [],
      "collapsed_sections": [
        "b9_WDRsSs3HY",
        "WRNHMhvoXcKf",
        "E1SCbFGRxz74",
        "dxUFpLBeyIEw",
        "LxM_9g_FveaM",
        "A4aR2Dnh2J5n",
        "8pERqVm75nCQ",
        "WYk5mHvi6OMU",
        "1yOMuNOveQQg",
        "WfMST7dwyXzi",
        "TG4QdmD3yd5x"
      ]
    },
    "kernelspec": {
      "display_name": "Python 3",
      "name": "python3"
    },
    "accelerator": "GPU"
  },
  "cells": [
    {
      "cell_type": "markdown",
      "metadata": {
        "id": "zkKNOq1fjBBA"
      },
      "source": [
        "# Imports"
      ]
    },
    {
      "cell_type": "code",
      "metadata": {
        "id": "Sz8NVa39Xmor"
      },
      "source": [
        "import pandas as pd\n",
        "import matplotlib.pyplot as plt\n",
        "import seaborn as sns\n",
        "import numpy as np"
      ],
      "execution_count": null,
      "outputs": []
    },
    {
      "cell_type": "code",
      "metadata": {
        "colab": {
          "base_uri": "https://localhost:8080/",
          "height": 543
        },
        "id": "q5fyN4M5glDm",
        "outputId": "c583ccd2-baef-4862-dfe5-96aa8885f4e1"
      },
      "source": [
        "from google.colab import drive\n",
        "\n",
        "drive.mount('/content/gdrive')"
      ],
      "execution_count": null,
      "outputs": [
        {
          "output_type": "error",
          "ename": "KeyboardInterrupt",
          "evalue": "ignored",
          "traceback": [
            "\u001b[0;31m---------------------------------------------------------------------------\u001b[0m",
            "\u001b[0;31mKeyboardInterrupt\u001b[0m                         Traceback (most recent call last)",
            "\u001b[0;32m/usr/local/lib/python3.6/dist-packages/ipykernel/kernelbase.py\u001b[0m in \u001b[0;36m_input_request\u001b[0;34m(self, prompt, ident, parent, password)\u001b[0m\n\u001b[1;32m    728\u001b[0m             \u001b[0;32mtry\u001b[0m\u001b[0;34m:\u001b[0m\u001b[0;34m\u001b[0m\u001b[0;34m\u001b[0m\u001b[0m\n\u001b[0;32m--> 729\u001b[0;31m                 \u001b[0mident\u001b[0m\u001b[0;34m,\u001b[0m \u001b[0mreply\u001b[0m \u001b[0;34m=\u001b[0m \u001b[0mself\u001b[0m\u001b[0;34m.\u001b[0m\u001b[0msession\u001b[0m\u001b[0;34m.\u001b[0m\u001b[0mrecv\u001b[0m\u001b[0;34m(\u001b[0m\u001b[0mself\u001b[0m\u001b[0;34m.\u001b[0m\u001b[0mstdin_socket\u001b[0m\u001b[0;34m,\u001b[0m \u001b[0;36m0\u001b[0m\u001b[0;34m)\u001b[0m\u001b[0;34m\u001b[0m\u001b[0;34m\u001b[0m\u001b[0m\n\u001b[0m\u001b[1;32m    730\u001b[0m             \u001b[0;32mexcept\u001b[0m \u001b[0mException\u001b[0m\u001b[0;34m:\u001b[0m\u001b[0;34m\u001b[0m\u001b[0;34m\u001b[0m\u001b[0m\n",
            "\u001b[0;32m/usr/local/lib/python3.6/dist-packages/jupyter_client/session.py\u001b[0m in \u001b[0;36mrecv\u001b[0;34m(self, socket, mode, content, copy)\u001b[0m\n\u001b[1;32m    802\u001b[0m         \u001b[0;32mtry\u001b[0m\u001b[0;34m:\u001b[0m\u001b[0;34m\u001b[0m\u001b[0;34m\u001b[0m\u001b[0m\n\u001b[0;32m--> 803\u001b[0;31m             \u001b[0mmsg_list\u001b[0m \u001b[0;34m=\u001b[0m \u001b[0msocket\u001b[0m\u001b[0;34m.\u001b[0m\u001b[0mrecv_multipart\u001b[0m\u001b[0;34m(\u001b[0m\u001b[0mmode\u001b[0m\u001b[0;34m,\u001b[0m \u001b[0mcopy\u001b[0m\u001b[0;34m=\u001b[0m\u001b[0mcopy\u001b[0m\u001b[0;34m)\u001b[0m\u001b[0;34m\u001b[0m\u001b[0;34m\u001b[0m\u001b[0m\n\u001b[0m\u001b[1;32m    804\u001b[0m         \u001b[0;32mexcept\u001b[0m \u001b[0mzmq\u001b[0m\u001b[0;34m.\u001b[0m\u001b[0mZMQError\u001b[0m \u001b[0;32mas\u001b[0m \u001b[0me\u001b[0m\u001b[0;34m:\u001b[0m\u001b[0;34m\u001b[0m\u001b[0;34m\u001b[0m\u001b[0m\n",
            "\u001b[0;32m/usr/local/lib/python3.6/dist-packages/zmq/sugar/socket.py\u001b[0m in \u001b[0;36mrecv_multipart\u001b[0;34m(self, flags, copy, track)\u001b[0m\n\u001b[1;32m    565\u001b[0m         \"\"\"\n\u001b[0;32m--> 566\u001b[0;31m         \u001b[0mparts\u001b[0m \u001b[0;34m=\u001b[0m \u001b[0;34m[\u001b[0m\u001b[0mself\u001b[0m\u001b[0;34m.\u001b[0m\u001b[0mrecv\u001b[0m\u001b[0;34m(\u001b[0m\u001b[0mflags\u001b[0m\u001b[0;34m,\u001b[0m \u001b[0mcopy\u001b[0m\u001b[0;34m=\u001b[0m\u001b[0mcopy\u001b[0m\u001b[0;34m,\u001b[0m \u001b[0mtrack\u001b[0m\u001b[0;34m=\u001b[0m\u001b[0mtrack\u001b[0m\u001b[0;34m)\u001b[0m\u001b[0;34m]\u001b[0m\u001b[0;34m\u001b[0m\u001b[0;34m\u001b[0m\u001b[0m\n\u001b[0m\u001b[1;32m    567\u001b[0m         \u001b[0;31m# have first part already, only loop while more to receive\u001b[0m\u001b[0;34m\u001b[0m\u001b[0;34m\u001b[0m\u001b[0;34m\u001b[0m\u001b[0m\n",
            "\u001b[0;32mzmq/backend/cython/socket.pyx\u001b[0m in \u001b[0;36mzmq.backend.cython.socket.Socket.recv\u001b[0;34m()\u001b[0m\n",
            "\u001b[0;32mzmq/backend/cython/socket.pyx\u001b[0m in \u001b[0;36mzmq.backend.cython.socket.Socket.recv\u001b[0;34m()\u001b[0m\n",
            "\u001b[0;32mzmq/backend/cython/socket.pyx\u001b[0m in \u001b[0;36mzmq.backend.cython.socket._recv_copy\u001b[0;34m()\u001b[0m\n",
            "\u001b[0;32m/usr/local/lib/python3.6/dist-packages/zmq/backend/cython/checkrc.pxd\u001b[0m in \u001b[0;36mzmq.backend.cython.checkrc._check_rc\u001b[0;34m()\u001b[0m\n",
            "\u001b[0;31mKeyboardInterrupt\u001b[0m: ",
            "\nDuring handling of the above exception, another exception occurred:\n",
            "\u001b[0;31mKeyboardInterrupt\u001b[0m                         Traceback (most recent call last)",
            "\u001b[0;32m<ipython-input-2-3aeef50c6911>\u001b[0m in \u001b[0;36m<module>\u001b[0;34m()\u001b[0m\n\u001b[1;32m      1\u001b[0m \u001b[0;32mfrom\u001b[0m \u001b[0mgoogle\u001b[0m\u001b[0;34m.\u001b[0m\u001b[0mcolab\u001b[0m \u001b[0;32mimport\u001b[0m \u001b[0mdrive\u001b[0m\u001b[0;34m\u001b[0m\u001b[0;34m\u001b[0m\u001b[0m\n\u001b[1;32m      2\u001b[0m \u001b[0;34m\u001b[0m\u001b[0m\n\u001b[0;32m----> 3\u001b[0;31m \u001b[0mdrive\u001b[0m\u001b[0;34m.\u001b[0m\u001b[0mmount\u001b[0m\u001b[0;34m(\u001b[0m\u001b[0;34m'/content/gdrive'\u001b[0m\u001b[0;34m)\u001b[0m\u001b[0;34m\u001b[0m\u001b[0;34m\u001b[0m\u001b[0m\n\u001b[0m",
            "\u001b[0;32m/usr/local/lib/python3.6/dist-packages/google/colab/drive.py\u001b[0m in \u001b[0;36mmount\u001b[0;34m(mountpoint, force_remount, timeout_ms, use_metadata_server)\u001b[0m\n\u001b[1;32m    249\u001b[0m       \u001b[0;32mwith\u001b[0m \u001b[0m_output\u001b[0m\u001b[0;34m.\u001b[0m\u001b[0muse_tags\u001b[0m\u001b[0;34m(\u001b[0m\u001b[0;34m'dfs-auth-dance'\u001b[0m\u001b[0;34m)\u001b[0m\u001b[0;34m:\u001b[0m\u001b[0;34m\u001b[0m\u001b[0;34m\u001b[0m\u001b[0m\n\u001b[1;32m    250\u001b[0m         \u001b[0;32mwith\u001b[0m \u001b[0mopen\u001b[0m\u001b[0;34m(\u001b[0m\u001b[0mfifo\u001b[0m\u001b[0;34m,\u001b[0m \u001b[0;34m'w'\u001b[0m\u001b[0;34m)\u001b[0m \u001b[0;32mas\u001b[0m \u001b[0mfifo_file\u001b[0m\u001b[0;34m:\u001b[0m\u001b[0;34m\u001b[0m\u001b[0;34m\u001b[0m\u001b[0m\n\u001b[0;32m--> 251\u001b[0;31m           \u001b[0mfifo_file\u001b[0m\u001b[0;34m.\u001b[0m\u001b[0mwrite\u001b[0m\u001b[0;34m(\u001b[0m\u001b[0mget_code\u001b[0m\u001b[0;34m(\u001b[0m\u001b[0mauth_prompt\u001b[0m\u001b[0;34m)\u001b[0m \u001b[0;34m+\u001b[0m \u001b[0;34m'\\n'\u001b[0m\u001b[0;34m)\u001b[0m\u001b[0;34m\u001b[0m\u001b[0;34m\u001b[0m\u001b[0m\n\u001b[0m\u001b[1;32m    252\u001b[0m       \u001b[0mwrote_to_fifo\u001b[0m \u001b[0;34m=\u001b[0m \u001b[0;32mTrue\u001b[0m\u001b[0;34m\u001b[0m\u001b[0;34m\u001b[0m\u001b[0m\n\u001b[1;32m    253\u001b[0m     \u001b[0;32melif\u001b[0m \u001b[0mcase\u001b[0m \u001b[0;34m==\u001b[0m \u001b[0;36m5\u001b[0m\u001b[0;34m:\u001b[0m\u001b[0;34m\u001b[0m\u001b[0;34m\u001b[0m\u001b[0m\n",
            "\u001b[0;32m/usr/local/lib/python3.6/dist-packages/ipykernel/kernelbase.py\u001b[0m in \u001b[0;36mraw_input\u001b[0;34m(self, prompt)\u001b[0m\n\u001b[1;32m    702\u001b[0m             \u001b[0mself\u001b[0m\u001b[0;34m.\u001b[0m\u001b[0m_parent_ident\u001b[0m\u001b[0;34m,\u001b[0m\u001b[0;34m\u001b[0m\u001b[0;34m\u001b[0m\u001b[0m\n\u001b[1;32m    703\u001b[0m             \u001b[0mself\u001b[0m\u001b[0;34m.\u001b[0m\u001b[0m_parent_header\u001b[0m\u001b[0;34m,\u001b[0m\u001b[0;34m\u001b[0m\u001b[0;34m\u001b[0m\u001b[0m\n\u001b[0;32m--> 704\u001b[0;31m             \u001b[0mpassword\u001b[0m\u001b[0;34m=\u001b[0m\u001b[0;32mFalse\u001b[0m\u001b[0;34m,\u001b[0m\u001b[0;34m\u001b[0m\u001b[0;34m\u001b[0m\u001b[0m\n\u001b[0m\u001b[1;32m    705\u001b[0m         )\n\u001b[1;32m    706\u001b[0m \u001b[0;34m\u001b[0m\u001b[0m\n",
            "\u001b[0;32m/usr/local/lib/python3.6/dist-packages/ipykernel/kernelbase.py\u001b[0m in \u001b[0;36m_input_request\u001b[0;34m(self, prompt, ident, parent, password)\u001b[0m\n\u001b[1;32m    732\u001b[0m             \u001b[0;32mexcept\u001b[0m \u001b[0mKeyboardInterrupt\u001b[0m\u001b[0;34m:\u001b[0m\u001b[0;34m\u001b[0m\u001b[0;34m\u001b[0m\u001b[0m\n\u001b[1;32m    733\u001b[0m                 \u001b[0;31m# re-raise KeyboardInterrupt, to truncate traceback\u001b[0m\u001b[0;34m\u001b[0m\u001b[0;34m\u001b[0m\u001b[0;34m\u001b[0m\u001b[0m\n\u001b[0;32m--> 734\u001b[0;31m                 \u001b[0;32mraise\u001b[0m \u001b[0mKeyboardInterrupt\u001b[0m\u001b[0;34m\u001b[0m\u001b[0;34m\u001b[0m\u001b[0m\n\u001b[0m\u001b[1;32m    735\u001b[0m             \u001b[0;32melse\u001b[0m\u001b[0;34m:\u001b[0m\u001b[0;34m\u001b[0m\u001b[0;34m\u001b[0m\u001b[0m\n\u001b[1;32m    736\u001b[0m                 \u001b[0;32mbreak\u001b[0m\u001b[0;34m\u001b[0m\u001b[0;34m\u001b[0m\u001b[0m\n",
            "\u001b[0;31mKeyboardInterrupt\u001b[0m: "
          ]
        }
      ]
    },
    {
      "cell_type": "code",
      "metadata": {
        "colab": {
          "base_uri": "https://localhost:8080/"
        },
        "id": "YDBlP9Veg6tK",
        "outputId": "8a29ba6a-144f-4e98-829a-1a1f2b694ce0"
      },
      "source": [
        "drive.mount('/content/drive')"
      ],
      "execution_count": null,
      "outputs": [
        {
          "output_type": "stream",
          "text": [
            "Mounted at /content/drive\n"
          ],
          "name": "stdout"
        }
      ]
    },
    {
      "cell_type": "code",
      "metadata": {
        "id": "LHGAzxM7g8zv"
      },
      "source": [
        ""
      ],
      "execution_count": null,
      "outputs": []
    },
    {
      "cell_type": "code",
      "metadata": {
        "id": "BUW3uLO5YzKH",
        "colab": {
          "base_uri": "https://localhost:8080/",
          "height": 455
        },
        "outputId": "a1e8921d-c4d7-407a-921f-247491b444e7"
      },
      "source": [
        "daily=pd.read_csv(\"/content/drive/My Drive/network_dataset/Dailymotion.csv\")\n",
        "gmeet=pd.read_csv(\"/content/drive/My Drive/network_dataset/Gmeet.csv\")\n",
        "netf=pd.read_csv(\"/content/drive/My Drive/network_dataset/Netflix.csv\")\n",
        "prime=pd.read_csv(\"/content/drive/My Drive/network_dataset/PrimeVideo.csv\")\n",
        "webex=pd.read_csv(\"/content/drive/My Drive/network_dataset/Webex.csv\")\n",
        "utube=pd.read_csv(\"/content/drive/My Drive/network_dataset/Youtube.csv\")\n"
      ],
      "execution_count": null,
      "outputs": [
        {
          "output_type": "error",
          "ename": "FileNotFoundError",
          "evalue": "ignored",
          "traceback": [
            "\u001b[0;31m---------------------------------------------------------------------------\u001b[0m",
            "\u001b[0;31mFileNotFoundError\u001b[0m                         Traceback (most recent call last)",
            "\u001b[0;32m<ipython-input-4-416a0d45bb98>\u001b[0m in \u001b[0;36m<module>\u001b[0;34m()\u001b[0m\n\u001b[0;32m----> 1\u001b[0;31m \u001b[0mdaily\u001b[0m\u001b[0;34m=\u001b[0m\u001b[0mpd\u001b[0m\u001b[0;34m.\u001b[0m\u001b[0mread_csv\u001b[0m\u001b[0;34m(\u001b[0m\u001b[0;34m\"/content/drive/My Drive/network_dataset/Dailymotion.csv\"\u001b[0m\u001b[0;34m)\u001b[0m\u001b[0;34m\u001b[0m\u001b[0;34m\u001b[0m\u001b[0m\n\u001b[0m\u001b[1;32m      2\u001b[0m \u001b[0mgmeet\u001b[0m\u001b[0;34m=\u001b[0m\u001b[0mpd\u001b[0m\u001b[0;34m.\u001b[0m\u001b[0mread_csv\u001b[0m\u001b[0;34m(\u001b[0m\u001b[0;34m\"/content/drive/My Drive/network_dataset/Gmeet.csv\"\u001b[0m\u001b[0;34m)\u001b[0m\u001b[0;34m\u001b[0m\u001b[0;34m\u001b[0m\u001b[0m\n\u001b[1;32m      3\u001b[0m \u001b[0mnetf\u001b[0m\u001b[0;34m=\u001b[0m\u001b[0mpd\u001b[0m\u001b[0;34m.\u001b[0m\u001b[0mread_csv\u001b[0m\u001b[0;34m(\u001b[0m\u001b[0;34m\"/content/drive/My Drive/network_dataset/Netflix.csv\"\u001b[0m\u001b[0;34m)\u001b[0m\u001b[0;34m\u001b[0m\u001b[0;34m\u001b[0m\u001b[0m\n\u001b[1;32m      4\u001b[0m \u001b[0mprime\u001b[0m\u001b[0;34m=\u001b[0m\u001b[0mpd\u001b[0m\u001b[0;34m.\u001b[0m\u001b[0mread_csv\u001b[0m\u001b[0;34m(\u001b[0m\u001b[0;34m\"/content/drive/My Drive/network_dataset/PrimeVideo.csv\"\u001b[0m\u001b[0;34m)\u001b[0m\u001b[0;34m\u001b[0m\u001b[0;34m\u001b[0m\u001b[0m\n\u001b[1;32m      5\u001b[0m \u001b[0mwebex\u001b[0m\u001b[0;34m=\u001b[0m\u001b[0mpd\u001b[0m\u001b[0;34m.\u001b[0m\u001b[0mread_csv\u001b[0m\u001b[0;34m(\u001b[0m\u001b[0;34m\"/content/drive/My Drive/network_dataset/Webex.csv\"\u001b[0m\u001b[0;34m)\u001b[0m\u001b[0;34m\u001b[0m\u001b[0;34m\u001b[0m\u001b[0m\n",
            "\u001b[0;32m/usr/local/lib/python3.6/dist-packages/pandas/io/parsers.py\u001b[0m in \u001b[0;36mread_csv\u001b[0;34m(filepath_or_buffer, sep, delimiter, header, names, index_col, usecols, squeeze, prefix, mangle_dupe_cols, dtype, engine, converters, true_values, false_values, skipinitialspace, skiprows, skipfooter, nrows, na_values, keep_default_na, na_filter, verbose, skip_blank_lines, parse_dates, infer_datetime_format, keep_date_col, date_parser, dayfirst, cache_dates, iterator, chunksize, compression, thousands, decimal, lineterminator, quotechar, quoting, doublequote, escapechar, comment, encoding, dialect, error_bad_lines, warn_bad_lines, delim_whitespace, low_memory, memory_map, float_precision)\u001b[0m\n\u001b[1;32m    686\u001b[0m     )\n\u001b[1;32m    687\u001b[0m \u001b[0;34m\u001b[0m\u001b[0m\n\u001b[0;32m--> 688\u001b[0;31m     \u001b[0;32mreturn\u001b[0m \u001b[0m_read\u001b[0m\u001b[0;34m(\u001b[0m\u001b[0mfilepath_or_buffer\u001b[0m\u001b[0;34m,\u001b[0m \u001b[0mkwds\u001b[0m\u001b[0;34m)\u001b[0m\u001b[0;34m\u001b[0m\u001b[0;34m\u001b[0m\u001b[0m\n\u001b[0m\u001b[1;32m    689\u001b[0m \u001b[0;34m\u001b[0m\u001b[0m\n\u001b[1;32m    690\u001b[0m \u001b[0;34m\u001b[0m\u001b[0m\n",
            "\u001b[0;32m/usr/local/lib/python3.6/dist-packages/pandas/io/parsers.py\u001b[0m in \u001b[0;36m_read\u001b[0;34m(filepath_or_buffer, kwds)\u001b[0m\n\u001b[1;32m    452\u001b[0m \u001b[0;34m\u001b[0m\u001b[0m\n\u001b[1;32m    453\u001b[0m     \u001b[0;31m# Create the parser.\u001b[0m\u001b[0;34m\u001b[0m\u001b[0;34m\u001b[0m\u001b[0;34m\u001b[0m\u001b[0m\n\u001b[0;32m--> 454\u001b[0;31m     \u001b[0mparser\u001b[0m \u001b[0;34m=\u001b[0m \u001b[0mTextFileReader\u001b[0m\u001b[0;34m(\u001b[0m\u001b[0mfp_or_buf\u001b[0m\u001b[0;34m,\u001b[0m \u001b[0;34m**\u001b[0m\u001b[0mkwds\u001b[0m\u001b[0;34m)\u001b[0m\u001b[0;34m\u001b[0m\u001b[0;34m\u001b[0m\u001b[0m\n\u001b[0m\u001b[1;32m    455\u001b[0m \u001b[0;34m\u001b[0m\u001b[0m\n\u001b[1;32m    456\u001b[0m     \u001b[0;32mif\u001b[0m \u001b[0mchunksize\u001b[0m \u001b[0;32mor\u001b[0m \u001b[0miterator\u001b[0m\u001b[0;34m:\u001b[0m\u001b[0;34m\u001b[0m\u001b[0;34m\u001b[0m\u001b[0m\n",
            "\u001b[0;32m/usr/local/lib/python3.6/dist-packages/pandas/io/parsers.py\u001b[0m in \u001b[0;36m__init__\u001b[0;34m(self, f, engine, **kwds)\u001b[0m\n\u001b[1;32m    946\u001b[0m             \u001b[0mself\u001b[0m\u001b[0;34m.\u001b[0m\u001b[0moptions\u001b[0m\u001b[0;34m[\u001b[0m\u001b[0;34m\"has_index_names\"\u001b[0m\u001b[0;34m]\u001b[0m \u001b[0;34m=\u001b[0m \u001b[0mkwds\u001b[0m\u001b[0;34m[\u001b[0m\u001b[0;34m\"has_index_names\"\u001b[0m\u001b[0;34m]\u001b[0m\u001b[0;34m\u001b[0m\u001b[0;34m\u001b[0m\u001b[0m\n\u001b[1;32m    947\u001b[0m \u001b[0;34m\u001b[0m\u001b[0m\n\u001b[0;32m--> 948\u001b[0;31m         \u001b[0mself\u001b[0m\u001b[0;34m.\u001b[0m\u001b[0m_make_engine\u001b[0m\u001b[0;34m(\u001b[0m\u001b[0mself\u001b[0m\u001b[0;34m.\u001b[0m\u001b[0mengine\u001b[0m\u001b[0;34m)\u001b[0m\u001b[0;34m\u001b[0m\u001b[0;34m\u001b[0m\u001b[0m\n\u001b[0m\u001b[1;32m    949\u001b[0m \u001b[0;34m\u001b[0m\u001b[0m\n\u001b[1;32m    950\u001b[0m     \u001b[0;32mdef\u001b[0m \u001b[0mclose\u001b[0m\u001b[0;34m(\u001b[0m\u001b[0mself\u001b[0m\u001b[0;34m)\u001b[0m\u001b[0;34m:\u001b[0m\u001b[0;34m\u001b[0m\u001b[0;34m\u001b[0m\u001b[0m\n",
            "\u001b[0;32m/usr/local/lib/python3.6/dist-packages/pandas/io/parsers.py\u001b[0m in \u001b[0;36m_make_engine\u001b[0;34m(self, engine)\u001b[0m\n\u001b[1;32m   1178\u001b[0m     \u001b[0;32mdef\u001b[0m \u001b[0m_make_engine\u001b[0m\u001b[0;34m(\u001b[0m\u001b[0mself\u001b[0m\u001b[0;34m,\u001b[0m \u001b[0mengine\u001b[0m\u001b[0;34m=\u001b[0m\u001b[0;34m\"c\"\u001b[0m\u001b[0;34m)\u001b[0m\u001b[0;34m:\u001b[0m\u001b[0;34m\u001b[0m\u001b[0;34m\u001b[0m\u001b[0m\n\u001b[1;32m   1179\u001b[0m         \u001b[0;32mif\u001b[0m \u001b[0mengine\u001b[0m \u001b[0;34m==\u001b[0m \u001b[0;34m\"c\"\u001b[0m\u001b[0;34m:\u001b[0m\u001b[0;34m\u001b[0m\u001b[0;34m\u001b[0m\u001b[0m\n\u001b[0;32m-> 1180\u001b[0;31m             \u001b[0mself\u001b[0m\u001b[0;34m.\u001b[0m\u001b[0m_engine\u001b[0m \u001b[0;34m=\u001b[0m \u001b[0mCParserWrapper\u001b[0m\u001b[0;34m(\u001b[0m\u001b[0mself\u001b[0m\u001b[0;34m.\u001b[0m\u001b[0mf\u001b[0m\u001b[0;34m,\u001b[0m \u001b[0;34m**\u001b[0m\u001b[0mself\u001b[0m\u001b[0;34m.\u001b[0m\u001b[0moptions\u001b[0m\u001b[0;34m)\u001b[0m\u001b[0;34m\u001b[0m\u001b[0;34m\u001b[0m\u001b[0m\n\u001b[0m\u001b[1;32m   1181\u001b[0m         \u001b[0;32melse\u001b[0m\u001b[0;34m:\u001b[0m\u001b[0;34m\u001b[0m\u001b[0;34m\u001b[0m\u001b[0m\n\u001b[1;32m   1182\u001b[0m             \u001b[0;32mif\u001b[0m \u001b[0mengine\u001b[0m \u001b[0;34m==\u001b[0m \u001b[0;34m\"python\"\u001b[0m\u001b[0;34m:\u001b[0m\u001b[0;34m\u001b[0m\u001b[0;34m\u001b[0m\u001b[0m\n",
            "\u001b[0;32m/usr/local/lib/python3.6/dist-packages/pandas/io/parsers.py\u001b[0m in \u001b[0;36m__init__\u001b[0;34m(self, src, **kwds)\u001b[0m\n\u001b[1;32m   2008\u001b[0m         \u001b[0mkwds\u001b[0m\u001b[0;34m[\u001b[0m\u001b[0;34m\"usecols\"\u001b[0m\u001b[0;34m]\u001b[0m \u001b[0;34m=\u001b[0m \u001b[0mself\u001b[0m\u001b[0;34m.\u001b[0m\u001b[0musecols\u001b[0m\u001b[0;34m\u001b[0m\u001b[0;34m\u001b[0m\u001b[0m\n\u001b[1;32m   2009\u001b[0m \u001b[0;34m\u001b[0m\u001b[0m\n\u001b[0;32m-> 2010\u001b[0;31m         \u001b[0mself\u001b[0m\u001b[0;34m.\u001b[0m\u001b[0m_reader\u001b[0m \u001b[0;34m=\u001b[0m \u001b[0mparsers\u001b[0m\u001b[0;34m.\u001b[0m\u001b[0mTextReader\u001b[0m\u001b[0;34m(\u001b[0m\u001b[0msrc\u001b[0m\u001b[0;34m,\u001b[0m \u001b[0;34m**\u001b[0m\u001b[0mkwds\u001b[0m\u001b[0;34m)\u001b[0m\u001b[0;34m\u001b[0m\u001b[0;34m\u001b[0m\u001b[0m\n\u001b[0m\u001b[1;32m   2011\u001b[0m         \u001b[0mself\u001b[0m\u001b[0;34m.\u001b[0m\u001b[0munnamed_cols\u001b[0m \u001b[0;34m=\u001b[0m \u001b[0mself\u001b[0m\u001b[0;34m.\u001b[0m\u001b[0m_reader\u001b[0m\u001b[0;34m.\u001b[0m\u001b[0munnamed_cols\u001b[0m\u001b[0;34m\u001b[0m\u001b[0;34m\u001b[0m\u001b[0m\n\u001b[1;32m   2012\u001b[0m \u001b[0;34m\u001b[0m\u001b[0m\n",
            "\u001b[0;32mpandas/_libs/parsers.pyx\u001b[0m in \u001b[0;36mpandas._libs.parsers.TextReader.__cinit__\u001b[0;34m()\u001b[0m\n",
            "\u001b[0;32mpandas/_libs/parsers.pyx\u001b[0m in \u001b[0;36mpandas._libs.parsers.TextReader._setup_parser_source\u001b[0;34m()\u001b[0m\n",
            "\u001b[0;31mFileNotFoundError\u001b[0m: [Errno 2] No such file or directory: '/content/drive/My Drive/network_dataset/Dailymotion.csv'"
          ]
        }
      ]
    },
    {
      "cell_type": "code",
      "metadata": {
        "id": "LSxBmt3LSdfJ"
      },
      "source": [
        ""
      ],
      "execution_count": null,
      "outputs": []
    },
    {
      "cell_type": "markdown",
      "metadata": {
        "id": "3oGJJYctSfOb"
      },
      "source": [
        "## Test "
      ]
    },
    {
      "cell_type": "code",
      "metadata": {
        "id": "zqbSxbW1ShtH"
      },
      "source": [
        "# Gtest = pd.read_csv(\"/content/drive/My Drive/network_dataset/Gtest.csv\")\n",
        "# Ntest = pd.read_csv(\"/content/drive/My Drive/network_dataset/Ntest.csv\")\n",
        "# Ytest = pd.read_csv(\"/content/drive/My Drive/network_dataset/Ytest.csv\")\n",
        "Gtest = pd.read_csv(\"/content/drive/MyDrive/Minor V sem/TEST/Copy of Gtest.csv\")\n",
        "Ntest = pd.read_csv(\"/content/drive/MyDrive/Minor V sem/TEST/Copy of Ntest.csv\")\n",
        "Ytest = pd.read_csv(\"/content/drive/MyDrive/Minor V sem/TEST/Copy of Ytest.csv\")"
      ],
      "execution_count": null,
      "outputs": []
    },
    {
      "cell_type": "markdown",
      "metadata": {
        "id": "lOJiRPQqXolr"
      },
      "source": [
        "#**Making 16k-20k per each video class**"
      ]
    },
    {
      "cell_type": "code",
      "metadata": {
        "colab": {
          "base_uri": "https://localhost:8080/"
        },
        "id": "0vxm2bGiZwvK",
        "outputId": "9eb85654-517b-41db-b655-fbff874479fe"
      },
      "source": [
        "len(netf)\n",
        "len(prime)"
      ],
      "execution_count": null,
      "outputs": [
        {
          "output_type": "execute_result",
          "data": {
            "text/plain": [
              "20751"
            ]
          },
          "metadata": {
            "tags": []
          },
          "execution_count": 14
        }
      ]
    },
    {
      "cell_type": "code",
      "metadata": {
        "id": "3hoRuWBFtF5C"
      },
      "source": [
        "netflix=netf\n",
        "prime=prime"
      ],
      "execution_count": null,
      "outputs": []
    },
    {
      "cell_type": "code",
      "metadata": {
        "colab": {
          "base_uri": "https://localhost:8080/"
        },
        "id": "NQk7rd9QpMrI",
        "outputId": "f1725883-bba3-4518-903f-8275c777373f"
      },
      "source": [
        "Ntest.shape"
      ],
      "execution_count": null,
      "outputs": [
        {
          "output_type": "execute_result",
          "data": {
            "text/plain": [
              "(1056, 29)"
            ]
          },
          "metadata": {
            "tags": []
          },
          "execution_count": 13
        }
      ]
    },
    {
      "cell_type": "code",
      "metadata": {
        "colab": {
          "base_uri": "https://localhost:8080/"
        },
        "id": "2xuUYc_ltT6H",
        "outputId": "927c020d-5d78-4620-bb6f-aa4f20876efc"
      },
      "source": [
        "(prime.columns).tolist()"
      ],
      "execution_count": null,
      "outputs": [
        {
          "output_type": "execute_result",
          "data": {
            "text/plain": [
              "['Rank',\n",
              " 'Dur',\n",
              " 'RunTime',\n",
              " 'IdleTime',\n",
              " 'Mean',\n",
              " 'StdDev',\n",
              " 'Sum',\n",
              " 'Min',\n",
              " 'Max',\n",
              " 'Proto',\n",
              " 'sTos',\n",
              " 'dTos',\n",
              " 'sDSb',\n",
              " 'dDSb',\n",
              " 'sTtl',\n",
              " 'dTtl',\n",
              " 'sMpls    dMpls    NStrok  TotPkts',\n",
              " 'TotBytes',\n",
              " 'TotAppByte',\n",
              " 'PCRatio',\n",
              " 'Load',\n",
              " 'Loss',\n",
              " 'Retrans',\n",
              " 'SrcGap',\n",
              " 'DstGap',\n",
              " 'Rate      SIntPkt      DIntPkt    SrcJitter    DstJitter         srcUdata',\n",
              " 'dstUdata          SrcWin',\n",
              " 'DstWin',\n",
              " 'TcpRtt',\n",
              " 'Offset']"
            ]
          },
          "metadata": {
            "tags": []
          },
          "execution_count": 16
        }
      ]
    },
    {
      "cell_type": "code",
      "metadata": {
        "id": "pmH43S1XiFou"
      },
      "source": [
        "utube.drop('Rank',inplace=True,axis=1)\n",
        "gmeet.drop('Rank',inplace=True,axis=1)\n",
        "daily.drop('Rank',inplace=True,axis=1)\n",
        "prime.drop('Rank',inplace=True,axis=1)\n",
        "netf.drop('Rank',inplace=True,axis=1)\n",
        "webex.drop('Rank',inplace=True,axis=1)"
      ],
      "execution_count": null,
      "outputs": []
    },
    {
      "cell_type": "code",
      "metadata": {
        "id": "UUxkeGklSnC7"
      },
      "source": [
        "Gtest.drop('Rank',inplace=True,axis=1)\n",
        "Ntest.drop('Rank',inplace=True,axis=1)\n",
        "# Ytest.drop('Rank',inplace=True,axis=1)"
      ],
      "execution_count": null,
      "outputs": []
    },
    {
      "cell_type": "code",
      "metadata": {
        "id": "bQwcOkffSz0a"
      },
      "source": [
        "ringo(TT)\n",
        "\n"
      ],
      "execution_count": null,
      "outputs": []
    },
    {
      "cell_type": "markdown",
      "metadata": {
        "id": "b9_WDRsSs3HY"
      },
      "source": [
        "# Pipeline for Preprocessing"
      ]
    },
    {
      "cell_type": "code",
      "metadata": {
        "id": "BjJrkPqsmCbS"
      },
      "source": [
        "def Pipeline_preprocess(df):\n",
        "  df['RunTime'].fillna(df['RunTime'].mean(),inplace=True)\n",
        "  df['IdleTime'].fillna(df['IdleTime'].mean(),inplace=True)\n",
        "  df['Mean'].fillna(df['Mean'].mean(),inplace=True)\n",
        "  df['StdDev'].fillna(df['StdDev'].mean(),inplace=True)\n",
        "  df['Sum'].fillna(df['Sum'].mean(),inplace=True)\n",
        "  df['Min'].fillna(df['Min'].mean(),inplace=True)\n",
        "  df['Max'].fillna(df['Max'].mean(),inplace=True)\n",
        "  df['PCRatio'].fillna(df['PCRatio'].mean(),inplace=True)\n",
        "  # df.drop(columns=['sDSb','dDSb'],inplace=True)\n",
        "  df['Ttl']=df['dTtl']+df['sTtl']\n",
        "  # df.drop(columns=['sTtl','dTtl'],inplace=True)\n",
        "  df['Tos']=df['dTos']+df['sTos']\n",
        "  # df.drop(columns=['sTos','dTos'],inplace=True)\n",
        "  df['Gap']=df['DstGap']+df['SrcGap']\n",
        "  # df.drop(columns=['SrcGap','DstGap'],inplace=True)\n",
        "  df['dstUdata          SrcWin'].fillna(df['dstUdata          SrcWin'].mean(),inplace=True)\n",
        "  df['DstWin'].fillna(df['DstWin'].mean(),inplace=True)\n",
        "  df['win']=df['DstWin']+df['dstUdata          SrcWin']\n",
        "  df['dstUdata          SrcWin'].fillna(df['dstUdata          SrcWin'].mean(),inplace=True)\n",
        "  df['Gap'].fillna(df['Gap'].mean(),inplace=True)\n",
        "  df['Tos'].fillna(df['Tos'].mean(),inplace=True)\n",
        "  df['Ttl'].fillna(df['Ttl'].mean(),inplace=True)\n",
        "  df['sMpls    dMpls    NStrok  TotPkts'].fillna(df['sMpls    dMpls    NStrok  TotPkts'].mean(),inplace=True)\n",
        "  df['Rate      SIntPkt      DIntPkt    SrcJitter    DstJitter         srcUdata'].fillna(df['Rate      SIntPkt      DIntPkt    SrcJitter    DstJitter         srcUdata'].mean(),inplace=True)\n",
        "  # df.drop(columns='Rank',inplace=True)\n",
        "  # df.drop(columns=['DstWin','dstUdata          SrcWin'],inplace=True)\n",
        "  # df.drop(columns=['Min','Max','Sum','Dur','Mean','StdDev','IdleTime','Retrans','PCRatio','TotAppByte'],inplace=True)\n",
        "  return df\n",
        "# webex.drop(index=0,inplace=True)\n",
        "# utube.drop(index=0,inplace=True)\n",
        "# gmeet.drop(index=0,inplace=True)\n",
        "# utube.drop(index=0,inplace=True)\n",
        "# daily.drop(index=0,inplace=True)\n",
        "# prime.drop(index=0,inplace=True)\n",
        "# netflix.drop(index=0,inplace=True)\n",
        "# Pipeline_preprocess(utube)\n",
        "# Pipeline_preprocess(daily)\n",
        "# Pipeline_preprocess(webex)\n",
        "# Pipeline_preprocess(gmeet)\n",
        "# Pipeline_preprocess(netflix)\n",
        "# Pipeline_preprocess(prime)\n"
      ],
      "execution_count": null,
      "outputs": []
    },
    {
      "cell_type": "code",
      "metadata": {
        "colab": {
          "base_uri": "https://localhost:8080/",
          "height": 506
        },
        "id": "VrHyYuGpTDel",
        "outputId": "96a51867-7616-4031-9e79-65779f45b19a"
      },
      "source": [
        "Pipeline_preprocess(Gtest)\n",
        "Pipeline_preprocess(Ntest)\n",
        "#Pipeline_preprocess(Ytest)\n"
      ],
      "execution_count": null,
      "outputs": [
        {
          "output_type": "execute_result",
          "data": {
            "text/html": [
              "<div>\n",
              "<style scoped>\n",
              "    .dataframe tbody tr th:only-of-type {\n",
              "        vertical-align: middle;\n",
              "    }\n",
              "\n",
              "    .dataframe tbody tr th {\n",
              "        vertical-align: top;\n",
              "    }\n",
              "\n",
              "    .dataframe thead th {\n",
              "        text-align: right;\n",
              "    }\n",
              "</style>\n",
              "<table border=\"1\" class=\"dataframe\">\n",
              "  <thead>\n",
              "    <tr style=\"text-align: right;\">\n",
              "      <th></th>\n",
              "      <th>Dur</th>\n",
              "      <th>RunTime</th>\n",
              "      <th>IdleTime</th>\n",
              "      <th>Mean</th>\n",
              "      <th>StdDev</th>\n",
              "      <th>Sum</th>\n",
              "      <th>Min</th>\n",
              "      <th>Max</th>\n",
              "      <th>Proto</th>\n",
              "      <th>sTos</th>\n",
              "      <th>dTos</th>\n",
              "      <th>sDSb</th>\n",
              "      <th>dDSb</th>\n",
              "      <th>sTtl</th>\n",
              "      <th>dTtl</th>\n",
              "      <th>sMpls    dMpls    NStrok  TotPkts</th>\n",
              "      <th>TotBytes</th>\n",
              "      <th>TotAppByte</th>\n",
              "      <th>PCRatio</th>\n",
              "      <th>Load</th>\n",
              "      <th>Loss</th>\n",
              "      <th>Retrans</th>\n",
              "      <th>SrcGap</th>\n",
              "      <th>DstGap</th>\n",
              "      <th>Rate      SIntPkt      DIntPkt    SrcJitter    DstJitter         srcUdata</th>\n",
              "      <th>dstUdata          SrcWin</th>\n",
              "      <th>DstWin</th>\n",
              "      <th>TcpRtt</th>\n",
              "      <th>Offset</th>\n",
              "      <th>Ttl</th>\n",
              "      <th>Tos</th>\n",
              "      <th>Gap</th>\n",
              "      <th>win</th>\n",
              "    </tr>\n",
              "  </thead>\n",
              "  <tbody>\n",
              "    <tr>\n",
              "      <th>0</th>\n",
              "      <td>0.010984</td>\n",
              "      <td>2.574102</td>\n",
              "      <td>160721177.0</td>\n",
              "      <td>2.574102</td>\n",
              "      <td>0.0</td>\n",
              "      <td>2.574102</td>\n",
              "      <td>2.574102</td>\n",
              "      <td>2.574102</td>\n",
              "      <td>man</td>\n",
              "      <td>NaN</td>\n",
              "      <td>NaN</td>\n",
              "      <td>NaN</td>\n",
              "      <td>NaN</td>\n",
              "      <td>NaN</td>\n",
              "      <td>NaN</td>\n",
              "      <td>0</td>\n",
              "      <td>0</td>\n",
              "      <td>0</td>\n",
              "      <td>0.0</td>\n",
              "      <td>0.00</td>\n",
              "      <td>0</td>\n",
              "      <td>0</td>\n",
              "      <td>NaN</td>\n",
              "      <td>NaN</td>\n",
              "      <td>0.000000</td>\n",
              "      <td>37838.13449</td>\n",
              "      <td>24724.927233</td>\n",
              "      <td>0.000000</td>\n",
              "      <td>0</td>\n",
              "      <td>232.627816</td>\n",
              "      <td>30.495593</td>\n",
              "      <td>28.090815</td>\n",
              "      <td>62563.061723</td>\n",
              "    </tr>\n",
              "    <tr>\n",
              "      <th>1</th>\n",
              "      <td>4.990291</td>\n",
              "      <td>4.990291</td>\n",
              "      <td>160721177.0</td>\n",
              "      <td>4.990291</td>\n",
              "      <td>0.0</td>\n",
              "      <td>4.990291</td>\n",
              "      <td>4.990291</td>\n",
              "      <td>4.990291</td>\n",
              "      <td>tcp</td>\n",
              "      <td>0.0</td>\n",
              "      <td>0.0</td>\n",
              "      <td>cs0</td>\n",
              "      <td>cs0</td>\n",
              "      <td>128.0</td>\n",
              "      <td>116.0</td>\n",
              "      <td>2307</td>\n",
              "      <td>1727610</td>\n",
              "      <td>0</td>\n",
              "      <td>0.0</td>\n",
              "      <td>2767158.00</td>\n",
              "      <td>0</td>\n",
              "      <td>0</td>\n",
              "      <td>0.0</td>\n",
              "      <td>0.0</td>\n",
              "      <td>462.097290</td>\n",
              "      <td>257.00000</td>\n",
              "      <td>2049.000000</td>\n",
              "      <td>0.000000</td>\n",
              "      <td>128</td>\n",
              "      <td>244.000000</td>\n",
              "      <td>0.000000</td>\n",
              "      <td>0.000000</td>\n",
              "      <td>2306.000000</td>\n",
              "    </tr>\n",
              "    <tr>\n",
              "      <th>2</th>\n",
              "      <td>4.992045</td>\n",
              "      <td>4.992045</td>\n",
              "      <td>160721177.0</td>\n",
              "      <td>4.992045</td>\n",
              "      <td>0.0</td>\n",
              "      <td>4.992045</td>\n",
              "      <td>4.992045</td>\n",
              "      <td>4.992045</td>\n",
              "      <td>tcp</td>\n",
              "      <td>0.0</td>\n",
              "      <td>0.0</td>\n",
              "      <td>cs0</td>\n",
              "      <td>cs0</td>\n",
              "      <td>128.0</td>\n",
              "      <td>117.0</td>\n",
              "      <td>104</td>\n",
              "      <td>105652</td>\n",
              "      <td>0</td>\n",
              "      <td>0.0</td>\n",
              "      <td>166913.00</td>\n",
              "      <td>0</td>\n",
              "      <td>0</td>\n",
              "      <td>0.0</td>\n",
              "      <td>0.0</td>\n",
              "      <td>20.632828</td>\n",
              "      <td>1024.00000</td>\n",
              "      <td>2049.000000</td>\n",
              "      <td>0.000000</td>\n",
              "      <td>348</td>\n",
              "      <td>245.000000</td>\n",
              "      <td>0.000000</td>\n",
              "      <td>0.000000</td>\n",
              "      <td>3073.000000</td>\n",
              "    </tr>\n",
              "    <tr>\n",
              "      <th>3</th>\n",
              "      <td>1.664235</td>\n",
              "      <td>1.664235</td>\n",
              "      <td>160721177.0</td>\n",
              "      <td>1.664235</td>\n",
              "      <td>0.0</td>\n",
              "      <td>1.664235</td>\n",
              "      <td>1.664235</td>\n",
              "      <td>1.664235</td>\n",
              "      <td>tcp</td>\n",
              "      <td>0.0</td>\n",
              "      <td>0.0</td>\n",
              "      <td>cs0</td>\n",
              "      <td>cs0</td>\n",
              "      <td>128.0</td>\n",
              "      <td>117.0</td>\n",
              "      <td>2</td>\n",
              "      <td>121</td>\n",
              "      <td>0</td>\n",
              "      <td>0.0</td>\n",
              "      <td>0.00</td>\n",
              "      <td>0</td>\n",
              "      <td>0</td>\n",
              "      <td>0.0</td>\n",
              "      <td>0.0</td>\n",
              "      <td>0.600877</td>\n",
              "      <td>257.00000</td>\n",
              "      <td>343.000000</td>\n",
              "      <td>0.000000</td>\n",
              "      <td>568</td>\n",
              "      <td>245.000000</td>\n",
              "      <td>0.000000</td>\n",
              "      <td>0.000000</td>\n",
              "      <td>600.000000</td>\n",
              "    </tr>\n",
              "    <tr>\n",
              "      <th>4</th>\n",
              "      <td>1.165944</td>\n",
              "      <td>1.165944</td>\n",
              "      <td>160721177.0</td>\n",
              "      <td>1.165944</td>\n",
              "      <td>0.0</td>\n",
              "      <td>1.165944</td>\n",
              "      <td>1.165944</td>\n",
              "      <td>1.165944</td>\n",
              "      <td>tcp</td>\n",
              "      <td>0.0</td>\n",
              "      <td>0.0</td>\n",
              "      <td>cs0</td>\n",
              "      <td>cs0</td>\n",
              "      <td>128.0</td>\n",
              "      <td>111.0</td>\n",
              "      <td>5</td>\n",
              "      <td>530</td>\n",
              "      <td>0</td>\n",
              "      <td>0.0</td>\n",
              "      <td>2449.51</td>\n",
              "      <td>0</td>\n",
              "      <td>0</td>\n",
              "      <td>0.0</td>\n",
              "      <td>0.0</td>\n",
              "      <td>3.430696</td>\n",
              "      <td>1019.00000</td>\n",
              "      <td>1024.000000</td>\n",
              "      <td>0.000000</td>\n",
              "      <td>776</td>\n",
              "      <td>239.000000</td>\n",
              "      <td>0.000000</td>\n",
              "      <td>0.000000</td>\n",
              "      <td>2043.000000</td>\n",
              "    </tr>\n",
              "    <tr>\n",
              "      <th>...</th>\n",
              "      <td>...</td>\n",
              "      <td>...</td>\n",
              "      <td>...</td>\n",
              "      <td>...</td>\n",
              "      <td>...</td>\n",
              "      <td>...</td>\n",
              "      <td>...</td>\n",
              "      <td>...</td>\n",
              "      <td>...</td>\n",
              "      <td>...</td>\n",
              "      <td>...</td>\n",
              "      <td>...</td>\n",
              "      <td>...</td>\n",
              "      <td>...</td>\n",
              "      <td>...</td>\n",
              "      <td>...</td>\n",
              "      <td>...</td>\n",
              "      <td>...</td>\n",
              "      <td>...</td>\n",
              "      <td>...</td>\n",
              "      <td>...</td>\n",
              "      <td>...</td>\n",
              "      <td>...</td>\n",
              "      <td>...</td>\n",
              "      <td>...</td>\n",
              "      <td>...</td>\n",
              "      <td>...</td>\n",
              "      <td>...</td>\n",
              "      <td>...</td>\n",
              "      <td>...</td>\n",
              "      <td>...</td>\n",
              "      <td>...</td>\n",
              "      <td>...</td>\n",
              "    </tr>\n",
              "    <tr>\n",
              "      <th>1051</th>\n",
              "      <td>3.624705</td>\n",
              "      <td>3.624705</td>\n",
              "      <td>160721177.0</td>\n",
              "      <td>3.624705</td>\n",
              "      <td>0.0</td>\n",
              "      <td>3.624705</td>\n",
              "      <td>3.624705</td>\n",
              "      <td>3.624705</td>\n",
              "      <td>tcp</td>\n",
              "      <td>0.0</td>\n",
              "      <td>0.0</td>\n",
              "      <td>cs0</td>\n",
              "      <td>cs0</td>\n",
              "      <td>128.0</td>\n",
              "      <td>54.0</td>\n",
              "      <td>614</td>\n",
              "      <td>691472</td>\n",
              "      <td>0</td>\n",
              "      <td>0.0</td>\n",
              "      <td>1522107.00</td>\n",
              "      <td>0</td>\n",
              "      <td>0</td>\n",
              "      <td>0.0</td>\n",
              "      <td>0.0</td>\n",
              "      <td>169.117203</td>\n",
              "      <td>537088.00000</td>\n",
              "      <td>10490.000000</td>\n",
              "      <td>0.169274</td>\n",
              "      <td>210524</td>\n",
              "      <td>182.000000</td>\n",
              "      <td>0.000000</td>\n",
              "      <td>0.000000</td>\n",
              "      <td>547578.000000</td>\n",
              "    </tr>\n",
              "    <tr>\n",
              "      <th>1052</th>\n",
              "      <td>0.078884</td>\n",
              "      <td>0.078884</td>\n",
              "      <td>160721177.0</td>\n",
              "      <td>0.078884</td>\n",
              "      <td>0.0</td>\n",
              "      <td>0.078884</td>\n",
              "      <td>0.078884</td>\n",
              "      <td>0.078884</td>\n",
              "      <td>tcp</td>\n",
              "      <td>0.0</td>\n",
              "      <td>0.0</td>\n",
              "      <td>cs0</td>\n",
              "      <td>cs0</td>\n",
              "      <td>128.0</td>\n",
              "      <td>54.0</td>\n",
              "      <td>4</td>\n",
              "      <td>3413</td>\n",
              "      <td>0</td>\n",
              "      <td>0.0</td>\n",
              "      <td>173114.00</td>\n",
              "      <td>0</td>\n",
              "      <td>0</td>\n",
              "      <td>0.0</td>\n",
              "      <td>0.0</td>\n",
              "      <td>38.030525</td>\n",
              "      <td>10913.00000</td>\n",
              "      <td>10490.000000</td>\n",
              "      <td>0.146469</td>\n",
              "      <td>210744</td>\n",
              "      <td>182.000000</td>\n",
              "      <td>0.000000</td>\n",
              "      <td>0.000000</td>\n",
              "      <td>21403.000000</td>\n",
              "    </tr>\n",
              "    <tr>\n",
              "      <th>1053</th>\n",
              "      <td>0.349643</td>\n",
              "      <td>0.349643</td>\n",
              "      <td>160721177.0</td>\n",
              "      <td>0.349643</td>\n",
              "      <td>0.0</td>\n",
              "      <td>0.349643</td>\n",
              "      <td>0.349643</td>\n",
              "      <td>0.349643</td>\n",
              "      <td>udp</td>\n",
              "      <td>0.0</td>\n",
              "      <td>128.0</td>\n",
              "      <td>cs0</td>\n",
              "      <td>cs4</td>\n",
              "      <td>128.0</td>\n",
              "      <td>55.0</td>\n",
              "      <td>6</td>\n",
              "      <td>1174</td>\n",
              "      <td>0</td>\n",
              "      <td>0.0</td>\n",
              "      <td>17297.60</td>\n",
              "      <td>0</td>\n",
              "      <td>0</td>\n",
              "      <td>NaN</td>\n",
              "      <td>NaN</td>\n",
              "      <td>14.300301</td>\n",
              "      <td>37838.13449</td>\n",
              "      <td>24724.927233</td>\n",
              "      <td>0.000000</td>\n",
              "      <td>210956</td>\n",
              "      <td>183.000000</td>\n",
              "      <td>128.000000</td>\n",
              "      <td>28.090815</td>\n",
              "      <td>62563.061723</td>\n",
              "    </tr>\n",
              "    <tr>\n",
              "      <th>1054</th>\n",
              "      <td>0.081182</td>\n",
              "      <td>0.081182</td>\n",
              "      <td>160721177.0</td>\n",
              "      <td>0.081182</td>\n",
              "      <td>0.0</td>\n",
              "      <td>0.081182</td>\n",
              "      <td>0.081182</td>\n",
              "      <td>0.081182</td>\n",
              "      <td>tcp</td>\n",
              "      <td>0.0</td>\n",
              "      <td>0.0</td>\n",
              "      <td>cs0</td>\n",
              "      <td>cs0</td>\n",
              "      <td>128.0</td>\n",
              "      <td>117.0</td>\n",
              "      <td>2</td>\n",
              "      <td>121</td>\n",
              "      <td>0</td>\n",
              "      <td>0.0</td>\n",
              "      <td>0.00</td>\n",
              "      <td>1</td>\n",
              "      <td>0</td>\n",
              "      <td>0.0</td>\n",
              "      <td>0.0</td>\n",
              "      <td>12.318001</td>\n",
              "      <td>66048.00000</td>\n",
              "      <td>70144.000000</td>\n",
              "      <td>0.337372</td>\n",
              "      <td>211052</td>\n",
              "      <td>245.000000</td>\n",
              "      <td>0.000000</td>\n",
              "      <td>0.000000</td>\n",
              "      <td>136192.000000</td>\n",
              "    </tr>\n",
              "    <tr>\n",
              "      <th>1055</th>\n",
              "      <td>1.016783</td>\n",
              "      <td>2.574102</td>\n",
              "      <td>160721177.0</td>\n",
              "      <td>2.574102</td>\n",
              "      <td>0.0</td>\n",
              "      <td>2.574102</td>\n",
              "      <td>2.574102</td>\n",
              "      <td>2.574102</td>\n",
              "      <td>man</td>\n",
              "      <td>NaN</td>\n",
              "      <td>NaN</td>\n",
              "      <td>NaN</td>\n",
              "      <td>NaN</td>\n",
              "      <td>NaN</td>\n",
              "      <td>NaN</td>\n",
              "      <td>0</td>\n",
              "      <td>11299400</td>\n",
              "      <td>11299400</td>\n",
              "      <td>0.0</td>\n",
              "      <td>0.00</td>\n",
              "      <td>0</td>\n",
              "      <td>0</td>\n",
              "      <td>NaN</td>\n",
              "      <td>NaN</td>\n",
              "      <td>0.000000</td>\n",
              "      <td>37838.13449</td>\n",
              "      <td>24724.927233</td>\n",
              "      <td>0.000000</td>\n",
              "      <td>211052</td>\n",
              "      <td>232.627816</td>\n",
              "      <td>30.495593</td>\n",
              "      <td>28.090815</td>\n",
              "      <td>62563.061723</td>\n",
              "    </tr>\n",
              "  </tbody>\n",
              "</table>\n",
              "<p>1056 rows × 33 columns</p>\n",
              "</div>"
            ],
            "text/plain": [
              "           Dur   RunTime     IdleTime  ...         Tos        Gap            win\n",
              "0     0.010984  2.574102  160721177.0  ...   30.495593  28.090815   62563.061723\n",
              "1     4.990291  4.990291  160721177.0  ...    0.000000   0.000000    2306.000000\n",
              "2     4.992045  4.992045  160721177.0  ...    0.000000   0.000000    3073.000000\n",
              "3     1.664235  1.664235  160721177.0  ...    0.000000   0.000000     600.000000\n",
              "4     1.165944  1.165944  160721177.0  ...    0.000000   0.000000    2043.000000\n",
              "...        ...       ...          ...  ...         ...        ...            ...\n",
              "1051  3.624705  3.624705  160721177.0  ...    0.000000   0.000000  547578.000000\n",
              "1052  0.078884  0.078884  160721177.0  ...    0.000000   0.000000   21403.000000\n",
              "1053  0.349643  0.349643  160721177.0  ...  128.000000  28.090815   62563.061723\n",
              "1054  0.081182  0.081182  160721177.0  ...    0.000000   0.000000  136192.000000\n",
              "1055  1.016783  2.574102  160721177.0  ...   30.495593  28.090815   62563.061723\n",
              "\n",
              "[1056 rows x 33 columns]"
            ]
          },
          "metadata": {
            "tags": []
          },
          "execution_count": 9
        }
      ]
    },
    {
      "cell_type": "code",
      "metadata": {
        "id": "j2Nu3r0MozPN"
      },
      "source": [
        "# Pipeline_preprocess(Ntest)\n",
        "def ringo(df):\n",
        "    df.drop(columns=['dDSb','sDSb'],inplace=True,axis=1)\n",
        "    df.drop(columns=['SrcGap','DstGap'],inplace=True)\n",
        "    df.drop(columns=['DstWin','dstUdata          SrcWin'],inplace=True)\n",
        "    df.drop(columns=['Min','Max','Sum','Dur','Mean','StdDev','IdleTime','Retrans','PCRatio','TotAppByte'],inplace=True)\n",
        "    df.drop(columns=['sTtl','dTtl'],inplace=True)\n",
        "    df.drop(columns=['sTos','dTos'],inplace=True)\n",
        "    df.drop(columns=['sMpls    dMpls    NStrok  TotPkts','Rate      SIntPkt      DIntPkt    SrcJitter    DstJitter         srcUdata'],inplace=True,axis=1)\n",
        "\n",
        "# ringo(utube)\n",
        "# ringo(daily)\n",
        "# ringo(webex)\n",
        "# ringo(gmeet)\n",
        "# ringo(netf)\n",
        "# ringo(prime)\n",
        "ringo(Ntest)\n",
        "ringo(Gtest)"
      ],
      "execution_count": null,
      "outputs": []
    },
    {
      "cell_type": "code",
      "metadata": {
        "colab": {
          "base_uri": "https://localhost:8080/"
        },
        "id": "dYWnb0pRUcyz",
        "outputId": "b7b368a9-199b-42dd-fdb5-4e32ac661651"
      },
      "source": [
        "Ntest.shape"
      ],
      "execution_count": null,
      "outputs": [
        {
          "output_type": "execute_result",
          "data": {
            "text/plain": [
              "(1056, 11)"
            ]
          },
          "metadata": {
            "tags": []
          },
          "execution_count": 11
        }
      ]
    },
    {
      "cell_type": "code",
      "metadata": {
        "colab": {
          "base_uri": "https://localhost:8080/"
        },
        "id": "GbosPXVCU1Xt",
        "outputId": "56c60eba-621e-42fd-d309-52d1697f3c55"
      },
      "source": [
        "Gtest.shape"
      ],
      "execution_count": null,
      "outputs": [
        {
          "output_type": "execute_result",
          "data": {
            "text/plain": [
              "(4174, 11)"
            ]
          },
          "metadata": {
            "tags": []
          },
          "execution_count": 12
        }
      ]
    },
    {
      "cell_type": "markdown",
      "metadata": {
        "id": "WRNHMhvoXcKf"
      },
      "source": [
        "# check missing values"
      ]
    },
    {
      "cell_type": "code",
      "metadata": {
        "colab": {
          "base_uri": "https://localhost:8080/"
        },
        "id": "FUdlGz5Bu-lt",
        "outputId": "f801d4d2-7726-431b-c5a8-bf3443801ae1"
      },
      "source": [
        "def check_na(df):\n",
        "  return df.isna().sum()\n",
        "print(check_na(gmeet))    # one at a time\n",
        "print(check_na(webex))\n",
        "print(check_na(utube))\n",
        "print(check_na(daily))\n",
        "print(check_na(netflix))\n",
        "print(check_na(prime))"
      ],
      "execution_count": null,
      "outputs": [
        {
          "output_type": "stream",
          "text": [
            "RunTime     0\n",
            "Proto       0\n",
            "TotBytes    0\n",
            "Load        0\n",
            "Loss        0\n",
            "TcpRtt      0\n",
            "Offset      0\n",
            "Ttl         0\n",
            "Tos         0\n",
            "Gap         0\n",
            "win         0\n",
            "dtype: int64\n",
            "RunTime     0\n",
            "Proto       0\n",
            "TotBytes    0\n",
            "Load        0\n",
            "Loss        0\n",
            "TcpRtt      0\n",
            "Offset      0\n",
            "Ttl         0\n",
            "Tos         0\n",
            "Gap         0\n",
            "win         0\n",
            "dtype: int64\n",
            "RunTime     0\n",
            "Proto       0\n",
            "TotBytes    0\n",
            "Load        0\n",
            "Loss        0\n",
            "TcpRtt      0\n",
            "Offset      0\n",
            "Ttl         0\n",
            "Tos         0\n",
            "Gap         0\n",
            "win         0\n",
            "dtype: int64\n",
            "RunTime     0\n",
            "Proto       0\n",
            "TotBytes    0\n",
            "Load        0\n",
            "Loss        0\n",
            "TcpRtt      0\n",
            "Offset      0\n",
            "Ttl         0\n",
            "Tos         0\n",
            "Gap         0\n",
            "win         0\n",
            "dtype: int64\n",
            "RunTime     0\n",
            "Proto       0\n",
            "TotBytes    0\n",
            "Load        0\n",
            "Loss        0\n",
            "TcpRtt      0\n",
            "Offset      0\n",
            "Ttl         0\n",
            "Tos         0\n",
            "Gap         0\n",
            "win         0\n",
            "dtype: int64\n",
            "RunTime     0\n",
            "Proto       0\n",
            "TotBytes    0\n",
            "Load        0\n",
            "Loss        0\n",
            "TcpRtt      0\n",
            "Offset      0\n",
            "Ttl         0\n",
            "Tos         0\n",
            "Gap         0\n",
            "win         0\n",
            "dtype: int64\n"
          ],
          "name": "stdout"
        }
      ]
    },
    {
      "cell_type": "code",
      "metadata": {
        "colab": {
          "base_uri": "https://localhost:8080/"
        },
        "id": "492wkkz-vFig",
        "outputId": "81f3d9d2-43c3-44ff-d2f0-486a4e5f0289"
      },
      "source": [
        "utube['Proto'].unique()"
      ],
      "execution_count": null,
      "outputs": [
        {
          "output_type": "execute_result",
          "data": {
            "text/plain": [
              "array(['man', 'udp', 'tcp', 'ipv6', 'igmp', 'icmp', 'arp'], dtype=object)"
            ]
          },
          "metadata": {
            "tags": []
          },
          "execution_count": 21
        }
      ]
    },
    {
      "cell_type": "code",
      "metadata": {
        "colab": {
          "base_uri": "https://localhost:8080/"
        },
        "id": "IIqBpEkuZd6a",
        "outputId": "5a62884e-644c-4566-d1a1-32cad564ffbe"
      },
      "source": [
        "# removing first and last row of each stream service (already first col removed while preprocessing).\n",
        "gmeet=gmeet[:-1]\n",
        "webex=webex[:-1]\n",
        "utube=utube[:-1]\n",
        "# utube2=utube2[:-1]\n",
        "daily=daily[:-1]\n",
        "prime=prime[:-1]\n",
        "netflix=netflix[:-1]\n",
        "# utube=utube.append(utube2,ignore_index=True)\n",
        "print(len(utube))\n",
        "#decided to remove 'retrans' and 'PCRatio', 'TotAppByte' due to redundancy or good to say highly correlated \n",
        "netflix.isna().sum()  # double-check done :)"
      ],
      "execution_count": null,
      "outputs": [
        {
          "output_type": "stream",
          "text": [
            "24203\n"
          ],
          "name": "stdout"
        },
        {
          "output_type": "execute_result",
          "data": {
            "text/plain": [
              "RunTime     0\n",
              "Proto       0\n",
              "TotBytes    0\n",
              "Load        0\n",
              "Loss        0\n",
              "TcpRtt      0\n",
              "Offset      0\n",
              "Ttl         0\n",
              "Tos         0\n",
              "Gap         0\n",
              "win         0\n",
              "dtype: int64"
            ]
          },
          "metadata": {
            "tags": []
          },
          "execution_count": 22
        }
      ]
    },
    {
      "cell_type": "code",
      "metadata": {
        "id": "YUGd3EwgVJkN"
      },
      "source": [
        "Gtest=Gtest[:-1]\n",
        "Ntest=Ntest[:-1]"
      ],
      "execution_count": null,
      "outputs": []
    },
    {
      "cell_type": "code",
      "metadata": {
        "id": "Q5OCT5XAUzCZ"
      },
      "source": [
        ""
      ],
      "execution_count": null,
      "outputs": []
    },
    {
      "cell_type": "markdown",
      "metadata": {
        "id": "E1SCbFGRxz74"
      },
      "source": [
        "# No arp"
      ]
    },
    {
      "cell_type": "code",
      "metadata": {
        "id": "Rzvz1SeqvM47"
      },
      "source": [
        "def No_arp(df):\n",
        "  df.drop(df[df['Proto']=='arp'].index,inplace=True)"
      ],
      "execution_count": null,
      "outputs": []
    },
    {
      "cell_type": "code",
      "metadata": {
        "colab": {
          "base_uri": "https://localhost:8080/"
        },
        "id": "HrMqC98wWog1",
        "outputId": "ff9696bb-efbb-4833-ec1e-c8d08f74f51b"
      },
      "source": [
        "No_arp(webex)\n",
        "No_arp(gmeet)\n",
        "No_arp(prime)\n",
        "No_arp(utube)\n",
        "No_arp(daily)\n",
        "No_arp(netflix)\n",
        "utube['Proto'].unique()  # double-check done :)"
      ],
      "execution_count": null,
      "outputs": [
        {
          "output_type": "stream",
          "text": [
            "/usr/local/lib/python3.6/dist-packages/pandas/core/frame.py:4174: SettingWithCopyWarning: \n",
            "A value is trying to be set on a copy of a slice from a DataFrame\n",
            "\n",
            "See the caveats in the documentation: https://pandas.pydata.org/pandas-docs/stable/user_guide/indexing.html#returning-a-view-versus-a-copy\n",
            "  errors=errors,\n"
          ],
          "name": "stderr"
        },
        {
          "output_type": "execute_result",
          "data": {
            "text/plain": [
              "array(['man', 'udp', 'tcp', 'ipv6', 'igmp', 'icmp'], dtype=object)"
            ]
          },
          "metadata": {
            "tags": []
          },
          "execution_count": 24
        }
      ]
    },
    {
      "cell_type": "code",
      "metadata": {
        "colab": {
          "base_uri": "https://localhost:8080/"
        },
        "id": "0Js3HsystRMc",
        "outputId": "e916a011-6523-452a-87bd-ff4c111ba213"
      },
      "source": [
        "No_arp(Ntest)"
      ],
      "execution_count": null,
      "outputs": [
        {
          "output_type": "stream",
          "text": [
            "/usr/local/lib/python3.6/dist-packages/pandas/core/frame.py:4174: SettingWithCopyWarning: \n",
            "A value is trying to be set on a copy of a slice from a DataFrame\n",
            "\n",
            "See the caveats in the documentation: https://pandas.pydata.org/pandas-docs/stable/user_guide/indexing.html#returning-a-view-versus-a-copy\n",
            "  errors=errors,\n"
          ],
          "name": "stderr"
        }
      ]
    },
    {
      "cell_type": "markdown",
      "metadata": {
        "id": "dxUFpLBeyIEw"
      },
      "source": [
        "#Label_encode for proto (done after whole dataset is arranged) but just run it"
      ]
    },
    {
      "cell_type": "code",
      "metadata": {
        "id": "2AQnm37Lv4Mu"
      },
      "source": [
        "from sklearn.preprocessing import LabelEncoder\n",
        "def Label_encode(df):\n",
        "  lb_make = LabelEncoder()\n",
        "  df['Proto'] = lb_make.fit_transform(df[\"Proto\"])\n",
        "\n"
      ],
      "execution_count": null,
      "outputs": []
    },
    {
      "cell_type": "markdown",
      "metadata": {
        "id": "ZYgwhteK1Nlf"
      },
      "source": [
        "# binning (2 parameters column, bin_size) For each video service\n"
      ]
    },
    {
      "cell_type": "code",
      "metadata": {
        "id": "74-h1g6k1RUe"
      },
      "source": [
        "class binning:\n",
        "  def bin_means(self,a,bin_size):\n",
        "    mn,cnt,x=[],0,0\n",
        "    for i in range(0,len(a),bin_size):\n",
        "      sum=0\n",
        "      if i+bin_size < len(a):\n",
        "        for num in a[i:i+bin_size]:\n",
        "          sum+=num\n",
        "        sum/=bin_size\n",
        "        mn+=[sum for x in range(bin_size)]\n",
        "      else:\n",
        "        for num in a[i:len(a)]:\n",
        "          sum+=num\n",
        "        sum/=(len(a)-i)\n",
        "        mn+=[sum for x in range(len(a)-i)]\n",
        "    return mn\n",
        "\n",
        "\n",
        "  def bin_median(self,a,bin_size):\n",
        "    mdn,cnt,x=[],0,0\n",
        "    for i in range(0,len(a),bin_size):\n",
        "      b=sorted(a)\n",
        "      if i+bin_size > len(b):\n",
        "        size=len(b)-i\n",
        "      else:\n",
        "        size=bin_size\n",
        "      if size%2==0:\n",
        "          y=int(size/2)\n",
        "          median=((b[y-1+i]+b[y+i])/2)\n",
        "      else:\n",
        "        y=int((size+1)/2)\n",
        "        median=(b[y-1+i]/2)\n",
        "      mdn+=[median for i in range(size)]\n",
        "    return mdn\n",
        "\n",
        "\n",
        "  def bin_boundry(self,a,bin_size):\n",
        "    b,x=[],0\n",
        "    for i in range(0,len(a),bin_size):\n",
        "      if i+bin_size<len(a):\n",
        "        x=i+bin_size\n",
        "      else:\n",
        "        x=len(a)\n",
        "      mn=min(a[i:x])\n",
        "      mx=max(a[i:x])\n",
        "      for num in a[i:x]:\n",
        "        diff1=num-mn\n",
        "        diff2=mx-num\n",
        "        if diff1 <diff2:\n",
        "          b.append(mn)\n",
        "        else:\n",
        "          b.append(mx)\n",
        "    return b\n",
        "\n",
        "\n",
        "  def bin_var(self,a,bin_size):\n",
        "    var=[]\n",
        "    for i in range(0,len(a),bin_size):\n",
        "      sum,cnt=0,0\n",
        "      if i+bin_size < len(a):\n",
        "        x=i+bin_size\n",
        "        cnt=1\n",
        "        mn=self.bin_means(a[i:x],bin_size)\n",
        "      else:\n",
        "        cnt=0\n",
        "        x=len(a)\n",
        "        mn=self.bin_means(a[i:x],len(a)-i)\n",
        "      for (num,bin) in zip(a[i:x],mn):\n",
        "        sum+=(num-bin)**2\n",
        "      sum/=(x-i)\n",
        "      if cnt==1:\n",
        "        var+=[sum for x in range(bin_size)]\n",
        "      else:\n",
        "        var+=[sum for x in range(len(a)-i)]\n",
        "    return var\n",
        "\n",
        "bin=binning()\n",
        "def Binning(df):\n",
        "  #df['Proto']=bin.bin_means(df['Proto'],5)  will be done at last\n",
        "  df['TotBytes_mean']=bin.bin_means(df['TotBytes'],5)\n",
        "  df['TotBytes_var']=bin.bin_var(df['TotBytes'],5)\n",
        "  df['TotBytes_bndry']=bin.bin_boundry(df['TotBytes'],5)\n",
        "  df['Load_var']=bin.bin_var(df['Load'],5)\n",
        "  df['Load_mean']=bin.bin_means(df['Load'],5)\n",
        "  df['Load_bndry']=bin.bin_boundry(df['Load'],5)\n",
        "  df['Loss_mean']=bin.bin_means(df['Loss'],5)\n",
        "  df['Loss_var']=bin.bin_var(df['Loss'],5)\n",
        "  df['Loss_bndry']=bin.bin_boundry(df['Loss'],5)\n",
        "  # df['sMpls    dMpls    NStrok  TotPkts_mean']=bin.bin_means(df['sMpls    dMpls    NStrok  TotPkts'],5)\n",
        "  # df['sMpls    dMpls    NStrok  TotPkts_var']=bin.bin_var(df['sMpls    dMpls    NStrok  TotPkts'],5)\n",
        "  # df['sMpls    dMpls    NStrok  TotPkts_bndry']=bin.bin_boundry(df['sMpls    dMpls    NStrok  TotPkts'],5)\n",
        "  # df['Rate      SIntPkt      DIntPkt    SrcJitter    DstJitter         srcUdata_mean']=bin.bin_means(df['Rate      SIntPkt      DIntPkt    SrcJitter    DstJitter         srcUdata'],5)\n",
        "  # df['Rate      SIntPkt      DIntPkt    SrcJitter    DstJitter         srcUdata_bndry']=bin.bin_boundry(df['Rate      SIntPkt      DIntPkt    SrcJitter    DstJitter         srcUdata'],5)\n",
        "  df['Ttl_mean']=bin.bin_means(df['Ttl'],5)\n",
        "  df['Ttl_var']=bin.bin_var(df['Ttl'],5)\n",
        "  df['Ttl_bndry']=bin.bin_boundry(df['Ttl'],5)\n",
        "  df['Tos_mean']=bin.bin_means(df['Tos'],5)\n",
        "  df['Tos_var']=bin.bin_var(df['Tos'],5)\n",
        "  df['Tos_bndry']=bin.bin_boundry(df['Tos'],5)\n",
        "  df['win_mean']=bin.bin_means(df['win'],5)\n",
        "  df['Gap_mean']=bin.bin_means(df['Gap'],5)\n",
        "  df['Offset_mean']=bin.bin_means(df['Offset'],5)\n",
        "  df['rtt_mean']=bin.bin_means(df['TcpRtt'],5)\n",
        "  return df\n"
      ],
      "execution_count": null,
      "outputs": []
    },
    {
      "cell_type": "code",
      "metadata": {
        "colab": {
          "base_uri": "https://localhost:8080/"
        },
        "id": "qWvbGPSH7bQE",
        "outputId": "5ebb54bb-fb92-4a20-d7d7-0ffc1765687a"
      },
      "source": [
        "for df_tmp in [utube,daily,netflix,prime,webex,gmeet]:\n",
        "  Binning(df_tmp)"
      ],
      "execution_count": null,
      "outputs": [
        {
          "output_type": "stream",
          "text": [
            "/usr/local/lib/python3.6/dist-packages/ipykernel_launcher.py:80: SettingWithCopyWarning: \n",
            "A value is trying to be set on a copy of a slice from a DataFrame.\n",
            "Try using .loc[row_indexer,col_indexer] = value instead\n",
            "\n",
            "See the caveats in the documentation: https://pandas.pydata.org/pandas-docs/stable/user_guide/indexing.html#returning-a-view-versus-a-copy\n",
            "/usr/local/lib/python3.6/dist-packages/ipykernel_launcher.py:81: SettingWithCopyWarning: \n",
            "A value is trying to be set on a copy of a slice from a DataFrame.\n",
            "Try using .loc[row_indexer,col_indexer] = value instead\n",
            "\n",
            "See the caveats in the documentation: https://pandas.pydata.org/pandas-docs/stable/user_guide/indexing.html#returning-a-view-versus-a-copy\n",
            "/usr/local/lib/python3.6/dist-packages/ipykernel_launcher.py:82: SettingWithCopyWarning: \n",
            "A value is trying to be set on a copy of a slice from a DataFrame.\n",
            "Try using .loc[row_indexer,col_indexer] = value instead\n",
            "\n",
            "See the caveats in the documentation: https://pandas.pydata.org/pandas-docs/stable/user_guide/indexing.html#returning-a-view-versus-a-copy\n",
            "/usr/local/lib/python3.6/dist-packages/ipykernel_launcher.py:83: SettingWithCopyWarning: \n",
            "A value is trying to be set on a copy of a slice from a DataFrame.\n",
            "Try using .loc[row_indexer,col_indexer] = value instead\n",
            "\n",
            "See the caveats in the documentation: https://pandas.pydata.org/pandas-docs/stable/user_guide/indexing.html#returning-a-view-versus-a-copy\n",
            "/usr/local/lib/python3.6/dist-packages/ipykernel_launcher.py:84: SettingWithCopyWarning: \n",
            "A value is trying to be set on a copy of a slice from a DataFrame.\n",
            "Try using .loc[row_indexer,col_indexer] = value instead\n",
            "\n",
            "See the caveats in the documentation: https://pandas.pydata.org/pandas-docs/stable/user_guide/indexing.html#returning-a-view-versus-a-copy\n",
            "/usr/local/lib/python3.6/dist-packages/ipykernel_launcher.py:85: SettingWithCopyWarning: \n",
            "A value is trying to be set on a copy of a slice from a DataFrame.\n",
            "Try using .loc[row_indexer,col_indexer] = value instead\n",
            "\n",
            "See the caveats in the documentation: https://pandas.pydata.org/pandas-docs/stable/user_guide/indexing.html#returning-a-view-versus-a-copy\n",
            "/usr/local/lib/python3.6/dist-packages/ipykernel_launcher.py:86: SettingWithCopyWarning: \n",
            "A value is trying to be set on a copy of a slice from a DataFrame.\n",
            "Try using .loc[row_indexer,col_indexer] = value instead\n",
            "\n",
            "See the caveats in the documentation: https://pandas.pydata.org/pandas-docs/stable/user_guide/indexing.html#returning-a-view-versus-a-copy\n",
            "/usr/local/lib/python3.6/dist-packages/ipykernel_launcher.py:87: SettingWithCopyWarning: \n",
            "A value is trying to be set on a copy of a slice from a DataFrame.\n",
            "Try using .loc[row_indexer,col_indexer] = value instead\n",
            "\n",
            "See the caveats in the documentation: https://pandas.pydata.org/pandas-docs/stable/user_guide/indexing.html#returning-a-view-versus-a-copy\n",
            "/usr/local/lib/python3.6/dist-packages/ipykernel_launcher.py:88: SettingWithCopyWarning: \n",
            "A value is trying to be set on a copy of a slice from a DataFrame.\n",
            "Try using .loc[row_indexer,col_indexer] = value instead\n",
            "\n",
            "See the caveats in the documentation: https://pandas.pydata.org/pandas-docs/stable/user_guide/indexing.html#returning-a-view-versus-a-copy\n",
            "/usr/local/lib/python3.6/dist-packages/ipykernel_launcher.py:94: SettingWithCopyWarning: \n",
            "A value is trying to be set on a copy of a slice from a DataFrame.\n",
            "Try using .loc[row_indexer,col_indexer] = value instead\n",
            "\n",
            "See the caveats in the documentation: https://pandas.pydata.org/pandas-docs/stable/user_guide/indexing.html#returning-a-view-versus-a-copy\n",
            "/usr/local/lib/python3.6/dist-packages/ipykernel_launcher.py:95: SettingWithCopyWarning: \n",
            "A value is trying to be set on a copy of a slice from a DataFrame.\n",
            "Try using .loc[row_indexer,col_indexer] = value instead\n",
            "\n",
            "See the caveats in the documentation: https://pandas.pydata.org/pandas-docs/stable/user_guide/indexing.html#returning-a-view-versus-a-copy\n",
            "/usr/local/lib/python3.6/dist-packages/ipykernel_launcher.py:96: SettingWithCopyWarning: \n",
            "A value is trying to be set on a copy of a slice from a DataFrame.\n",
            "Try using .loc[row_indexer,col_indexer] = value instead\n",
            "\n",
            "See the caveats in the documentation: https://pandas.pydata.org/pandas-docs/stable/user_guide/indexing.html#returning-a-view-versus-a-copy\n",
            "/usr/local/lib/python3.6/dist-packages/ipykernel_launcher.py:97: SettingWithCopyWarning: \n",
            "A value is trying to be set on a copy of a slice from a DataFrame.\n",
            "Try using .loc[row_indexer,col_indexer] = value instead\n",
            "\n",
            "See the caveats in the documentation: https://pandas.pydata.org/pandas-docs/stable/user_guide/indexing.html#returning-a-view-versus-a-copy\n",
            "/usr/local/lib/python3.6/dist-packages/ipykernel_launcher.py:98: SettingWithCopyWarning: \n",
            "A value is trying to be set on a copy of a slice from a DataFrame.\n",
            "Try using .loc[row_indexer,col_indexer] = value instead\n",
            "\n",
            "See the caveats in the documentation: https://pandas.pydata.org/pandas-docs/stable/user_guide/indexing.html#returning-a-view-versus-a-copy\n",
            "/usr/local/lib/python3.6/dist-packages/ipykernel_launcher.py:99: SettingWithCopyWarning: \n",
            "A value is trying to be set on a copy of a slice from a DataFrame.\n",
            "Try using .loc[row_indexer,col_indexer] = value instead\n",
            "\n",
            "See the caveats in the documentation: https://pandas.pydata.org/pandas-docs/stable/user_guide/indexing.html#returning-a-view-versus-a-copy\n",
            "/usr/local/lib/python3.6/dist-packages/ipykernel_launcher.py:100: SettingWithCopyWarning: \n",
            "A value is trying to be set on a copy of a slice from a DataFrame.\n",
            "Try using .loc[row_indexer,col_indexer] = value instead\n",
            "\n",
            "See the caveats in the documentation: https://pandas.pydata.org/pandas-docs/stable/user_guide/indexing.html#returning-a-view-versus-a-copy\n",
            "/usr/local/lib/python3.6/dist-packages/ipykernel_launcher.py:101: SettingWithCopyWarning: \n",
            "A value is trying to be set on a copy of a slice from a DataFrame.\n",
            "Try using .loc[row_indexer,col_indexer] = value instead\n",
            "\n",
            "See the caveats in the documentation: https://pandas.pydata.org/pandas-docs/stable/user_guide/indexing.html#returning-a-view-versus-a-copy\n",
            "/usr/local/lib/python3.6/dist-packages/ipykernel_launcher.py:102: SettingWithCopyWarning: \n",
            "A value is trying to be set on a copy of a slice from a DataFrame.\n",
            "Try using .loc[row_indexer,col_indexer] = value instead\n",
            "\n",
            "See the caveats in the documentation: https://pandas.pydata.org/pandas-docs/stable/user_guide/indexing.html#returning-a-view-versus-a-copy\n",
            "/usr/local/lib/python3.6/dist-packages/ipykernel_launcher.py:103: SettingWithCopyWarning: \n",
            "A value is trying to be set on a copy of a slice from a DataFrame.\n",
            "Try using .loc[row_indexer,col_indexer] = value instead\n",
            "\n",
            "See the caveats in the documentation: https://pandas.pydata.org/pandas-docs/stable/user_guide/indexing.html#returning-a-view-versus-a-copy\n"
          ],
          "name": "stderr"
        }
      ]
    },
    {
      "cell_type": "code",
      "metadata": {
        "colab": {
          "base_uri": "https://localhost:8080/",
          "height": 1000
        },
        "id": "prqGD9uHVr37",
        "outputId": "6abff33b-bc21-4f16-def2-eb879d13c8c1"
      },
      "source": [
        "Binning(Gtest)\n",
        "Binning(Ntest)"
      ],
      "execution_count": null,
      "outputs": [
        {
          "output_type": "stream",
          "text": [
            "/usr/local/lib/python3.6/dist-packages/ipykernel_launcher.py:80: SettingWithCopyWarning: \n",
            "A value is trying to be set on a copy of a slice from a DataFrame.\n",
            "Try using .loc[row_indexer,col_indexer] = value instead\n",
            "\n",
            "See the caveats in the documentation: https://pandas.pydata.org/pandas-docs/stable/user_guide/indexing.html#returning-a-view-versus-a-copy\n",
            "/usr/local/lib/python3.6/dist-packages/ipykernel_launcher.py:81: SettingWithCopyWarning: \n",
            "A value is trying to be set on a copy of a slice from a DataFrame.\n",
            "Try using .loc[row_indexer,col_indexer] = value instead\n",
            "\n",
            "See the caveats in the documentation: https://pandas.pydata.org/pandas-docs/stable/user_guide/indexing.html#returning-a-view-versus-a-copy\n",
            "/usr/local/lib/python3.6/dist-packages/ipykernel_launcher.py:82: SettingWithCopyWarning: \n",
            "A value is trying to be set on a copy of a slice from a DataFrame.\n",
            "Try using .loc[row_indexer,col_indexer] = value instead\n",
            "\n",
            "See the caveats in the documentation: https://pandas.pydata.org/pandas-docs/stable/user_guide/indexing.html#returning-a-view-versus-a-copy\n",
            "/usr/local/lib/python3.6/dist-packages/ipykernel_launcher.py:83: SettingWithCopyWarning: \n",
            "A value is trying to be set on a copy of a slice from a DataFrame.\n",
            "Try using .loc[row_indexer,col_indexer] = value instead\n",
            "\n",
            "See the caveats in the documentation: https://pandas.pydata.org/pandas-docs/stable/user_guide/indexing.html#returning-a-view-versus-a-copy\n",
            "/usr/local/lib/python3.6/dist-packages/ipykernel_launcher.py:84: SettingWithCopyWarning: \n",
            "A value is trying to be set on a copy of a slice from a DataFrame.\n",
            "Try using .loc[row_indexer,col_indexer] = value instead\n",
            "\n",
            "See the caveats in the documentation: https://pandas.pydata.org/pandas-docs/stable/user_guide/indexing.html#returning-a-view-versus-a-copy\n",
            "/usr/local/lib/python3.6/dist-packages/ipykernel_launcher.py:85: SettingWithCopyWarning: \n",
            "A value is trying to be set on a copy of a slice from a DataFrame.\n",
            "Try using .loc[row_indexer,col_indexer] = value instead\n",
            "\n",
            "See the caveats in the documentation: https://pandas.pydata.org/pandas-docs/stable/user_guide/indexing.html#returning-a-view-versus-a-copy\n",
            "/usr/local/lib/python3.6/dist-packages/ipykernel_launcher.py:86: SettingWithCopyWarning: \n",
            "A value is trying to be set on a copy of a slice from a DataFrame.\n",
            "Try using .loc[row_indexer,col_indexer] = value instead\n",
            "\n",
            "See the caveats in the documentation: https://pandas.pydata.org/pandas-docs/stable/user_guide/indexing.html#returning-a-view-versus-a-copy\n",
            "/usr/local/lib/python3.6/dist-packages/ipykernel_launcher.py:87: SettingWithCopyWarning: \n",
            "A value is trying to be set on a copy of a slice from a DataFrame.\n",
            "Try using .loc[row_indexer,col_indexer] = value instead\n",
            "\n",
            "See the caveats in the documentation: https://pandas.pydata.org/pandas-docs/stable/user_guide/indexing.html#returning-a-view-versus-a-copy\n",
            "/usr/local/lib/python3.6/dist-packages/ipykernel_launcher.py:88: SettingWithCopyWarning: \n",
            "A value is trying to be set on a copy of a slice from a DataFrame.\n",
            "Try using .loc[row_indexer,col_indexer] = value instead\n",
            "\n",
            "See the caveats in the documentation: https://pandas.pydata.org/pandas-docs/stable/user_guide/indexing.html#returning-a-view-versus-a-copy\n",
            "/usr/local/lib/python3.6/dist-packages/ipykernel_launcher.py:94: SettingWithCopyWarning: \n",
            "A value is trying to be set on a copy of a slice from a DataFrame.\n",
            "Try using .loc[row_indexer,col_indexer] = value instead\n",
            "\n",
            "See the caveats in the documentation: https://pandas.pydata.org/pandas-docs/stable/user_guide/indexing.html#returning-a-view-versus-a-copy\n",
            "/usr/local/lib/python3.6/dist-packages/ipykernel_launcher.py:95: SettingWithCopyWarning: \n",
            "A value is trying to be set on a copy of a slice from a DataFrame.\n",
            "Try using .loc[row_indexer,col_indexer] = value instead\n",
            "\n",
            "See the caveats in the documentation: https://pandas.pydata.org/pandas-docs/stable/user_guide/indexing.html#returning-a-view-versus-a-copy\n",
            "/usr/local/lib/python3.6/dist-packages/ipykernel_launcher.py:96: SettingWithCopyWarning: \n",
            "A value is trying to be set on a copy of a slice from a DataFrame.\n",
            "Try using .loc[row_indexer,col_indexer] = value instead\n",
            "\n",
            "See the caveats in the documentation: https://pandas.pydata.org/pandas-docs/stable/user_guide/indexing.html#returning-a-view-versus-a-copy\n",
            "/usr/local/lib/python3.6/dist-packages/ipykernel_launcher.py:97: SettingWithCopyWarning: \n",
            "A value is trying to be set on a copy of a slice from a DataFrame.\n",
            "Try using .loc[row_indexer,col_indexer] = value instead\n",
            "\n",
            "See the caveats in the documentation: https://pandas.pydata.org/pandas-docs/stable/user_guide/indexing.html#returning-a-view-versus-a-copy\n",
            "/usr/local/lib/python3.6/dist-packages/ipykernel_launcher.py:98: SettingWithCopyWarning: \n",
            "A value is trying to be set on a copy of a slice from a DataFrame.\n",
            "Try using .loc[row_indexer,col_indexer] = value instead\n",
            "\n",
            "See the caveats in the documentation: https://pandas.pydata.org/pandas-docs/stable/user_guide/indexing.html#returning-a-view-versus-a-copy\n",
            "/usr/local/lib/python3.6/dist-packages/ipykernel_launcher.py:99: SettingWithCopyWarning: \n",
            "A value is trying to be set on a copy of a slice from a DataFrame.\n",
            "Try using .loc[row_indexer,col_indexer] = value instead\n",
            "\n",
            "See the caveats in the documentation: https://pandas.pydata.org/pandas-docs/stable/user_guide/indexing.html#returning-a-view-versus-a-copy\n",
            "/usr/local/lib/python3.6/dist-packages/ipykernel_launcher.py:100: SettingWithCopyWarning: \n",
            "A value is trying to be set on a copy of a slice from a DataFrame.\n",
            "Try using .loc[row_indexer,col_indexer] = value instead\n",
            "\n",
            "See the caveats in the documentation: https://pandas.pydata.org/pandas-docs/stable/user_guide/indexing.html#returning-a-view-versus-a-copy\n",
            "/usr/local/lib/python3.6/dist-packages/ipykernel_launcher.py:101: SettingWithCopyWarning: \n",
            "A value is trying to be set on a copy of a slice from a DataFrame.\n",
            "Try using .loc[row_indexer,col_indexer] = value instead\n",
            "\n",
            "See the caveats in the documentation: https://pandas.pydata.org/pandas-docs/stable/user_guide/indexing.html#returning-a-view-versus-a-copy\n",
            "/usr/local/lib/python3.6/dist-packages/ipykernel_launcher.py:102: SettingWithCopyWarning: \n",
            "A value is trying to be set on a copy of a slice from a DataFrame.\n",
            "Try using .loc[row_indexer,col_indexer] = value instead\n",
            "\n",
            "See the caveats in the documentation: https://pandas.pydata.org/pandas-docs/stable/user_guide/indexing.html#returning-a-view-versus-a-copy\n",
            "/usr/local/lib/python3.6/dist-packages/ipykernel_launcher.py:103: SettingWithCopyWarning: \n",
            "A value is trying to be set on a copy of a slice from a DataFrame.\n",
            "Try using .loc[row_indexer,col_indexer] = value instead\n",
            "\n",
            "See the caveats in the documentation: https://pandas.pydata.org/pandas-docs/stable/user_guide/indexing.html#returning-a-view-versus-a-copy\n"
          ],
          "name": "stderr"
        },
        {
          "output_type": "execute_result",
          "data": {
            "text/html": [
              "<div>\n",
              "<style scoped>\n",
              "    .dataframe tbody tr th:only-of-type {\n",
              "        vertical-align: middle;\n",
              "    }\n",
              "\n",
              "    .dataframe tbody tr th {\n",
              "        vertical-align: top;\n",
              "    }\n",
              "\n",
              "    .dataframe thead th {\n",
              "        text-align: right;\n",
              "    }\n",
              "</style>\n",
              "<table border=\"1\" class=\"dataframe\">\n",
              "  <thead>\n",
              "    <tr style=\"text-align: right;\">\n",
              "      <th></th>\n",
              "      <th>RunTime</th>\n",
              "      <th>Proto</th>\n",
              "      <th>TotBytes</th>\n",
              "      <th>Load</th>\n",
              "      <th>Loss</th>\n",
              "      <th>TcpRtt</th>\n",
              "      <th>Offset</th>\n",
              "      <th>Ttl</th>\n",
              "      <th>Tos</th>\n",
              "      <th>Gap</th>\n",
              "      <th>win</th>\n",
              "      <th>TotBytes_mean</th>\n",
              "      <th>TotBytes_var</th>\n",
              "      <th>TotBytes_bndry</th>\n",
              "      <th>Load_var</th>\n",
              "      <th>Load_mean</th>\n",
              "      <th>Load_bndry</th>\n",
              "      <th>Loss_mean</th>\n",
              "      <th>Loss_var</th>\n",
              "      <th>Loss_bndry</th>\n",
              "      <th>Ttl_mean</th>\n",
              "      <th>Ttl_var</th>\n",
              "      <th>Ttl_bndry</th>\n",
              "      <th>Tos_mean</th>\n",
              "      <th>Tos_var</th>\n",
              "      <th>Tos_bndry</th>\n",
              "      <th>win_mean</th>\n",
              "      <th>Gap_mean</th>\n",
              "      <th>Offset_mean</th>\n",
              "      <th>rtt_mean</th>\n",
              "    </tr>\n",
              "  </thead>\n",
              "  <tbody>\n",
              "    <tr>\n",
              "      <th>0</th>\n",
              "      <td>2.574102</td>\n",
              "      <td>man</td>\n",
              "      <td>0</td>\n",
              "      <td>0.00</td>\n",
              "      <td>0</td>\n",
              "      <td>0.000000</td>\n",
              "      <td>0</td>\n",
              "      <td>232.627816</td>\n",
              "      <td>30.495593</td>\n",
              "      <td>28.090815</td>\n",
              "      <td>62563.061723</td>\n",
              "      <td>366782.6</td>\n",
              "      <td>4.646303e+11</td>\n",
              "      <td>0</td>\n",
              "      <td>1.192080e+12</td>\n",
              "      <td>587304.102</td>\n",
              "      <td>0.0</td>\n",
              "      <td>0.0</td>\n",
              "      <td>0.00</td>\n",
              "      <td>0</td>\n",
              "      <td>241.125563</td>\n",
              "      <td>23.002927</td>\n",
              "      <td>232.627816</td>\n",
              "      <td>6.099119</td>\n",
              "      <td>148.796986</td>\n",
              "      <td>30.495593</td>\n",
              "      <td>14117.012345</td>\n",
              "      <td>5.618163</td>\n",
              "      <td>364.0</td>\n",
              "      <td>0.000000</td>\n",
              "    </tr>\n",
              "    <tr>\n",
              "      <th>1</th>\n",
              "      <td>4.990291</td>\n",
              "      <td>tcp</td>\n",
              "      <td>1727610</td>\n",
              "      <td>2767158.00</td>\n",
              "      <td>0</td>\n",
              "      <td>0.000000</td>\n",
              "      <td>128</td>\n",
              "      <td>244.000000</td>\n",
              "      <td>0.000000</td>\n",
              "      <td>0.000000</td>\n",
              "      <td>2306.000000</td>\n",
              "      <td>366782.6</td>\n",
              "      <td>4.646303e+11</td>\n",
              "      <td>1727610</td>\n",
              "      <td>1.192080e+12</td>\n",
              "      <td>587304.102</td>\n",
              "      <td>2767158.0</td>\n",
              "      <td>0.0</td>\n",
              "      <td>0.00</td>\n",
              "      <td>0</td>\n",
              "      <td>241.125563</td>\n",
              "      <td>23.002927</td>\n",
              "      <td>245.000000</td>\n",
              "      <td>6.099119</td>\n",
              "      <td>148.796986</td>\n",
              "      <td>0.000000</td>\n",
              "      <td>14117.012345</td>\n",
              "      <td>5.618163</td>\n",
              "      <td>364.0</td>\n",
              "      <td>0.000000</td>\n",
              "    </tr>\n",
              "    <tr>\n",
              "      <th>2</th>\n",
              "      <td>4.992045</td>\n",
              "      <td>tcp</td>\n",
              "      <td>105652</td>\n",
              "      <td>166913.00</td>\n",
              "      <td>0</td>\n",
              "      <td>0.000000</td>\n",
              "      <td>348</td>\n",
              "      <td>245.000000</td>\n",
              "      <td>0.000000</td>\n",
              "      <td>0.000000</td>\n",
              "      <td>3073.000000</td>\n",
              "      <td>366782.6</td>\n",
              "      <td>4.646303e+11</td>\n",
              "      <td>0</td>\n",
              "      <td>1.192080e+12</td>\n",
              "      <td>587304.102</td>\n",
              "      <td>0.0</td>\n",
              "      <td>0.0</td>\n",
              "      <td>0.00</td>\n",
              "      <td>0</td>\n",
              "      <td>241.125563</td>\n",
              "      <td>23.002927</td>\n",
              "      <td>245.000000</td>\n",
              "      <td>6.099119</td>\n",
              "      <td>148.796986</td>\n",
              "      <td>0.000000</td>\n",
              "      <td>14117.012345</td>\n",
              "      <td>5.618163</td>\n",
              "      <td>364.0</td>\n",
              "      <td>0.000000</td>\n",
              "    </tr>\n",
              "    <tr>\n",
              "      <th>3</th>\n",
              "      <td>1.664235</td>\n",
              "      <td>tcp</td>\n",
              "      <td>121</td>\n",
              "      <td>0.00</td>\n",
              "      <td>0</td>\n",
              "      <td>0.000000</td>\n",
              "      <td>568</td>\n",
              "      <td>245.000000</td>\n",
              "      <td>0.000000</td>\n",
              "      <td>0.000000</td>\n",
              "      <td>600.000000</td>\n",
              "      <td>366782.6</td>\n",
              "      <td>4.646303e+11</td>\n",
              "      <td>0</td>\n",
              "      <td>1.192080e+12</td>\n",
              "      <td>587304.102</td>\n",
              "      <td>0.0</td>\n",
              "      <td>0.0</td>\n",
              "      <td>0.00</td>\n",
              "      <td>0</td>\n",
              "      <td>241.125563</td>\n",
              "      <td>23.002927</td>\n",
              "      <td>245.000000</td>\n",
              "      <td>6.099119</td>\n",
              "      <td>148.796986</td>\n",
              "      <td>0.000000</td>\n",
              "      <td>14117.012345</td>\n",
              "      <td>5.618163</td>\n",
              "      <td>364.0</td>\n",
              "      <td>0.000000</td>\n",
              "    </tr>\n",
              "    <tr>\n",
              "      <th>4</th>\n",
              "      <td>1.165944</td>\n",
              "      <td>tcp</td>\n",
              "      <td>530</td>\n",
              "      <td>2449.51</td>\n",
              "      <td>0</td>\n",
              "      <td>0.000000</td>\n",
              "      <td>776</td>\n",
              "      <td>239.000000</td>\n",
              "      <td>0.000000</td>\n",
              "      <td>0.000000</td>\n",
              "      <td>2043.000000</td>\n",
              "      <td>366782.6</td>\n",
              "      <td>4.646303e+11</td>\n",
              "      <td>0</td>\n",
              "      <td>1.192080e+12</td>\n",
              "      <td>587304.102</td>\n",
              "      <td>0.0</td>\n",
              "      <td>0.0</td>\n",
              "      <td>0.00</td>\n",
              "      <td>0</td>\n",
              "      <td>241.125563</td>\n",
              "      <td>23.002927</td>\n",
              "      <td>245.000000</td>\n",
              "      <td>6.099119</td>\n",
              "      <td>148.796986</td>\n",
              "      <td>0.000000</td>\n",
              "      <td>14117.012345</td>\n",
              "      <td>5.618163</td>\n",
              "      <td>364.0</td>\n",
              "      <td>0.000000</td>\n",
              "    </tr>\n",
              "    <tr>\n",
              "      <th>...</th>\n",
              "      <td>...</td>\n",
              "      <td>...</td>\n",
              "      <td>...</td>\n",
              "      <td>...</td>\n",
              "      <td>...</td>\n",
              "      <td>...</td>\n",
              "      <td>...</td>\n",
              "      <td>...</td>\n",
              "      <td>...</td>\n",
              "      <td>...</td>\n",
              "      <td>...</td>\n",
              "      <td>...</td>\n",
              "      <td>...</td>\n",
              "      <td>...</td>\n",
              "      <td>...</td>\n",
              "      <td>...</td>\n",
              "      <td>...</td>\n",
              "      <td>...</td>\n",
              "      <td>...</td>\n",
              "      <td>...</td>\n",
              "      <td>...</td>\n",
              "      <td>...</td>\n",
              "      <td>...</td>\n",
              "      <td>...</td>\n",
              "      <td>...</td>\n",
              "      <td>...</td>\n",
              "      <td>...</td>\n",
              "      <td>...</td>\n",
              "      <td>...</td>\n",
              "      <td>...</td>\n",
              "    </tr>\n",
              "    <tr>\n",
              "      <th>1050</th>\n",
              "      <td>0.739505</td>\n",
              "      <td>tcp</td>\n",
              "      <td>1250</td>\n",
              "      <td>11596.90</td>\n",
              "      <td>1</td>\n",
              "      <td>0.000000</td>\n",
              "      <td>210312</td>\n",
              "      <td>246.000000</td>\n",
              "      <td>128.000000</td>\n",
              "      <td>0.000000</td>\n",
              "      <td>566.000000</td>\n",
              "      <td>139486.0</td>\n",
              "      <td>7.617328e+10</td>\n",
              "      <td>121</td>\n",
              "      <td>3.505394e+11</td>\n",
              "      <td>344823.100</td>\n",
              "      <td>0.0</td>\n",
              "      <td>0.4</td>\n",
              "      <td>0.24</td>\n",
              "      <td>1</td>\n",
              "      <td>207.600000</td>\n",
              "      <td>957.840000</td>\n",
              "      <td>246.000000</td>\n",
              "      <td>51.200000</td>\n",
              "      <td>3932.160000</td>\n",
              "      <td>128.000000</td>\n",
              "      <td>153660.412345</td>\n",
              "      <td>5.618163</td>\n",
              "      <td>210717.6</td>\n",
              "      <td>0.130623</td>\n",
              "    </tr>\n",
              "    <tr>\n",
              "      <th>1051</th>\n",
              "      <td>3.624705</td>\n",
              "      <td>tcp</td>\n",
              "      <td>691472</td>\n",
              "      <td>1522107.00</td>\n",
              "      <td>0</td>\n",
              "      <td>0.169274</td>\n",
              "      <td>210524</td>\n",
              "      <td>182.000000</td>\n",
              "      <td>0.000000</td>\n",
              "      <td>0.000000</td>\n",
              "      <td>547578.000000</td>\n",
              "      <td>139486.0</td>\n",
              "      <td>7.617328e+10</td>\n",
              "      <td>691472</td>\n",
              "      <td>3.505394e+11</td>\n",
              "      <td>344823.100</td>\n",
              "      <td>1522107.0</td>\n",
              "      <td>0.4</td>\n",
              "      <td>0.24</td>\n",
              "      <td>0</td>\n",
              "      <td>207.600000</td>\n",
              "      <td>957.840000</td>\n",
              "      <td>182.000000</td>\n",
              "      <td>51.200000</td>\n",
              "      <td>3932.160000</td>\n",
              "      <td>0.000000</td>\n",
              "      <td>153660.412345</td>\n",
              "      <td>5.618163</td>\n",
              "      <td>210717.6</td>\n",
              "      <td>0.130623</td>\n",
              "    </tr>\n",
              "    <tr>\n",
              "      <th>1052</th>\n",
              "      <td>0.078884</td>\n",
              "      <td>tcp</td>\n",
              "      <td>3413</td>\n",
              "      <td>173114.00</td>\n",
              "      <td>0</td>\n",
              "      <td>0.146469</td>\n",
              "      <td>210744</td>\n",
              "      <td>182.000000</td>\n",
              "      <td>0.000000</td>\n",
              "      <td>0.000000</td>\n",
              "      <td>21403.000000</td>\n",
              "      <td>139486.0</td>\n",
              "      <td>7.617328e+10</td>\n",
              "      <td>121</td>\n",
              "      <td>3.505394e+11</td>\n",
              "      <td>344823.100</td>\n",
              "      <td>0.0</td>\n",
              "      <td>0.4</td>\n",
              "      <td>0.24</td>\n",
              "      <td>0</td>\n",
              "      <td>207.600000</td>\n",
              "      <td>957.840000</td>\n",
              "      <td>182.000000</td>\n",
              "      <td>51.200000</td>\n",
              "      <td>3932.160000</td>\n",
              "      <td>0.000000</td>\n",
              "      <td>153660.412345</td>\n",
              "      <td>5.618163</td>\n",
              "      <td>210717.6</td>\n",
              "      <td>0.130623</td>\n",
              "    </tr>\n",
              "    <tr>\n",
              "      <th>1053</th>\n",
              "      <td>0.349643</td>\n",
              "      <td>udp</td>\n",
              "      <td>1174</td>\n",
              "      <td>17297.60</td>\n",
              "      <td>0</td>\n",
              "      <td>0.000000</td>\n",
              "      <td>210956</td>\n",
              "      <td>183.000000</td>\n",
              "      <td>128.000000</td>\n",
              "      <td>28.090815</td>\n",
              "      <td>62563.061723</td>\n",
              "      <td>139486.0</td>\n",
              "      <td>7.617328e+10</td>\n",
              "      <td>121</td>\n",
              "      <td>3.505394e+11</td>\n",
              "      <td>344823.100</td>\n",
              "      <td>0.0</td>\n",
              "      <td>0.4</td>\n",
              "      <td>0.24</td>\n",
              "      <td>0</td>\n",
              "      <td>207.600000</td>\n",
              "      <td>957.840000</td>\n",
              "      <td>182.000000</td>\n",
              "      <td>51.200000</td>\n",
              "      <td>3932.160000</td>\n",
              "      <td>128.000000</td>\n",
              "      <td>153660.412345</td>\n",
              "      <td>5.618163</td>\n",
              "      <td>210717.6</td>\n",
              "      <td>0.130623</td>\n",
              "    </tr>\n",
              "    <tr>\n",
              "      <th>1054</th>\n",
              "      <td>0.081182</td>\n",
              "      <td>tcp</td>\n",
              "      <td>121</td>\n",
              "      <td>0.00</td>\n",
              "      <td>1</td>\n",
              "      <td>0.337372</td>\n",
              "      <td>211052</td>\n",
              "      <td>245.000000</td>\n",
              "      <td>0.000000</td>\n",
              "      <td>0.000000</td>\n",
              "      <td>136192.000000</td>\n",
              "      <td>139486.0</td>\n",
              "      <td>7.617328e+10</td>\n",
              "      <td>121</td>\n",
              "      <td>3.505394e+11</td>\n",
              "      <td>344823.100</td>\n",
              "      <td>0.0</td>\n",
              "      <td>0.4</td>\n",
              "      <td>0.24</td>\n",
              "      <td>1</td>\n",
              "      <td>207.600000</td>\n",
              "      <td>957.840000</td>\n",
              "      <td>246.000000</td>\n",
              "      <td>51.200000</td>\n",
              "      <td>3932.160000</td>\n",
              "      <td>0.000000</td>\n",
              "      <td>153660.412345</td>\n",
              "      <td>5.618163</td>\n",
              "      <td>210717.6</td>\n",
              "      <td>0.130623</td>\n",
              "    </tr>\n",
              "  </tbody>\n",
              "</table>\n",
              "<p>1055 rows × 30 columns</p>\n",
              "</div>"
            ],
            "text/plain": [
              "       RunTime Proto  TotBytes  ...  Gap_mean  Offset_mean  rtt_mean\n",
              "0     2.574102   man         0  ...  5.618163        364.0  0.000000\n",
              "1     4.990291   tcp   1727610  ...  5.618163        364.0  0.000000\n",
              "2     4.992045   tcp    105652  ...  5.618163        364.0  0.000000\n",
              "3     1.664235   tcp       121  ...  5.618163        364.0  0.000000\n",
              "4     1.165944   tcp       530  ...  5.618163        364.0  0.000000\n",
              "...        ...   ...       ...  ...       ...          ...       ...\n",
              "1050  0.739505   tcp      1250  ...  5.618163     210717.6  0.130623\n",
              "1051  3.624705   tcp    691472  ...  5.618163     210717.6  0.130623\n",
              "1052  0.078884   tcp      3413  ...  5.618163     210717.6  0.130623\n",
              "1053  0.349643   udp      1174  ...  5.618163     210717.6  0.130623\n",
              "1054  0.081182   tcp       121  ...  5.618163     210717.6  0.130623\n",
              "\n",
              "[1055 rows x 30 columns]"
            ]
          },
          "metadata": {
            "tags": []
          },
          "execution_count": 19
        }
      ]
    },
    {
      "cell_type": "code",
      "metadata": {
        "colab": {
          "base_uri": "https://localhost:8080/"
        },
        "id": "y-bFd5UDoldS",
        "outputId": "ecafb5e7-0e92-43c6-f9ba-db37a0fe3566"
      },
      "source": [
        "print(Gtest.shape)\n",
        "print(Ntest.shape)"
      ],
      "execution_count": null,
      "outputs": [
        {
          "output_type": "stream",
          "text": [
            "(4173, 30)\n",
            "(1055, 30)\n"
          ],
          "name": "stdout"
        }
      ]
    },
    {
      "cell_type": "code",
      "metadata": {
        "colab": {
          "base_uri": "https://localhost:8080/",
          "height": 422
        },
        "id": "YifPprgcvvc1",
        "outputId": "6f926d81-82df-4cac-dd63-af67d5b7dd5e"
      },
      "source": [
        "webex"
      ],
      "execution_count": null,
      "outputs": [
        {
          "output_type": "execute_result",
          "data": {
            "text/html": [
              "<div>\n",
              "<style scoped>\n",
              "    .dataframe tbody tr th:only-of-type {\n",
              "        vertical-align: middle;\n",
              "    }\n",
              "\n",
              "    .dataframe tbody tr th {\n",
              "        vertical-align: top;\n",
              "    }\n",
              "\n",
              "    .dataframe thead th {\n",
              "        text-align: right;\n",
              "    }\n",
              "</style>\n",
              "<table border=\"1\" class=\"dataframe\">\n",
              "  <thead>\n",
              "    <tr style=\"text-align: right;\">\n",
              "      <th></th>\n",
              "      <th>RunTime</th>\n",
              "      <th>Proto</th>\n",
              "      <th>TotBytes</th>\n",
              "      <th>Load</th>\n",
              "      <th>Loss</th>\n",
              "      <th>TcpRtt</th>\n",
              "      <th>Offset</th>\n",
              "      <th>Ttl</th>\n",
              "      <th>Tos</th>\n",
              "      <th>Gap</th>\n",
              "      <th>win</th>\n",
              "      <th>TotBytes_mean</th>\n",
              "      <th>TotBytes_var</th>\n",
              "      <th>TotBytes_bndry</th>\n",
              "      <th>Load_var</th>\n",
              "      <th>Load_mean</th>\n",
              "      <th>Load_bndry</th>\n",
              "      <th>Loss_mean</th>\n",
              "      <th>Loss_var</th>\n",
              "      <th>Loss_bndry</th>\n",
              "      <th>Ttl_mean</th>\n",
              "      <th>Ttl_var</th>\n",
              "      <th>Ttl_bndry</th>\n",
              "      <th>Tos_mean</th>\n",
              "      <th>Tos_var</th>\n",
              "      <th>Tos_bndry</th>\n",
              "      <th>win_mean</th>\n",
              "      <th>Gap_mean</th>\n",
              "      <th>Offset_mean</th>\n",
              "      <th>rtt_mean</th>\n",
              "    </tr>\n",
              "  </thead>\n",
              "  <tbody>\n",
              "    <tr>\n",
              "      <th>0</th>\n",
              "      <td>2.709834</td>\n",
              "      <td>man</td>\n",
              "      <td>0</td>\n",
              "      <td>0.000</td>\n",
              "      <td>0</td>\n",
              "      <td>0.000000</td>\n",
              "      <td>0</td>\n",
              "      <td>314.940132</td>\n",
              "      <td>53.323082</td>\n",
              "      <td>7.586961</td>\n",
              "      <td>100708.041972</td>\n",
              "      <td>1917.2</td>\n",
              "      <td>3.337889e+06</td>\n",
              "      <td>0</td>\n",
              "      <td>8.668838e+08</td>\n",
              "      <td>20803.196000</td>\n",
              "      <td>0.000</td>\n",
              "      <td>0.000000e+00</td>\n",
              "      <td>0.000000e+00</td>\n",
              "      <td>0</td>\n",
              "      <td>335.788026</td>\n",
              "      <td>2465.458673</td>\n",
              "      <td>373.0</td>\n",
              "      <td>47.464616</td>\n",
              "      <td>5086.980405</td>\n",
              "      <td>0.0</td>\n",
              "      <td>41202.416789</td>\n",
              "      <td>3.034784</td>\n",
              "      <td>287.2</td>\n",
              "      <td>0.000000</td>\n",
              "    </tr>\n",
              "    <tr>\n",
              "      <th>1</th>\n",
              "      <td>4.924663</td>\n",
              "      <td>udp</td>\n",
              "      <td>4678</td>\n",
              "      <td>7209.420</td>\n",
              "      <td>0</td>\n",
              "      <td>0.000000</td>\n",
              "      <td>128</td>\n",
              "      <td>247.000000</td>\n",
              "      <td>184.000000</td>\n",
              "      <td>7.586961</td>\n",
              "      <td>100708.041972</td>\n",
              "      <td>1917.2</td>\n",
              "      <td>3.337889e+06</td>\n",
              "      <td>4678</td>\n",
              "      <td>8.668838e+08</td>\n",
              "      <td>20803.196000</td>\n",
              "      <td>0.000</td>\n",
              "      <td>0.000000e+00</td>\n",
              "      <td>0.000000e+00</td>\n",
              "      <td>0</td>\n",
              "      <td>335.788026</td>\n",
              "      <td>2465.458673</td>\n",
              "      <td>247.0</td>\n",
              "      <td>47.464616</td>\n",
              "      <td>5086.980405</td>\n",
              "      <td>184.0</td>\n",
              "      <td>41202.416789</td>\n",
              "      <td>3.034784</td>\n",
              "      <td>287.2</td>\n",
              "      <td>0.000000</td>\n",
              "    </tr>\n",
              "    <tr>\n",
              "      <th>2</th>\n",
              "      <td>0.258811</td>\n",
              "      <td>tcp</td>\n",
              "      <td>3489</td>\n",
              "      <td>79316.500</td>\n",
              "      <td>0</td>\n",
              "      <td>0.000000</td>\n",
              "      <td>224</td>\n",
              "      <td>371.000000</td>\n",
              "      <td>0.000000</td>\n",
              "      <td>0.000000</td>\n",
              "      <td>1536.000000</td>\n",
              "      <td>1917.2</td>\n",
              "      <td>3.337889e+06</td>\n",
              "      <td>4678</td>\n",
              "      <td>8.668838e+08</td>\n",
              "      <td>20803.196000</td>\n",
              "      <td>79316.500</td>\n",
              "      <td>0.000000e+00</td>\n",
              "      <td>0.000000e+00</td>\n",
              "      <td>0</td>\n",
              "      <td>335.788026</td>\n",
              "      <td>2465.458673</td>\n",
              "      <td>373.0</td>\n",
              "      <td>47.464616</td>\n",
              "      <td>5086.980405</td>\n",
              "      <td>0.0</td>\n",
              "      <td>41202.416789</td>\n",
              "      <td>3.034784</td>\n",
              "      <td>287.2</td>\n",
              "      <td>0.000000</td>\n",
              "    </tr>\n",
              "    <tr>\n",
              "      <th>3</th>\n",
              "      <td>0.524698</td>\n",
              "      <td>tcp</td>\n",
              "      <td>755</td>\n",
              "      <td>7684.410</td>\n",
              "      <td>0</td>\n",
              "      <td>0.000000</td>\n",
              "      <td>436</td>\n",
              "      <td>373.000000</td>\n",
              "      <td>0.000000</td>\n",
              "      <td>0.000000</td>\n",
              "      <td>1532.000000</td>\n",
              "      <td>1917.2</td>\n",
              "      <td>3.337889e+06</td>\n",
              "      <td>0</td>\n",
              "      <td>8.668838e+08</td>\n",
              "      <td>20803.196000</td>\n",
              "      <td>0.000</td>\n",
              "      <td>0.000000e+00</td>\n",
              "      <td>0.000000e+00</td>\n",
              "      <td>0</td>\n",
              "      <td>335.788026</td>\n",
              "      <td>2465.458673</td>\n",
              "      <td>373.0</td>\n",
              "      <td>47.464616</td>\n",
              "      <td>5086.980405</td>\n",
              "      <td>0.0</td>\n",
              "      <td>41202.416789</td>\n",
              "      <td>3.034784</td>\n",
              "      <td>287.2</td>\n",
              "      <td>0.000000</td>\n",
              "    </tr>\n",
              "    <tr>\n",
              "      <th>4</th>\n",
              "      <td>0.361424</td>\n",
              "      <td>tcp</td>\n",
              "      <td>664</td>\n",
              "      <td>9805.650</td>\n",
              "      <td>0</td>\n",
              "      <td>0.000000</td>\n",
              "      <td>648</td>\n",
              "      <td>373.000000</td>\n",
              "      <td>0.000000</td>\n",
              "      <td>0.000000</td>\n",
              "      <td>1528.000000</td>\n",
              "      <td>1917.2</td>\n",
              "      <td>3.337889e+06</td>\n",
              "      <td>0</td>\n",
              "      <td>8.668838e+08</td>\n",
              "      <td>20803.196000</td>\n",
              "      <td>0.000</td>\n",
              "      <td>0.000000e+00</td>\n",
              "      <td>0.000000e+00</td>\n",
              "      <td>0</td>\n",
              "      <td>335.788026</td>\n",
              "      <td>2465.458673</td>\n",
              "      <td>373.0</td>\n",
              "      <td>47.464616</td>\n",
              "      <td>5086.980405</td>\n",
              "      <td>0.0</td>\n",
              "      <td>41202.416789</td>\n",
              "      <td>3.034784</td>\n",
              "      <td>287.2</td>\n",
              "      <td>0.000000</td>\n",
              "    </tr>\n",
              "    <tr>\n",
              "      <th>...</th>\n",
              "      <td>...</td>\n",
              "      <td>...</td>\n",
              "      <td>...</td>\n",
              "      <td>...</td>\n",
              "      <td>...</td>\n",
              "      <td>...</td>\n",
              "      <td>...</td>\n",
              "      <td>...</td>\n",
              "      <td>...</td>\n",
              "      <td>...</td>\n",
              "      <td>...</td>\n",
              "      <td>...</td>\n",
              "      <td>...</td>\n",
              "      <td>...</td>\n",
              "      <td>...</td>\n",
              "      <td>...</td>\n",
              "      <td>...</td>\n",
              "      <td>...</td>\n",
              "      <td>...</td>\n",
              "      <td>...</td>\n",
              "      <td>...</td>\n",
              "      <td>...</td>\n",
              "      <td>...</td>\n",
              "      <td>...</td>\n",
              "      <td>...</td>\n",
              "      <td>...</td>\n",
              "      <td>...</td>\n",
              "      <td>...</td>\n",
              "      <td>...</td>\n",
              "      <td>...</td>\n",
              "    </tr>\n",
              "    <tr>\n",
              "      <th>21179</th>\n",
              "      <td>0.426339</td>\n",
              "      <td>udp</td>\n",
              "      <td>4958</td>\n",
              "      <td>88155.200</td>\n",
              "      <td>0</td>\n",
              "      <td>0.000000</td>\n",
              "      <td>604208</td>\n",
              "      <td>247.000000</td>\n",
              "      <td>184.000000</td>\n",
              "      <td>7.586961</td>\n",
              "      <td>100708.041972</td>\n",
              "      <td>17650.8</td>\n",
              "      <td>8.817271e+08</td>\n",
              "      <td>1328</td>\n",
              "      <td>9.549464e+09</td>\n",
              "      <td>77852.150000</td>\n",
              "      <td>1810.850</td>\n",
              "      <td>1.442841e+08</td>\n",
              "      <td>8.327156e+16</td>\n",
              "      <td>0</td>\n",
              "      <td>322.800000</td>\n",
              "      <td>3830.560000</td>\n",
              "      <td>247.0</td>\n",
              "      <td>64.000000</td>\n",
              "      <td>6374.400000</td>\n",
              "      <td>184.0</td>\n",
              "      <td>27836.453381</td>\n",
              "      <td>3.034784</td>\n",
              "      <td>603958.4</td>\n",
              "      <td>0.000000</td>\n",
              "    </tr>\n",
              "    <tr>\n",
              "      <th>21180</th>\n",
              "      <td>0.560382</td>\n",
              "      <td>tcp</td>\n",
              "      <td>1330</td>\n",
              "      <td>16288.800</td>\n",
              "      <td>0</td>\n",
              "      <td>0.000000</td>\n",
              "      <td>604304</td>\n",
              "      <td>373.000000</td>\n",
              "      <td>0.000000</td>\n",
              "      <td>0.000000</td>\n",
              "      <td>725.000000</td>\n",
              "      <td>17650.8</td>\n",
              "      <td>8.817271e+08</td>\n",
              "      <td>1328</td>\n",
              "      <td>9.549464e+09</td>\n",
              "      <td>77852.150000</td>\n",
              "      <td>1810.850</td>\n",
              "      <td>1.442841e+08</td>\n",
              "      <td>8.327156e+16</td>\n",
              "      <td>0</td>\n",
              "      <td>322.800000</td>\n",
              "      <td>3830.560000</td>\n",
              "      <td>374.0</td>\n",
              "      <td>64.000000</td>\n",
              "      <td>6374.400000</td>\n",
              "      <td>0.0</td>\n",
              "      <td>27836.453381</td>\n",
              "      <td>3.034784</td>\n",
              "      <td>603958.4</td>\n",
              "      <td>0.000000</td>\n",
              "    </tr>\n",
              "    <tr>\n",
              "      <th>21181</th>\n",
              "      <td>1.050290</td>\n",
              "      <td>tcp</td>\n",
              "      <td>13870</td>\n",
              "      <td>99477.200</td>\n",
              "      <td>0</td>\n",
              "      <td>0.260497</td>\n",
              "      <td>604516</td>\n",
              "      <td>373.000000</td>\n",
              "      <td>0.000000</td>\n",
              "      <td>0.000000</td>\n",
              "      <td>392704.000000</td>\n",
              "      <td>4937.0</td>\n",
              "      <td>3.990958e+07</td>\n",
              "      <td>13870</td>\n",
              "      <td>2.155922e+09</td>\n",
              "      <td>33812.620667</td>\n",
              "      <td>99477.200</td>\n",
              "      <td>2.404734e+08</td>\n",
              "      <td>1.156549e+17</td>\n",
              "      <td>0</td>\n",
              "      <td>331.000000</td>\n",
              "      <td>3528.000000</td>\n",
              "      <td>373.0</td>\n",
              "      <td>45.333333</td>\n",
              "      <td>4110.222222</td>\n",
              "      <td>0.0</td>\n",
              "      <td>142706.074977</td>\n",
              "      <td>2.528987</td>\n",
              "      <td>604728.0</td>\n",
              "      <td>0.086832</td>\n",
              "    </tr>\n",
              "    <tr>\n",
              "      <th>21182</th>\n",
              "      <td>3.015267</td>\n",
              "      <td>tcp</td>\n",
              "      <td>595</td>\n",
              "      <td>1053.300</td>\n",
              "      <td>0</td>\n",
              "      <td>0.000000</td>\n",
              "      <td>604728</td>\n",
              "      <td>373.000000</td>\n",
              "      <td>0.000000</td>\n",
              "      <td>0.000000</td>\n",
              "      <td>723.000000</td>\n",
              "      <td>4937.0</td>\n",
              "      <td>3.990958e+07</td>\n",
              "      <td>346</td>\n",
              "      <td>2.155922e+09</td>\n",
              "      <td>33812.620667</td>\n",
              "      <td>907.362</td>\n",
              "      <td>2.404734e+08</td>\n",
              "      <td>1.156549e+17</td>\n",
              "      <td>0</td>\n",
              "      <td>331.000000</td>\n",
              "      <td>3528.000000</td>\n",
              "      <td>373.0</td>\n",
              "      <td>45.333333</td>\n",
              "      <td>4110.222222</td>\n",
              "      <td>0.0</td>\n",
              "      <td>142706.074977</td>\n",
              "      <td>2.528987</td>\n",
              "      <td>604728.0</td>\n",
              "      <td>0.086832</td>\n",
              "    </tr>\n",
              "    <tr>\n",
              "      <th>21183</th>\n",
              "      <td>1.005111</td>\n",
              "      <td>udt</td>\n",
              "      <td>346</td>\n",
              "      <td>907.362</td>\n",
              "      <td>721420289</td>\n",
              "      <td>0.000000</td>\n",
              "      <td>604940</td>\n",
              "      <td>247.000000</td>\n",
              "      <td>136.000000</td>\n",
              "      <td>7.586961</td>\n",
              "      <td>34691.224932</td>\n",
              "      <td>4937.0</td>\n",
              "      <td>3.990958e+07</td>\n",
              "      <td>346</td>\n",
              "      <td>2.155922e+09</td>\n",
              "      <td>33812.620667</td>\n",
              "      <td>907.362</td>\n",
              "      <td>2.404734e+08</td>\n",
              "      <td>1.156549e+17</td>\n",
              "      <td>721420289</td>\n",
              "      <td>331.000000</td>\n",
              "      <td>3528.000000</td>\n",
              "      <td>247.0</td>\n",
              "      <td>45.333333</td>\n",
              "      <td>4110.222222</td>\n",
              "      <td>136.0</td>\n",
              "      <td>142706.074977</td>\n",
              "      <td>2.528987</td>\n",
              "      <td>604728.0</td>\n",
              "      <td>0.086832</td>\n",
              "    </tr>\n",
              "  </tbody>\n",
              "</table>\n",
              "<p>20443 rows × 30 columns</p>\n",
              "</div>"
            ],
            "text/plain": [
              "        RunTime Proto  TotBytes  ...  Gap_mean  Offset_mean  rtt_mean\n",
              "0      2.709834   man         0  ...  3.034784        287.2  0.000000\n",
              "1      4.924663   udp      4678  ...  3.034784        287.2  0.000000\n",
              "2      0.258811   tcp      3489  ...  3.034784        287.2  0.000000\n",
              "3      0.524698   tcp       755  ...  3.034784        287.2  0.000000\n",
              "4      0.361424   tcp       664  ...  3.034784        287.2  0.000000\n",
              "...         ...   ...       ...  ...       ...          ...       ...\n",
              "21179  0.426339   udp      4958  ...  3.034784     603958.4  0.000000\n",
              "21180  0.560382   tcp      1330  ...  3.034784     603958.4  0.000000\n",
              "21181  1.050290   tcp     13870  ...  2.528987     604728.0  0.086832\n",
              "21182  3.015267   tcp       595  ...  2.528987     604728.0  0.086832\n",
              "21183  1.005111   udt       346  ...  2.528987     604728.0  0.086832\n",
              "\n",
              "[20443 rows x 30 columns]"
            ]
          },
          "metadata": {
            "tags": []
          },
          "execution_count": 31
        }
      ]
    },
    {
      "cell_type": "markdown",
      "metadata": {
        "id": "Z2izmOhv_kcg"
      },
      "source": [
        "# Classes (1 for Video conference 2-> subscription based 3-> non-subscription based) priority 1 highest"
      ]
    },
    {
      "cell_type": "markdown",
      "metadata": {
        "id": "WDRnpy78djhr"
      },
      "source": [
        "### sample case for 5k each(either this or next execute any one)"
      ]
    },
    {
      "cell_type": "code",
      "metadata": {
        "id": "GM8N404pdm7D"
      },
      "source": [
        "# drop these 'sMpls    dMpls    NStrok  TotPkts' 'Rate      SIntPkt      DIntPkt    SrcJitter    DstJitter         srcUdata'\n",
        "# webex.drop(columns=['sMpls    dMpls    NStrok  TotPkts','Rate      SIntPkt      DIntPkt    SrcJitter    DstJitter         srcUdata'], inplace=True)\n",
        "# utube.drop(columns=['sMpls    dMpls    NStrok  TotPkts','Rate      SIntPkt      DIntPkt    SrcJitter    DstJitter         srcUdata'], inplace=True)\n",
        "# daily.drop(columns=['sMpls    dMpls    NStrok  TotPkts','Rate      SIntPkt      DIntPkt    SrcJitter    DstJitter         srcUdata'], inplace=True)\n",
        "# netflix.drop(columns=['sMpls    dMpls    NStrok  TotPkts','Rate      SIntPkt      DIntPkt    SrcJitter    DstJitter         srcUdata'], inplace=True)\n",
        "# prime.drop(columns=['sMpls    dMpls    NStrok  TotPkts','Rate      SIntPkt      DIntPkt    SrcJitter    DstJitter         srcUdata'], inplace=True)\n",
        "# gmeet.drop(columns=['sMpls    dMpls    NStrok  TotPkts','Rate      SIntPkt      DIntPkt    SrcJitter    DstJitter         srcUdata'], inplace=True)\n"
      ],
      "execution_count": null,
      "outputs": []
    },
    {
      "cell_type": "code",
      "metadata": {
        "colab": {
          "base_uri": "https://localhost:8080/"
        },
        "id": "zKcN9d_2g28t",
        "outputId": "a334b53f-764d-4e61-adea-55c7ae5b09d8"
      },
      "source": [
        "# 1 video conf\n",
        "webex['output']=1\n",
        "gmeet['output']=2\n",
        "# 2 subscription\n",
        "netflix['output']=3\n",
        "prime['output']=4\n",
        "# 3 non-subscription based\n",
        "utube['output']=5\n",
        "daily['output']=6\n",
        "# gmeet=gmeet[:4800]\n",
        "# daily=daily[:4800]\n",
        "# 6 classes for the time being"
      ],
      "execution_count": null,
      "outputs": [
        {
          "output_type": "stream",
          "text": [
            "/usr/local/lib/python3.6/dist-packages/ipykernel_launcher.py:5: SettingWithCopyWarning: \n",
            "A value is trying to be set on a copy of a slice from a DataFrame.\n",
            "Try using .loc[row_indexer,col_indexer] = value instead\n",
            "\n",
            "See the caveats in the documentation: https://pandas.pydata.org/pandas-docs/stable/user_guide/indexing.html#returning-a-view-versus-a-copy\n",
            "  \"\"\"\n",
            "/usr/local/lib/python3.6/dist-packages/ipykernel_launcher.py:6: SettingWithCopyWarning: \n",
            "A value is trying to be set on a copy of a slice from a DataFrame.\n",
            "Try using .loc[row_indexer,col_indexer] = value instead\n",
            "\n",
            "See the caveats in the documentation: https://pandas.pydata.org/pandas-docs/stable/user_guide/indexing.html#returning-a-view-versus-a-copy\n",
            "  \n"
          ],
          "name": "stderr"
        }
      ]
    },
    {
      "cell_type": "code",
      "metadata": {
        "colab": {
          "base_uri": "https://localhost:8080/"
        },
        "id": "2LcH6m3_V5zH",
        "outputId": "12ae52cf-b982-446f-b49e-b3f1befaa376"
      },
      "source": [
        "Gtest['output']=0\n",
        "Ntest['output']=1"
      ],
      "execution_count": null,
      "outputs": [
        {
          "output_type": "stream",
          "text": [
            "/usr/local/lib/python3.6/dist-packages/ipykernel_launcher.py:2: SettingWithCopyWarning: \n",
            "A value is trying to be set on a copy of a slice from a DataFrame.\n",
            "Try using .loc[row_indexer,col_indexer] = value instead\n",
            "\n",
            "See the caveats in the documentation: https://pandas.pydata.org/pandas-docs/stable/user_guide/indexing.html#returning-a-view-versus-a-copy\n",
            "  \n"
          ],
          "name": "stderr"
        }
      ]
    },
    {
      "cell_type": "code",
      "metadata": {
        "colab": {
          "base_uri": "https://localhost:8080/"
        },
        "id": "1kUsLJU3Dz38",
        "outputId": "a9b734d7-9d2f-425d-9357-d7346aae9fed"
      },
      "source": [
        "print(len(netflix))\n",
        "print(len(webex))\n",
        "print(len(gmeet))\n",
        "print(len(daily))\n",
        "print(len(utube))\n",
        "print(len(prime))"
      ],
      "execution_count": null,
      "outputs": [
        {
          "output_type": "stream",
          "text": [
            "21726\n",
            "20443\n",
            "23806\n",
            "23777\n",
            "23049\n",
            "20750\n"
          ],
          "name": "stdout"
        }
      ]
    },
    {
      "cell_type": "code",
      "metadata": {
        "colab": {
          "base_uri": "https://localhost:8080/"
        },
        "id": "ugjrF1G4WCts",
        "outputId": "bbc43007-d8ad-46b8-a372-d5eff70a826b"
      },
      "source": [
        "print(len(Ntest))\n",
        "print(len(Gtest))"
      ],
      "execution_count": null,
      "outputs": [
        {
          "output_type": "stream",
          "text": [
            "1055\n",
            "4173\n"
          ],
          "name": "stdout"
        }
      ]
    },
    {
      "cell_type": "code",
      "metadata": {
        "colab": {
          "base_uri": "https://localhost:8080/"
        },
        "id": "UqNeymJuuBfR",
        "outputId": "231aa22c-a7ff-4a4b-bb7f-43be0c69c821"
      },
      "source": [
        "Final.shape"
      ],
      "execution_count": null,
      "outputs": [
        {
          "output_type": "execute_result",
          "data": {
            "text/plain": [
              "(133551, 23)"
            ]
          },
          "metadata": {
            "tags": []
          },
          "execution_count": 30
        }
      ]
    },
    {
      "cell_type": "markdown",
      "metadata": {
        "id": "W5rwhogM-gyp"
      },
      "source": [
        "# Final dataset and proto label encoding"
      ]
    },
    {
      "cell_type": "code",
      "metadata": {
        "colab": {
          "base_uri": "https://localhost:8080/"
        },
        "id": "pDJ42gV1mZDw",
        "outputId": "87325fee-0691-4039-a80c-5f66d9ce1aad"
      },
      "source": [
        "Final=pd.DataFrame()\n",
        "Final=Final.append([webex,gmeet,prime,netflix,utube,daily],ignore_index=True)\n",
        "print(len(Final))"
      ],
      "execution_count": null,
      "outputs": [
        {
          "output_type": "stream",
          "text": [
            "133551\n"
          ],
          "name": "stdout"
        }
      ]
    },
    {
      "cell_type": "code",
      "metadata": {
        "id": "MjQpOLzJWTwL"
      },
      "source": [
        "TT = pd.DataFrame()\n",
        "TT=TT.append([Gtest,Ntest],ignore_index=True)"
      ],
      "execution_count": null,
      "outputs": []
    },
    {
      "cell_type": "code",
      "metadata": {
        "colab": {
          "base_uri": "https://localhost:8080/"
        },
        "id": "w54XhggkDSpS",
        "outputId": "08f8fa60-0414-4e69-d8b8-d7247493db36"
      },
      "source": [
        "TT.shape"
      ],
      "execution_count": null,
      "outputs": [
        {
          "output_type": "execute_result",
          "data": {
            "text/plain": [
              "(5228, 31)"
            ]
          },
          "metadata": {
            "tags": []
          },
          "execution_count": 32
        }
      ]
    },
    {
      "cell_type": "code",
      "metadata": {
        "colab": {
          "base_uri": "https://localhost:8080/",
          "height": 422
        },
        "id": "fOYP5jmW-7YT",
        "outputId": "8d5f5875-e3d5-4bd6-fbae-656a7700d39b"
      },
      "source": [
        "Label_encode(Final)\n",
        "Final['Proto_mean']=bin.bin_means(Final['Proto'],5)\n",
        "Final['Proto_bndry']=bin.bin_boundry(Final['Proto'],5)\n",
        "Final"
      ],
      "execution_count": null,
      "outputs": [
        {
          "output_type": "execute_result",
          "data": {
            "text/html": [
              "<div>\n",
              "<style scoped>\n",
              "    .dataframe tbody tr th:only-of-type {\n",
              "        vertical-align: middle;\n",
              "    }\n",
              "\n",
              "    .dataframe tbody tr th {\n",
              "        vertical-align: top;\n",
              "    }\n",
              "\n",
              "    .dataframe thead th {\n",
              "        text-align: right;\n",
              "    }\n",
              "</style>\n",
              "<table border=\"1\" class=\"dataframe\">\n",
              "  <thead>\n",
              "    <tr style=\"text-align: right;\">\n",
              "      <th></th>\n",
              "      <th>RunTime</th>\n",
              "      <th>Proto</th>\n",
              "      <th>TotBytes</th>\n",
              "      <th>Load</th>\n",
              "      <th>Loss</th>\n",
              "      <th>TcpRtt</th>\n",
              "      <th>Offset</th>\n",
              "      <th>Ttl</th>\n",
              "      <th>Tos</th>\n",
              "      <th>Gap</th>\n",
              "      <th>win</th>\n",
              "      <th>TotBytes_mean</th>\n",
              "      <th>TotBytes_var</th>\n",
              "      <th>TotBytes_bndry</th>\n",
              "      <th>Load_var</th>\n",
              "      <th>Load_mean</th>\n",
              "      <th>Load_bndry</th>\n",
              "      <th>Loss_mean</th>\n",
              "      <th>Loss_var</th>\n",
              "      <th>Loss_bndry</th>\n",
              "      <th>Ttl_mean</th>\n",
              "      <th>Ttl_var</th>\n",
              "      <th>Ttl_bndry</th>\n",
              "      <th>Tos_mean</th>\n",
              "      <th>Tos_var</th>\n",
              "      <th>Tos_bndry</th>\n",
              "      <th>win_mean</th>\n",
              "      <th>Gap_mean</th>\n",
              "      <th>Offset_mean</th>\n",
              "      <th>rtt_mean</th>\n",
              "      <th>output</th>\n",
              "      <th>Proto_mean</th>\n",
              "      <th>Proto_bndry</th>\n",
              "    </tr>\n",
              "  </thead>\n",
              "  <tbody>\n",
              "    <tr>\n",
              "      <th>0</th>\n",
              "      <td>2.709834</td>\n",
              "      <td>3</td>\n",
              "      <td>0</td>\n",
              "      <td>0.00</td>\n",
              "      <td>0</td>\n",
              "      <td>0.000000</td>\n",
              "      <td>0</td>\n",
              "      <td>314.940132</td>\n",
              "      <td>53.323082</td>\n",
              "      <td>7.586961</td>\n",
              "      <td>100708.041972</td>\n",
              "      <td>1917.2</td>\n",
              "      <td>3.337889e+06</td>\n",
              "      <td>0</td>\n",
              "      <td>8.668838e+08</td>\n",
              "      <td>20803.196</td>\n",
              "      <td>0.0</td>\n",
              "      <td>0.0</td>\n",
              "      <td>0.00</td>\n",
              "      <td>0</td>\n",
              "      <td>335.788026</td>\n",
              "      <td>2465.458673</td>\n",
              "      <td>373.0</td>\n",
              "      <td>47.464616</td>\n",
              "      <td>5086.980405</td>\n",
              "      <td>0.0</td>\n",
              "      <td>41202.416789</td>\n",
              "      <td>3.034784</td>\n",
              "      <td>287.2</td>\n",
              "      <td>0.000000</td>\n",
              "      <td>1</td>\n",
              "      <td>4.8</td>\n",
              "      <td>3</td>\n",
              "    </tr>\n",
              "    <tr>\n",
              "      <th>1</th>\n",
              "      <td>4.924663</td>\n",
              "      <td>6</td>\n",
              "      <td>4678</td>\n",
              "      <td>7209.42</td>\n",
              "      <td>0</td>\n",
              "      <td>0.000000</td>\n",
              "      <td>128</td>\n",
              "      <td>247.000000</td>\n",
              "      <td>184.000000</td>\n",
              "      <td>7.586961</td>\n",
              "      <td>100708.041972</td>\n",
              "      <td>1917.2</td>\n",
              "      <td>3.337889e+06</td>\n",
              "      <td>4678</td>\n",
              "      <td>8.668838e+08</td>\n",
              "      <td>20803.196</td>\n",
              "      <td>0.0</td>\n",
              "      <td>0.0</td>\n",
              "      <td>0.00</td>\n",
              "      <td>0</td>\n",
              "      <td>335.788026</td>\n",
              "      <td>2465.458673</td>\n",
              "      <td>247.0</td>\n",
              "      <td>47.464616</td>\n",
              "      <td>5086.980405</td>\n",
              "      <td>184.0</td>\n",
              "      <td>41202.416789</td>\n",
              "      <td>3.034784</td>\n",
              "      <td>287.2</td>\n",
              "      <td>0.000000</td>\n",
              "      <td>1</td>\n",
              "      <td>4.8</td>\n",
              "      <td>6</td>\n",
              "    </tr>\n",
              "    <tr>\n",
              "      <th>2</th>\n",
              "      <td>0.258811</td>\n",
              "      <td>5</td>\n",
              "      <td>3489</td>\n",
              "      <td>79316.50</td>\n",
              "      <td>0</td>\n",
              "      <td>0.000000</td>\n",
              "      <td>224</td>\n",
              "      <td>371.000000</td>\n",
              "      <td>0.000000</td>\n",
              "      <td>0.000000</td>\n",
              "      <td>1536.000000</td>\n",
              "      <td>1917.2</td>\n",
              "      <td>3.337889e+06</td>\n",
              "      <td>4678</td>\n",
              "      <td>8.668838e+08</td>\n",
              "      <td>20803.196</td>\n",
              "      <td>79316.5</td>\n",
              "      <td>0.0</td>\n",
              "      <td>0.00</td>\n",
              "      <td>0</td>\n",
              "      <td>335.788026</td>\n",
              "      <td>2465.458673</td>\n",
              "      <td>373.0</td>\n",
              "      <td>47.464616</td>\n",
              "      <td>5086.980405</td>\n",
              "      <td>0.0</td>\n",
              "      <td>41202.416789</td>\n",
              "      <td>3.034784</td>\n",
              "      <td>287.2</td>\n",
              "      <td>0.000000</td>\n",
              "      <td>1</td>\n",
              "      <td>4.8</td>\n",
              "      <td>6</td>\n",
              "    </tr>\n",
              "    <tr>\n",
              "      <th>3</th>\n",
              "      <td>0.524698</td>\n",
              "      <td>5</td>\n",
              "      <td>755</td>\n",
              "      <td>7684.41</td>\n",
              "      <td>0</td>\n",
              "      <td>0.000000</td>\n",
              "      <td>436</td>\n",
              "      <td>373.000000</td>\n",
              "      <td>0.000000</td>\n",
              "      <td>0.000000</td>\n",
              "      <td>1532.000000</td>\n",
              "      <td>1917.2</td>\n",
              "      <td>3.337889e+06</td>\n",
              "      <td>0</td>\n",
              "      <td>8.668838e+08</td>\n",
              "      <td>20803.196</td>\n",
              "      <td>0.0</td>\n",
              "      <td>0.0</td>\n",
              "      <td>0.00</td>\n",
              "      <td>0</td>\n",
              "      <td>335.788026</td>\n",
              "      <td>2465.458673</td>\n",
              "      <td>373.0</td>\n",
              "      <td>47.464616</td>\n",
              "      <td>5086.980405</td>\n",
              "      <td>0.0</td>\n",
              "      <td>41202.416789</td>\n",
              "      <td>3.034784</td>\n",
              "      <td>287.2</td>\n",
              "      <td>0.000000</td>\n",
              "      <td>1</td>\n",
              "      <td>4.8</td>\n",
              "      <td>6</td>\n",
              "    </tr>\n",
              "    <tr>\n",
              "      <th>4</th>\n",
              "      <td>0.361424</td>\n",
              "      <td>5</td>\n",
              "      <td>664</td>\n",
              "      <td>9805.65</td>\n",
              "      <td>0</td>\n",
              "      <td>0.000000</td>\n",
              "      <td>648</td>\n",
              "      <td>373.000000</td>\n",
              "      <td>0.000000</td>\n",
              "      <td>0.000000</td>\n",
              "      <td>1528.000000</td>\n",
              "      <td>1917.2</td>\n",
              "      <td>3.337889e+06</td>\n",
              "      <td>0</td>\n",
              "      <td>8.668838e+08</td>\n",
              "      <td>20803.196</td>\n",
              "      <td>0.0</td>\n",
              "      <td>0.0</td>\n",
              "      <td>0.00</td>\n",
              "      <td>0</td>\n",
              "      <td>335.788026</td>\n",
              "      <td>2465.458673</td>\n",
              "      <td>373.0</td>\n",
              "      <td>47.464616</td>\n",
              "      <td>5086.980405</td>\n",
              "      <td>0.0</td>\n",
              "      <td>41202.416789</td>\n",
              "      <td>3.034784</td>\n",
              "      <td>287.2</td>\n",
              "      <td>0.000000</td>\n",
              "      <td>1</td>\n",
              "      <td>4.8</td>\n",
              "      <td>6</td>\n",
              "    </tr>\n",
              "    <tr>\n",
              "      <th>...</th>\n",
              "      <td>...</td>\n",
              "      <td>...</td>\n",
              "      <td>...</td>\n",
              "      <td>...</td>\n",
              "      <td>...</td>\n",
              "      <td>...</td>\n",
              "      <td>...</td>\n",
              "      <td>...</td>\n",
              "      <td>...</td>\n",
              "      <td>...</td>\n",
              "      <td>...</td>\n",
              "      <td>...</td>\n",
              "      <td>...</td>\n",
              "      <td>...</td>\n",
              "      <td>...</td>\n",
              "      <td>...</td>\n",
              "      <td>...</td>\n",
              "      <td>...</td>\n",
              "      <td>...</td>\n",
              "      <td>...</td>\n",
              "      <td>...</td>\n",
              "      <td>...</td>\n",
              "      <td>...</td>\n",
              "      <td>...</td>\n",
              "      <td>...</td>\n",
              "      <td>...</td>\n",
              "      <td>...</td>\n",
              "      <td>...</td>\n",
              "      <td>...</td>\n",
              "      <td>...</td>\n",
              "      <td>...</td>\n",
              "      <td>...</td>\n",
              "      <td>...</td>\n",
              "    </tr>\n",
              "    <tr>\n",
              "      <th>133546</th>\n",
              "      <td>0.830939</td>\n",
              "      <td>6</td>\n",
              "      <td>1651</td>\n",
              "      <td>11620.50</td>\n",
              "      <td>0</td>\n",
              "      <td>0.000000</td>\n",
              "      <td>1540524</td>\n",
              "      <td>315.000000</td>\n",
              "      <td>147.000000</td>\n",
              "      <td>5.179696</td>\n",
              "      <td>134910.746953</td>\n",
              "      <td>479.2</td>\n",
              "      <td>3.466346e+05</td>\n",
              "      <td>1651</td>\n",
              "      <td>2.038267e+07</td>\n",
              "      <td>2726.750</td>\n",
              "      <td>11620.5</td>\n",
              "      <td>0.2</td>\n",
              "      <td>0.16</td>\n",
              "      <td>0</td>\n",
              "      <td>267.200000</td>\n",
              "      <td>5331.760000</td>\n",
              "      <td>348.0</td>\n",
              "      <td>77.200000</td>\n",
              "      <td>2154.160000</td>\n",
              "      <td>147.0</td>\n",
              "      <td>121061.898781</td>\n",
              "      <td>2.071878</td>\n",
              "      <td>1540507.2</td>\n",
              "      <td>0.310158</td>\n",
              "      <td>6</td>\n",
              "      <td>5.4</td>\n",
              "      <td>6</td>\n",
              "    </tr>\n",
              "    <tr>\n",
              "      <th>133547</th>\n",
              "      <td>0.590020</td>\n",
              "      <td>5</td>\n",
              "      <td>121</td>\n",
              "      <td>0.00</td>\n",
              "      <td>1</td>\n",
              "      <td>0.306011</td>\n",
              "      <td>1540644</td>\n",
              "      <td>180.000000</td>\n",
              "      <td>40.000000</td>\n",
              "      <td>0.000000</td>\n",
              "      <td>128640.000000</td>\n",
              "      <td>479.2</td>\n",
              "      <td>3.466346e+05</td>\n",
              "      <td>121</td>\n",
              "      <td>2.038267e+07</td>\n",
              "      <td>2726.750</td>\n",
              "      <td>0.0</td>\n",
              "      <td>0.2</td>\n",
              "      <td>0.16</td>\n",
              "      <td>1</td>\n",
              "      <td>267.200000</td>\n",
              "      <td>5331.760000</td>\n",
              "      <td>178.0</td>\n",
              "      <td>77.200000</td>\n",
              "      <td>2154.160000</td>\n",
              "      <td>40.0</td>\n",
              "      <td>121061.898781</td>\n",
              "      <td>2.071878</td>\n",
              "      <td>1540507.2</td>\n",
              "      <td>0.310158</td>\n",
              "      <td>6</td>\n",
              "      <td>5.4</td>\n",
              "      <td>5</td>\n",
              "    </tr>\n",
              "    <tr>\n",
              "      <th>133548</th>\n",
              "      <td>0.707312</td>\n",
              "      <td>5</td>\n",
              "      <td>294</td>\n",
              "      <td>2013.25</td>\n",
              "      <td>0</td>\n",
              "      <td>0.598218</td>\n",
              "      <td>1540852</td>\n",
              "      <td>178.000000</td>\n",
              "      <td>40.000000</td>\n",
              "      <td>0.000000</td>\n",
              "      <td>108032.000000</td>\n",
              "      <td>479.2</td>\n",
              "      <td>3.466346e+05</td>\n",
              "      <td>121</td>\n",
              "      <td>2.038267e+07</td>\n",
              "      <td>2726.750</td>\n",
              "      <td>0.0</td>\n",
              "      <td>0.2</td>\n",
              "      <td>0.16</td>\n",
              "      <td>0</td>\n",
              "      <td>267.200000</td>\n",
              "      <td>5331.760000</td>\n",
              "      <td>178.0</td>\n",
              "      <td>77.200000</td>\n",
              "      <td>2154.160000</td>\n",
              "      <td>40.0</td>\n",
              "      <td>121061.898781</td>\n",
              "      <td>2.071878</td>\n",
              "      <td>1540507.2</td>\n",
              "      <td>0.310158</td>\n",
              "      <td>6</td>\n",
              "      <td>5.4</td>\n",
              "      <td>5</td>\n",
              "    </tr>\n",
              "    <tr>\n",
              "      <th>133549</th>\n",
              "      <td>0.133834</td>\n",
              "      <td>6</td>\n",
              "      <td>167</td>\n",
              "      <td>0.00</td>\n",
              "      <td>0</td>\n",
              "      <td>0.000000</td>\n",
              "      <td>1541060</td>\n",
              "      <td>315.000000</td>\n",
              "      <td>203.000000</td>\n",
              "      <td>5.179696</td>\n",
              "      <td>134910.746953</td>\n",
              "      <td>492534.0</td>\n",
              "      <td>2.424253e+11</td>\n",
              "      <td>167</td>\n",
              "      <td>1.166616e+13</td>\n",
              "      <td>3415575.500</td>\n",
              "      <td>0.0</td>\n",
              "      <td>0.0</td>\n",
              "      <td>0.00</td>\n",
              "      <td>0</td>\n",
              "      <td>313.000000</td>\n",
              "      <td>4.000000</td>\n",
              "      <td>315.0</td>\n",
              "      <td>265.000000</td>\n",
              "      <td>3844.000000</td>\n",
              "      <td>203.0</td>\n",
              "      <td>97999.873477</td>\n",
              "      <td>2.589848</td>\n",
              "      <td>1541118.0</td>\n",
              "      <td>0.293746</td>\n",
              "      <td>6</td>\n",
              "      <td>5.4</td>\n",
              "      <td>6</td>\n",
              "    </tr>\n",
              "    <tr>\n",
              "      <th>133550</th>\n",
              "      <td>1.150349</td>\n",
              "      <td>5</td>\n",
              "      <td>984901</td>\n",
              "      <td>6831151.00</td>\n",
              "      <td>0</td>\n",
              "      <td>0.587492</td>\n",
              "      <td>1541176</td>\n",
              "      <td>311.000000</td>\n",
              "      <td>327.000000</td>\n",
              "      <td>0.000000</td>\n",
              "      <td>61089.000000</td>\n",
              "      <td>492534.0</td>\n",
              "      <td>2.424253e+11</td>\n",
              "      <td>984901</td>\n",
              "      <td>1.166616e+13</td>\n",
              "      <td>3415575.500</td>\n",
              "      <td>6831151.0</td>\n",
              "      <td>0.0</td>\n",
              "      <td>0.00</td>\n",
              "      <td>0</td>\n",
              "      <td>313.000000</td>\n",
              "      <td>4.000000</td>\n",
              "      <td>311.0</td>\n",
              "      <td>265.000000</td>\n",
              "      <td>3844.000000</td>\n",
              "      <td>327.0</td>\n",
              "      <td>97999.873477</td>\n",
              "      <td>2.589848</td>\n",
              "      <td>1541118.0</td>\n",
              "      <td>0.293746</td>\n",
              "      <td>6</td>\n",
              "      <td>5.0</td>\n",
              "      <td>5</td>\n",
              "    </tr>\n",
              "  </tbody>\n",
              "</table>\n",
              "<p>133551 rows × 33 columns</p>\n",
              "</div>"
            ],
            "text/plain": [
              "         RunTime  Proto  TotBytes  ...  output  Proto_mean  Proto_bndry\n",
              "0       2.709834      3         0  ...       1         4.8            3\n",
              "1       4.924663      6      4678  ...       1         4.8            6\n",
              "2       0.258811      5      3489  ...       1         4.8            6\n",
              "3       0.524698      5       755  ...       1         4.8            6\n",
              "4       0.361424      5       664  ...       1         4.8            6\n",
              "...          ...    ...       ...  ...     ...         ...          ...\n",
              "133546  0.830939      6      1651  ...       6         5.4            6\n",
              "133547  0.590020      5       121  ...       6         5.4            5\n",
              "133548  0.707312      5       294  ...       6         5.4            5\n",
              "133549  0.133834      6       167  ...       6         5.4            6\n",
              "133550  1.150349      5    984901  ...       6         5.0            5\n",
              "\n",
              "[133551 rows x 33 columns]"
            ]
          },
          "metadata": {
            "tags": []
          },
          "execution_count": 36
        }
      ]
    },
    {
      "cell_type": "code",
      "metadata": {
        "colab": {
          "base_uri": "https://localhost:8080/",
          "height": 422
        },
        "id": "xJeMmSrlWeNY",
        "outputId": "b9bc09e9-354e-4ed3-80ad-36410391f49a"
      },
      "source": [
        "Label_encode(TT)\n",
        "TT['Proto_mean']=bin.bin_means(TT['Proto'],5)\n",
        "TT['Proto_bndry']=bin.bin_boundry(TT['Proto'],5)\n",
        "TT"
      ],
      "execution_count": null,
      "outputs": [
        {
          "output_type": "execute_result",
          "data": {
            "text/html": [
              "<div>\n",
              "<style scoped>\n",
              "    .dataframe tbody tr th:only-of-type {\n",
              "        vertical-align: middle;\n",
              "    }\n",
              "\n",
              "    .dataframe tbody tr th {\n",
              "        vertical-align: top;\n",
              "    }\n",
              "\n",
              "    .dataframe thead th {\n",
              "        text-align: right;\n",
              "    }\n",
              "</style>\n",
              "<table border=\"1\" class=\"dataframe\">\n",
              "  <thead>\n",
              "    <tr style=\"text-align: right;\">\n",
              "      <th></th>\n",
              "      <th>RunTime</th>\n",
              "      <th>Proto</th>\n",
              "      <th>TotBytes</th>\n",
              "      <th>Load</th>\n",
              "      <th>Loss</th>\n",
              "      <th>TcpRtt</th>\n",
              "      <th>Offset</th>\n",
              "      <th>Ttl</th>\n",
              "      <th>Tos</th>\n",
              "      <th>Gap</th>\n",
              "      <th>win</th>\n",
              "      <th>TotBytes_mean</th>\n",
              "      <th>TotBytes_var</th>\n",
              "      <th>TotBytes_bndry</th>\n",
              "      <th>Load_var</th>\n",
              "      <th>Load_mean</th>\n",
              "      <th>Load_bndry</th>\n",
              "      <th>Loss_mean</th>\n",
              "      <th>Loss_var</th>\n",
              "      <th>Loss_bndry</th>\n",
              "      <th>Ttl_mean</th>\n",
              "      <th>Ttl_var</th>\n",
              "      <th>Ttl_bndry</th>\n",
              "      <th>Tos_mean</th>\n",
              "      <th>Tos_var</th>\n",
              "      <th>Tos_bndry</th>\n",
              "      <th>win_mean</th>\n",
              "      <th>Gap_mean</th>\n",
              "      <th>Offset_mean</th>\n",
              "      <th>rtt_mean</th>\n",
              "      <th>output</th>\n",
              "      <th>Proto_mean</th>\n",
              "      <th>Proto_bndry</th>\n",
              "    </tr>\n",
              "  </thead>\n",
              "  <tbody>\n",
              "    <tr>\n",
              "      <th>0</th>\n",
              "      <td>2.301041</td>\n",
              "      <td>3</td>\n",
              "      <td>0</td>\n",
              "      <td>0.0</td>\n",
              "      <td>0</td>\n",
              "      <td>0.000000</td>\n",
              "      <td>0</td>\n",
              "      <td>229.171494</td>\n",
              "      <td>54.956165</td>\n",
              "      <td>60.457989</td>\n",
              "      <td>173801.235991</td>\n",
              "      <td>7928.6</td>\n",
              "      <td>1.240576e+08</td>\n",
              "      <td>0</td>\n",
              "      <td>4.759676e+08</td>\n",
              "      <td>28892.5</td>\n",
              "      <td>0.0</td>\n",
              "      <td>0.2</td>\n",
              "      <td>0.16</td>\n",
              "      <td>0</td>\n",
              "      <td>216.434299</td>\n",
              "      <td>847.909038</td>\n",
              "      <td>245.0</td>\n",
              "      <td>36.591233</td>\n",
              "      <td>2541.917682</td>\n",
              "      <td>0.0</td>\n",
              "      <td>35831.247198</td>\n",
              "      <td>320.491598</td>\n",
              "      <td>356.8</td>\n",
              "      <td>0.000000</td>\n",
              "      <td>0</td>\n",
              "      <td>3.800000</td>\n",
              "      <td>3</td>\n",
              "    </tr>\n",
              "    <tr>\n",
              "      <th>1</th>\n",
              "      <td>4.946237</td>\n",
              "      <td>4</td>\n",
              "      <td>29683</td>\n",
              "      <td>47441.3</td>\n",
              "      <td>0</td>\n",
              "      <td>0.000000</td>\n",
              "      <td>128</td>\n",
              "      <td>183.000000</td>\n",
              "      <td>128.000000</td>\n",
              "      <td>150.000000</td>\n",
              "      <td>742.000000</td>\n",
              "      <td>7928.6</td>\n",
              "      <td>1.240576e+08</td>\n",
              "      <td>29683</td>\n",
              "      <td>4.759676e+08</td>\n",
              "      <td>28892.5</td>\n",
              "      <td>59903.9</td>\n",
              "      <td>0.2</td>\n",
              "      <td>0.16</td>\n",
              "      <td>0</td>\n",
              "      <td>216.434299</td>\n",
              "      <td>847.909038</td>\n",
              "      <td>180.0</td>\n",
              "      <td>36.591233</td>\n",
              "      <td>2541.917682</td>\n",
              "      <td>128.0</td>\n",
              "      <td>35831.247198</td>\n",
              "      <td>320.491598</td>\n",
              "      <td>356.8</td>\n",
              "      <td>0.000000</td>\n",
              "      <td>0</td>\n",
              "      <td>3.800000</td>\n",
              "      <td>4</td>\n",
              "    </tr>\n",
              "    <tr>\n",
              "      <th>2</th>\n",
              "      <td>2.206573</td>\n",
              "      <td>4</td>\n",
              "      <td>6671</td>\n",
              "      <td>22144.7</td>\n",
              "      <td>0</td>\n",
              "      <td>0.000000</td>\n",
              "      <td>340</td>\n",
              "      <td>245.000000</td>\n",
              "      <td>0.000000</td>\n",
              "      <td>519.000000</td>\n",
              "      <td>1307.000000</td>\n",
              "      <td>7928.6</td>\n",
              "      <td>1.240576e+08</td>\n",
              "      <td>0</td>\n",
              "      <td>4.759676e+08</td>\n",
              "      <td>28892.5</td>\n",
              "      <td>0.0</td>\n",
              "      <td>0.2</td>\n",
              "      <td>0.16</td>\n",
              "      <td>0</td>\n",
              "      <td>216.434299</td>\n",
              "      <td>847.909038</td>\n",
              "      <td>245.0</td>\n",
              "      <td>36.591233</td>\n",
              "      <td>2541.917682</td>\n",
              "      <td>0.0</td>\n",
              "      <td>35831.247198</td>\n",
              "      <td>320.491598</td>\n",
              "      <td>356.8</td>\n",
              "      <td>0.000000</td>\n",
              "      <td>0</td>\n",
              "      <td>3.800000</td>\n",
              "      <td>4</td>\n",
              "    </tr>\n",
              "    <tr>\n",
              "      <th>3</th>\n",
              "      <td>0.348291</td>\n",
              "      <td>4</td>\n",
              "      <td>2988</td>\n",
              "      <td>59903.9</td>\n",
              "      <td>0</td>\n",
              "      <td>0.000000</td>\n",
              "      <td>552</td>\n",
              "      <td>245.000000</td>\n",
              "      <td>0.000000</td>\n",
              "      <td>873.000000</td>\n",
              "      <td>2967.000000</td>\n",
              "      <td>7928.6</td>\n",
              "      <td>1.240576e+08</td>\n",
              "      <td>0</td>\n",
              "      <td>4.759676e+08</td>\n",
              "      <td>28892.5</td>\n",
              "      <td>59903.9</td>\n",
              "      <td>0.2</td>\n",
              "      <td>0.16</td>\n",
              "      <td>0</td>\n",
              "      <td>216.434299</td>\n",
              "      <td>847.909038</td>\n",
              "      <td>245.0</td>\n",
              "      <td>36.591233</td>\n",
              "      <td>2541.917682</td>\n",
              "      <td>0.0</td>\n",
              "      <td>35831.247198</td>\n",
              "      <td>320.491598</td>\n",
              "      <td>356.8</td>\n",
              "      <td>0.000000</td>\n",
              "      <td>0</td>\n",
              "      <td>3.800000</td>\n",
              "      <td>4</td>\n",
              "    </tr>\n",
              "    <tr>\n",
              "      <th>4</th>\n",
              "      <td>0.095107</td>\n",
              "      <td>4</td>\n",
              "      <td>301</td>\n",
              "      <td>14972.6</td>\n",
              "      <td>1</td>\n",
              "      <td>0.000000</td>\n",
              "      <td>764</td>\n",
              "      <td>180.000000</td>\n",
              "      <td>0.000000</td>\n",
              "      <td>0.000000</td>\n",
              "      <td>339.000000</td>\n",
              "      <td>7928.6</td>\n",
              "      <td>1.240576e+08</td>\n",
              "      <td>0</td>\n",
              "      <td>4.759676e+08</td>\n",
              "      <td>28892.5</td>\n",
              "      <td>0.0</td>\n",
              "      <td>0.2</td>\n",
              "      <td>0.16</td>\n",
              "      <td>1</td>\n",
              "      <td>216.434299</td>\n",
              "      <td>847.909038</td>\n",
              "      <td>180.0</td>\n",
              "      <td>36.591233</td>\n",
              "      <td>2541.917682</td>\n",
              "      <td>0.0</td>\n",
              "      <td>35831.247198</td>\n",
              "      <td>320.491598</td>\n",
              "      <td>356.8</td>\n",
              "      <td>0.000000</td>\n",
              "      <td>0</td>\n",
              "      <td>3.800000</td>\n",
              "      <td>4</td>\n",
              "    </tr>\n",
              "    <tr>\n",
              "      <th>...</th>\n",
              "      <td>...</td>\n",
              "      <td>...</td>\n",
              "      <td>...</td>\n",
              "      <td>...</td>\n",
              "      <td>...</td>\n",
              "      <td>...</td>\n",
              "      <td>...</td>\n",
              "      <td>...</td>\n",
              "      <td>...</td>\n",
              "      <td>...</td>\n",
              "      <td>...</td>\n",
              "      <td>...</td>\n",
              "      <td>...</td>\n",
              "      <td>...</td>\n",
              "      <td>...</td>\n",
              "      <td>...</td>\n",
              "      <td>...</td>\n",
              "      <td>...</td>\n",
              "      <td>...</td>\n",
              "      <td>...</td>\n",
              "      <td>...</td>\n",
              "      <td>...</td>\n",
              "      <td>...</td>\n",
              "      <td>...</td>\n",
              "      <td>...</td>\n",
              "      <td>...</td>\n",
              "      <td>...</td>\n",
              "      <td>...</td>\n",
              "      <td>...</td>\n",
              "      <td>...</td>\n",
              "      <td>...</td>\n",
              "      <td>...</td>\n",
              "      <td>...</td>\n",
              "    </tr>\n",
              "    <tr>\n",
              "      <th>5223</th>\n",
              "      <td>0.739505</td>\n",
              "      <td>4</td>\n",
              "      <td>1250</td>\n",
              "      <td>11596.9</td>\n",
              "      <td>1</td>\n",
              "      <td>0.000000</td>\n",
              "      <td>210312</td>\n",
              "      <td>246.000000</td>\n",
              "      <td>128.000000</td>\n",
              "      <td>0.000000</td>\n",
              "      <td>566.000000</td>\n",
              "      <td>139486.0</td>\n",
              "      <td>7.617328e+10</td>\n",
              "      <td>121</td>\n",
              "      <td>3.505394e+11</td>\n",
              "      <td>344823.1</td>\n",
              "      <td>0.0</td>\n",
              "      <td>0.4</td>\n",
              "      <td>0.24</td>\n",
              "      <td>1</td>\n",
              "      <td>207.600000</td>\n",
              "      <td>957.840000</td>\n",
              "      <td>246.0</td>\n",
              "      <td>51.200000</td>\n",
              "      <td>3932.160000</td>\n",
              "      <td>128.0</td>\n",
              "      <td>153660.412345</td>\n",
              "      <td>5.618163</td>\n",
              "      <td>210717.6</td>\n",
              "      <td>0.130623</td>\n",
              "      <td>1</td>\n",
              "      <td>4.000000</td>\n",
              "      <td>4</td>\n",
              "    </tr>\n",
              "    <tr>\n",
              "      <th>5224</th>\n",
              "      <td>3.624705</td>\n",
              "      <td>4</td>\n",
              "      <td>691472</td>\n",
              "      <td>1522107.0</td>\n",
              "      <td>0</td>\n",
              "      <td>0.169274</td>\n",
              "      <td>210524</td>\n",
              "      <td>182.000000</td>\n",
              "      <td>0.000000</td>\n",
              "      <td>0.000000</td>\n",
              "      <td>547578.000000</td>\n",
              "      <td>139486.0</td>\n",
              "      <td>7.617328e+10</td>\n",
              "      <td>691472</td>\n",
              "      <td>3.505394e+11</td>\n",
              "      <td>344823.1</td>\n",
              "      <td>1522107.0</td>\n",
              "      <td>0.4</td>\n",
              "      <td>0.24</td>\n",
              "      <td>0</td>\n",
              "      <td>207.600000</td>\n",
              "      <td>957.840000</td>\n",
              "      <td>182.0</td>\n",
              "      <td>51.200000</td>\n",
              "      <td>3932.160000</td>\n",
              "      <td>0.0</td>\n",
              "      <td>153660.412345</td>\n",
              "      <td>5.618163</td>\n",
              "      <td>210717.6</td>\n",
              "      <td>0.130623</td>\n",
              "      <td>1</td>\n",
              "      <td>4.000000</td>\n",
              "      <td>4</td>\n",
              "    </tr>\n",
              "    <tr>\n",
              "      <th>5225</th>\n",
              "      <td>0.078884</td>\n",
              "      <td>4</td>\n",
              "      <td>3413</td>\n",
              "      <td>173114.0</td>\n",
              "      <td>0</td>\n",
              "      <td>0.146469</td>\n",
              "      <td>210744</td>\n",
              "      <td>182.000000</td>\n",
              "      <td>0.000000</td>\n",
              "      <td>0.000000</td>\n",
              "      <td>21403.000000</td>\n",
              "      <td>139486.0</td>\n",
              "      <td>7.617328e+10</td>\n",
              "      <td>121</td>\n",
              "      <td>3.505394e+11</td>\n",
              "      <td>344823.1</td>\n",
              "      <td>0.0</td>\n",
              "      <td>0.4</td>\n",
              "      <td>0.24</td>\n",
              "      <td>0</td>\n",
              "      <td>207.600000</td>\n",
              "      <td>957.840000</td>\n",
              "      <td>182.0</td>\n",
              "      <td>51.200000</td>\n",
              "      <td>3932.160000</td>\n",
              "      <td>0.0</td>\n",
              "      <td>153660.412345</td>\n",
              "      <td>5.618163</td>\n",
              "      <td>210717.6</td>\n",
              "      <td>0.130623</td>\n",
              "      <td>1</td>\n",
              "      <td>4.333333</td>\n",
              "      <td>4</td>\n",
              "    </tr>\n",
              "    <tr>\n",
              "      <th>5226</th>\n",
              "      <td>0.349643</td>\n",
              "      <td>5</td>\n",
              "      <td>1174</td>\n",
              "      <td>17297.6</td>\n",
              "      <td>0</td>\n",
              "      <td>0.000000</td>\n",
              "      <td>210956</td>\n",
              "      <td>183.000000</td>\n",
              "      <td>128.000000</td>\n",
              "      <td>28.090815</td>\n",
              "      <td>62563.061723</td>\n",
              "      <td>139486.0</td>\n",
              "      <td>7.617328e+10</td>\n",
              "      <td>121</td>\n",
              "      <td>3.505394e+11</td>\n",
              "      <td>344823.1</td>\n",
              "      <td>0.0</td>\n",
              "      <td>0.4</td>\n",
              "      <td>0.24</td>\n",
              "      <td>0</td>\n",
              "      <td>207.600000</td>\n",
              "      <td>957.840000</td>\n",
              "      <td>182.0</td>\n",
              "      <td>51.200000</td>\n",
              "      <td>3932.160000</td>\n",
              "      <td>128.0</td>\n",
              "      <td>153660.412345</td>\n",
              "      <td>5.618163</td>\n",
              "      <td>210717.6</td>\n",
              "      <td>0.130623</td>\n",
              "      <td>1</td>\n",
              "      <td>4.333333</td>\n",
              "      <td>5</td>\n",
              "    </tr>\n",
              "    <tr>\n",
              "      <th>5227</th>\n",
              "      <td>0.081182</td>\n",
              "      <td>4</td>\n",
              "      <td>121</td>\n",
              "      <td>0.0</td>\n",
              "      <td>1</td>\n",
              "      <td>0.337372</td>\n",
              "      <td>211052</td>\n",
              "      <td>245.000000</td>\n",
              "      <td>0.000000</td>\n",
              "      <td>0.000000</td>\n",
              "      <td>136192.000000</td>\n",
              "      <td>139486.0</td>\n",
              "      <td>7.617328e+10</td>\n",
              "      <td>121</td>\n",
              "      <td>3.505394e+11</td>\n",
              "      <td>344823.1</td>\n",
              "      <td>0.0</td>\n",
              "      <td>0.4</td>\n",
              "      <td>0.24</td>\n",
              "      <td>1</td>\n",
              "      <td>207.600000</td>\n",
              "      <td>957.840000</td>\n",
              "      <td>246.0</td>\n",
              "      <td>51.200000</td>\n",
              "      <td>3932.160000</td>\n",
              "      <td>0.0</td>\n",
              "      <td>153660.412345</td>\n",
              "      <td>5.618163</td>\n",
              "      <td>210717.6</td>\n",
              "      <td>0.130623</td>\n",
              "      <td>1</td>\n",
              "      <td>4.333333</td>\n",
              "      <td>4</td>\n",
              "    </tr>\n",
              "  </tbody>\n",
              "</table>\n",
              "<p>5228 rows × 33 columns</p>\n",
              "</div>"
            ],
            "text/plain": [
              "       RunTime  Proto  TotBytes  ...  output  Proto_mean  Proto_bndry\n",
              "0     2.301041      3         0  ...       0    3.800000            3\n",
              "1     4.946237      4     29683  ...       0    3.800000            4\n",
              "2     2.206573      4      6671  ...       0    3.800000            4\n",
              "3     0.348291      4      2988  ...       0    3.800000            4\n",
              "4     0.095107      4       301  ...       0    3.800000            4\n",
              "...        ...    ...       ...  ...     ...         ...          ...\n",
              "5223  0.739505      4      1250  ...       1    4.000000            4\n",
              "5224  3.624705      4    691472  ...       1    4.000000            4\n",
              "5225  0.078884      4      3413  ...       1    4.333333            4\n",
              "5226  0.349643      5      1174  ...       1    4.333333            5\n",
              "5227  0.081182      4       121  ...       1    4.333333            4\n",
              "\n",
              "[5228 rows x 33 columns]"
            ]
          },
          "metadata": {
            "tags": []
          },
          "execution_count": 33
        }
      ]
    },
    {
      "cell_type": "code",
      "metadata": {
        "colab": {
          "base_uri": "https://localhost:8080/"
        },
        "id": "jQfgfonlA4Qt",
        "outputId": "c3c05953-d1de-4939-f949-d14d0fd48ac7"
      },
      "source": [
        "Final['output'].unique()"
      ],
      "execution_count": null,
      "outputs": [
        {
          "output_type": "execute_result",
          "data": {
            "text/plain": [
              "array([1, 2, 4, 3, 5, 6])"
            ]
          },
          "metadata": {
            "tags": []
          },
          "execution_count": 37
        }
      ]
    },
    {
      "cell_type": "code",
      "metadata": {
        "colab": {
          "base_uri": "https://localhost:8080/"
        },
        "id": "N5JjZMR_Wq4t",
        "outputId": "4ad21798-1e91-41de-fc6f-b8e06713dd78"
      },
      "source": [
        "TT['output'].unique()"
      ],
      "execution_count": null,
      "outputs": [
        {
          "output_type": "execute_result",
          "data": {
            "text/plain": [
              "array([0, 1])"
            ]
          },
          "metadata": {
            "tags": []
          },
          "execution_count": 34
        }
      ]
    },
    {
      "cell_type": "code",
      "metadata": {
        "colab": {
          "base_uri": "https://localhost:8080/"
        },
        "id": "L0aGvKgxB36P",
        "outputId": "c5805cd0-ed40-447b-cc14-cb71f24b1a8e"
      },
      "source": [
        "Final.isna().sum()"
      ],
      "execution_count": null,
      "outputs": [
        {
          "output_type": "execute_result",
          "data": {
            "text/plain": [
              "RunTime           0\n",
              "Proto             0\n",
              "TotBytes          0\n",
              "Load              0\n",
              "Loss              0\n",
              "TcpRtt            0\n",
              "Offset            0\n",
              "Ttl               0\n",
              "Tos               0\n",
              "Gap               0\n",
              "win               0\n",
              "TotBytes_mean     0\n",
              "TotBytes_var      0\n",
              "TotBytes_bndry    0\n",
              "Load_var          0\n",
              "Load_mean         0\n",
              "Load_bndry        0\n",
              "Loss_mean         0\n",
              "Loss_var          0\n",
              "Loss_bndry        0\n",
              "Ttl_mean          0\n",
              "Ttl_var           0\n",
              "Ttl_bndry         0\n",
              "Tos_mean          0\n",
              "Tos_var           0\n",
              "Tos_bndry         0\n",
              "win_mean          0\n",
              "Gap_mean          0\n",
              "Offset_mean       0\n",
              "rtt_mean          0\n",
              "output            0\n",
              "Proto_mean        0\n",
              "Proto_bndry       0\n",
              "dtype: int64"
            ]
          },
          "metadata": {
            "tags": []
          },
          "execution_count": 38
        }
      ]
    },
    {
      "cell_type": "code",
      "metadata": {
        "colab": {
          "base_uri": "https://localhost:8080/"
        },
        "id": "iE-uu5vtWyfp",
        "outputId": "79018294-7be7-4396-bf8b-18a61a51a0aa"
      },
      "source": [
        "TT.isna().sum()"
      ],
      "execution_count": null,
      "outputs": [
        {
          "output_type": "execute_result",
          "data": {
            "text/plain": [
              "RunTime           0\n",
              "Proto             0\n",
              "TotBytes          0\n",
              "Load              0\n",
              "Loss              0\n",
              "TcpRtt            0\n",
              "Offset            0\n",
              "Ttl               0\n",
              "Tos               0\n",
              "Gap               0\n",
              "win               0\n",
              "TotBytes_mean     0\n",
              "TotBytes_var      0\n",
              "TotBytes_bndry    0\n",
              "Load_var          0\n",
              "Load_mean         0\n",
              "Load_bndry        0\n",
              "Loss_mean         0\n",
              "Loss_var          0\n",
              "Loss_bndry        0\n",
              "Ttl_mean          0\n",
              "Ttl_var           0\n",
              "Ttl_bndry         0\n",
              "Tos_mean          0\n",
              "Tos_var           0\n",
              "Tos_bndry         0\n",
              "win_mean          0\n",
              "Gap_mean          0\n",
              "Offset_mean       0\n",
              "rtt_mean          0\n",
              "output            0\n",
              "Proto_mean        0\n",
              "Proto_bndry       0\n",
              "dtype: int64"
            ]
          },
          "metadata": {
            "tags": []
          },
          "execution_count": 35
        }
      ]
    },
    {
      "cell_type": "markdown",
      "metadata": {
        "id": "vApSmPi2whGj"
      },
      "source": [
        "# Now making TT columns same as Final"
      ]
    },
    {
      "cell_type": "code",
      "metadata": {
        "colab": {
          "base_uri": "https://localhost:8080/"
        },
        "id": "tzK2U8PnxH72",
        "outputId": "f17782e4-ec11-4685-893b-a9f6b5ce27c6"
      },
      "source": [
        "New_columns=[]\n",
        "for col in TT.columns.tolist():\n",
        "  if col in Final.columns.tolist():\n",
        "    New_columns.append(col)\n",
        "print(len(New_columns), New_columns)"
      ],
      "execution_count": null,
      "outputs": [
        {
          "output_type": "stream",
          "text": [
            "23 ['RunTime', 'Proto', 'TotBytes', 'Load', 'Loss', 'TcpRtt', 'Offset', 'Ttl', 'Tos', 'Gap', 'win', 'TotBytes_mean', 'TotBytes_var', 'Load_var', 'Loss_mean', 'Ttl_mean', 'Ttl_var', 'Tos_mean', 'win_mean', 'Gap_mean', 'rtt_mean', 'output', 'Proto_mean']\n"
          ],
          "name": "stdout"
        }
      ]
    },
    {
      "cell_type": "code",
      "metadata": {
        "colab": {
          "base_uri": "https://localhost:8080/"
        },
        "id": "ce9PW1vT3So2",
        "outputId": "484e3fb5-967d-4c83-e6ba-9d48a1b46d31"
      },
      "source": [
        "TT=TT[New_columns]\n",
        "TT.shape"
      ],
      "execution_count": null,
      "outputs": [
        {
          "output_type": "execute_result",
          "data": {
            "text/plain": [
              "(5228, 23)"
            ]
          },
          "metadata": {
            "tags": []
          },
          "execution_count": 37
        }
      ]
    },
    {
      "cell_type": "code",
      "metadata": {
        "colab": {
          "base_uri": "https://localhost:8080/"
        },
        "id": "BjvjWsQqysoy",
        "outputId": "c8fa5e9f-8315-40ae-8dc8-c625c1976de5"
      },
      "source": [
        "TT.columns"
      ],
      "execution_count": null,
      "outputs": [
        {
          "output_type": "execute_result",
          "data": {
            "text/plain": [
              "Index(['RunTime', 'Proto', 'TotBytes', 'Load', 'Loss', 'TcpRtt', 'Offset',\n",
              "       'Ttl', 'Tos', 'Gap', 'win', 'TotBytes_mean', 'TotBytes_var', 'Load_var',\n",
              "       'Loss_mean', 'Ttl_mean', 'Ttl_var', 'Tos_mean', 'win_mean', 'Gap_mean',\n",
              "       'rtt_mean', 'output', 'Proto_mean'],\n",
              "      dtype='object')"
            ]
          },
          "metadata": {
            "tags": []
          },
          "execution_count": 38
        }
      ]
    },
    {
      "cell_type": "code",
      "metadata": {
        "colab": {
          "base_uri": "https://localhost:8080/"
        },
        "id": "QxWnh7_hywnG",
        "outputId": "ffccbbbb-e651-4002-c101-1586c656b1bc"
      },
      "source": [
        "Final.columns"
      ],
      "execution_count": null,
      "outputs": [
        {
          "output_type": "execute_result",
          "data": {
            "text/plain": [
              "Index(['RunTime', 'Proto', 'TotBytes', 'Load', 'Loss', 'TcpRtt', 'Offset',\n",
              "       'Ttl', 'Tos', 'Gap', 'win', 'TotBytes_mean', 'TotBytes_var', 'Load_var',\n",
              "       'Loss_mean', 'Ttl_mean', 'Ttl_var', 'Tos_mean', 'win_mean', 'Gap_mean',\n",
              "       'rtt_mean', 'output', 'Proto_mean'],\n",
              "      dtype='object')"
            ]
          },
          "metadata": {
            "tags": []
          },
          "execution_count": 39
        }
      ]
    },
    {
      "cell_type": "markdown",
      "metadata": {
        "id": "qhU4n12KxA09"
      },
      "source": [
        "# correlation for Final only "
      ]
    },
    {
      "cell_type": "code",
      "metadata": {
        "colab": {
          "base_uri": "https://localhost:8080/",
          "height": 340
        },
        "id": "GR4rkXJ9Go56",
        "outputId": "e93ff6fe-3486-42d3-8fff-6ac51aaffbea"
      },
      "source": [
        "# correlation (Correlation is a measure of similarity among the attributes, in this way we can remove the redundant columns)\n",
        "import seaborn as sns\n",
        "corr=Final.corr()\n",
        "sns.heatmap(corr)"
      ],
      "execution_count": null,
      "outputs": [
        {
          "output_type": "execute_result",
          "data": {
            "text/plain": [
              "<matplotlib.axes._subplots.AxesSubplot at 0x7fe27b5334a8>"
            ]
          },
          "metadata": {
            "tags": []
          },
          "execution_count": 39
        },
        {
          "output_type": "display_data",
          "data": {
            "image/png": "[encoded data removed]",
            "text/plain": [
              "<Figure size 432x288 with 2 Axes>"
            ]
          },
          "metadata": {
            "tags": []
          }
        }
      ]
    },
    {
      "cell_type": "code",
      "metadata": {
        "colab": {
          "base_uri": "https://localhost:8080/",
          "height": 635
        },
        "id": "0bzz1WCSSAE5",
        "outputId": "dec869b8-1bf9-4870-c3f3-17b4126b1501"
      },
      "source": [
        "plt.figure(figsize = (12, 9))\n",
        "s = sns.heatmap(Final.corr(),\n",
        "               annot = False, \n",
        "               cmap = 'RdBu',\n",
        "               vmin = -1, \n",
        "               vmax = 1)\n",
        "s.set_yticklabels(s.get_yticklabels(), rotation = 0, fontsize = 12)\n",
        "s.set_xticklabels(s.get_xticklabels(), rotation = 90, fontsize = 12)\n",
        "plt.title('Correlation Heatmap')\n",
        "plt.show()"
      ],
      "execution_count": null,
      "outputs": [
        {
          "output_type": "display_data",
          "data": {
            "image/png": "[encoded data removed]",
            "text/plain": [
              "<Figure size 864x648 with 2 Axes>"
            ]
          },
          "metadata": {
            "tags": []
          }
        }
      ]
    },
    {
      "cell_type": "code",
      "metadata": {
        "colab": {
          "base_uri": "https://localhost:8080/",
          "height": 635
        },
        "id": "OP99yjm0XhZR",
        "outputId": "9feadb56-b699-457d-f83e-19bb64e20554"
      },
      "source": [
        "plt.figure(figsize = (12, 9))\n",
        "s = sns.heatmap(TT.corr(),\n",
        "               annot = False, \n",
        "               cmap = 'RdBu',\n",
        "               vmin = -1, \n",
        "               vmax = 1)\n",
        "s.set_yticklabels(s.get_yticklabels(), rotation = 0, fontsize = 12)\n",
        "s.set_xticklabels(s.get_xticklabels(), rotation = 90, fontsize = 12)\n",
        "plt.title('Correlation Heatmap')\n",
        "plt.show()"
      ],
      "execution_count": null,
      "outputs": [
        {
          "output_type": "display_data",
          "data": {
            "image/png": "[encoded data removed]",
            "text/plain": [
              "<Figure size 864x648 with 2 Axes>"
            ]
          },
          "metadata": {
            "tags": [],
            "needs_background": "light"
          }
        }
      ]
    },
    {
      "cell_type": "code",
      "metadata": {
        "id": "93ykJ6DJdYBw"
      },
      "source": [
        "TTT = TT.copy()"
      ],
      "execution_count": null,
      "outputs": []
    },
    {
      "cell_type": "code",
      "metadata": {
        "colab": {
          "base_uri": "https://localhost:8080/"
        },
        "id": "PiNSxCz8v9sp",
        "outputId": "f6e35acc-f48f-4cc9-da9d-3fdb1c8a75ac"
      },
      "source": [
        "TTT.shape"
      ],
      "execution_count": null,
      "outputs": [
        {
          "output_type": "execute_result",
          "data": {
            "text/plain": [
              "(5228, 21)"
            ]
          },
          "metadata": {
            "tags": []
          },
          "execution_count": 65
        }
      ]
    },
    {
      "cell_type": "code",
      "metadata": {
        "colab": {
          "base_uri": "https://localhost:8080/"
        },
        "id": "xVeVDwdwxZTk",
        "outputId": "76863385-2e96-4963-923a-601ceb983e06"
      },
      "source": [
        "# example\n",
        "x=np.full((corr.shape[0],),True,dtype=bool)\n",
        "x"
      ],
      "execution_count": null,
      "outputs": [
        {
          "output_type": "execute_result",
          "data": {
            "text/plain": [
              "array([ True,  True,  True,  True,  True,  True,  True,  True,  True,\n",
              "        True,  True,  True,  True,  True,  True,  True,  True,  True,\n",
              "        True,  True,  True,  True,  True,  True,  True,  True,  True,\n",
              "        True,  True,  True,  True,  True,  True])"
            ]
          },
          "metadata": {
            "tags": []
          },
          "execution_count": 43
        }
      ]
    },
    {
      "cell_type": "code",
      "metadata": {
        "id": "1AAujxgFkqAY"
      },
      "source": [
        "# here we tried to remove the most correlated attributes with threshold of >= 0.75\n",
        "columns = np.full((corr.shape[0],), True, dtype=bool)\n",
        "for i in range(corr.shape[0]):\n",
        "    for j in range(i+1, corr.shape[0]):\n",
        "        if corr.iloc[i,j] >= 0.75:\n",
        "            if columns[j]:\n",
        "                columns[j] = False\n",
        "selected_columns = Final.columns[columns]\n",
        "Final = Final[selected_columns]"
      ],
      "execution_count": null,
      "outputs": []
    },
    {
      "cell_type": "code",
      "metadata": {
        "id": "3rcBmGPPXxTb"
      },
      "source": [
        "# # here we tried to remove the most correlated attributes with threshold of >= 0.75\n",
        "# corr=TT.corr()\n",
        "# columns = np.full((corr.shape[0],), True, dtype=bool)\n",
        "# for i in range(corr.shape[0]):\n",
        "#     for j in range(i+1, corr.shape[0]):\n",
        "#         if corr.iloc[i,j] >= 0.88:\n",
        "#             if columns[j]:\n",
        "#                 columns[j] = False\n",
        "# selected_columns = TT.columns[columns]\n",
        "# TT = TT[selected_columns]"
      ],
      "execution_count": null,
      "outputs": []
    },
    {
      "cell_type": "code",
      "metadata": {
        "colab": {
          "base_uri": "https://localhost:8080/"
        },
        "id": "tL4qOOLVnWQa",
        "outputId": "56fc2716-2af6-483e-a1f4-6f3ebcac4619"
      },
      "source": [
        "Final.columns  # these are the final good columns for 0.75 value if wanted we can increase the threshold value later "
      ],
      "execution_count": null,
      "outputs": [
        {
          "output_type": "execute_result",
          "data": {
            "text/plain": [
              "Index(['RunTime', 'Proto', 'TotBytes', 'Load', 'Loss', 'TcpRtt', 'Offset',\n",
              "       'Ttl', 'Tos', 'Gap', 'win', 'TotBytes_mean', 'TotBytes_var', 'Load_var',\n",
              "       'Loss_mean', 'Ttl_mean', 'Ttl_var', 'Tos_mean', 'win_mean', 'Gap_mean',\n",
              "       'rtt_mean', 'output', 'Proto_mean'],\n",
              "      dtype='object')"
            ]
          },
          "metadata": {
            "tags": []
          },
          "execution_count": 52
        }
      ]
    },
    {
      "cell_type": "code",
      "metadata": {
        "id": "Sys-8R9gcItk"
      },
      "source": [
        ""
      ],
      "execution_count": null,
      "outputs": []
    },
    {
      "cell_type": "code",
      "metadata": {
        "colab": {
          "base_uri": "https://localhost:8080/"
        },
        "id": "1byYRgGKnsgT",
        "outputId": "e1d32a74-2d60-4c09-8eb1-200b91e1420d"
      },
      "source": [
        "# changing outputs to 1,2,3\n",
        "for i in range(len(Final)):\n",
        "  if Final.loc[i,'output']==2:\n",
        "    Final.loc[i,'output']=1\n",
        "  elif Final.loc[i,'output']==3 or Final.loc[i,'output']==4:\n",
        "    Final.loc[i,'output']=2\n",
        "  elif Final.loc[i,'output']==5 or Final.loc[i, 'output']==6:\n",
        "    Final.loc[i,'output']=3"
      ],
      "execution_count": null,
      "outputs": [
        {
          "output_type": "stream",
          "text": [
            "/usr/local/lib/python3.6/dist-packages/pandas/core/indexing.py:1763: SettingWithCopyWarning: \n",
            "A value is trying to be set on a copy of a slice from a DataFrame.\n",
            "Try using .loc[row_indexer,col_indexer] = value instead\n",
            "\n",
            "See the caveats in the documentation: https://pandas.pydata.org/pandas-docs/stable/user_guide/indexing.html#returning-a-view-versus-a-copy\n",
            "  isetter(loc, value)\n"
          ],
          "name": "stderr"
        }
      ]
    },
    {
      "cell_type": "code",
      "metadata": {
        "colab": {
          "base_uri": "https://localhost:8080/"
        },
        "id": "hXoW-PKorjJH",
        "outputId": "e44ed494-3937-4ff9-9ce5-77f204cdbec7"
      },
      "source": [
        "Final['output'].unique()"
      ],
      "execution_count": null,
      "outputs": [
        {
          "output_type": "execute_result",
          "data": {
            "text/plain": [
              "array([1, 2, 3])"
            ]
          },
          "metadata": {
            "tags": []
          },
          "execution_count": 46
        }
      ]
    },
    {
      "cell_type": "code",
      "metadata": {
        "colab": {
          "base_uri": "https://localhost:8080/"
        },
        "id": "xSXoVCAMMQuT",
        "outputId": "69c21f5c-fc80-4e09-d558-bf60169f5613"
      },
      "source": [
        "for i in range(len(Final)):\n",
        "  if Final.loc[i,'output'] == 1:\n",
        "    Final.loc[i,'output']=0\n",
        "  elif Final.loc[i,'output']==2:\n",
        "    Final.loc[i,'output']=1\n",
        "  elif Final.loc[i,'output']==3:\n",
        "    Final.loc[i,'output']=2\n",
        "    "
      ],
      "execution_count": null,
      "outputs": [
        {
          "output_type": "stream",
          "text": [
            "/usr/local/lib/python3.6/dist-packages/pandas/core/indexing.py:1763: SettingWithCopyWarning: \n",
            "A value is trying to be set on a copy of a slice from a DataFrame.\n",
            "Try using .loc[row_indexer,col_indexer] = value instead\n",
            "\n",
            "See the caveats in the documentation: https://pandas.pydata.org/pandas-docs/stable/user_guide/indexing.html#returning-a-view-versus-a-copy\n",
            "  isetter(loc, value)\n"
          ],
          "name": "stderr"
        }
      ]
    },
    {
      "cell_type": "code",
      "metadata": {
        "colab": {
          "base_uri": "https://localhost:8080/"
        },
        "id": "SHpHbWA7biZD",
        "outputId": "b63e059b-c259-442e-a763-c4e8631d27c8"
      },
      "source": [
        "Final['output'].unique()"
      ],
      "execution_count": null,
      "outputs": [
        {
          "output_type": "execute_result",
          "data": {
            "text/plain": [
              "array([0, 1, 2])"
            ]
          },
          "metadata": {
            "tags": []
          },
          "execution_count": 36
        }
      ]
    },
    {
      "cell_type": "code",
      "metadata": {
        "colab": {
          "base_uri": "https://localhost:8080/",
          "height": 439
        },
        "id": "nB75Iwd7afFV",
        "outputId": "04da53f8-7e4c-4c53-fc21-b385b11b3bda"
      },
      "source": [
        "Final"
      ],
      "execution_count": null,
      "outputs": [
        {
          "output_type": "execute_result",
          "data": {
            "text/html": [
              "<div>\n",
              "<style scoped>\n",
              "    .dataframe tbody tr th:only-of-type {\n",
              "        vertical-align: middle;\n",
              "    }\n",
              "\n",
              "    .dataframe tbody tr th {\n",
              "        vertical-align: top;\n",
              "    }\n",
              "\n",
              "    .dataframe thead th {\n",
              "        text-align: right;\n",
              "    }\n",
              "</style>\n",
              "<table border=\"1\" class=\"dataframe\">\n",
              "  <thead>\n",
              "    <tr style=\"text-align: right;\">\n",
              "      <th></th>\n",
              "      <th>RunTime</th>\n",
              "      <th>Proto</th>\n",
              "      <th>TotBytes</th>\n",
              "      <th>Load</th>\n",
              "      <th>Loss</th>\n",
              "      <th>TcpRtt</th>\n",
              "      <th>Offset</th>\n",
              "      <th>Ttl</th>\n",
              "      <th>Tos</th>\n",
              "      <th>Gap</th>\n",
              "      <th>win</th>\n",
              "      <th>TotBytes_mean</th>\n",
              "      <th>TotBytes_var</th>\n",
              "      <th>Load_var</th>\n",
              "      <th>Loss_mean</th>\n",
              "      <th>Ttl_mean</th>\n",
              "      <th>Ttl_var</th>\n",
              "      <th>Tos_mean</th>\n",
              "      <th>win_mean</th>\n",
              "      <th>Gap_mean</th>\n",
              "      <th>rtt_mean</th>\n",
              "      <th>output</th>\n",
              "      <th>Proto_mean</th>\n",
              "    </tr>\n",
              "  </thead>\n",
              "  <tbody>\n",
              "    <tr>\n",
              "      <th>0</th>\n",
              "      <td>2.709834</td>\n",
              "      <td>3</td>\n",
              "      <td>0</td>\n",
              "      <td>0.00</td>\n",
              "      <td>0</td>\n",
              "      <td>0.000000</td>\n",
              "      <td>0</td>\n",
              "      <td>314.940132</td>\n",
              "      <td>53.323082</td>\n",
              "      <td>7.586961</td>\n",
              "      <td>100708.041972</td>\n",
              "      <td>1917.2</td>\n",
              "      <td>3.337889e+06</td>\n",
              "      <td>8.668838e+08</td>\n",
              "      <td>0.0</td>\n",
              "      <td>335.788026</td>\n",
              "      <td>2465.458673</td>\n",
              "      <td>47.464616</td>\n",
              "      <td>41202.416789</td>\n",
              "      <td>3.034784</td>\n",
              "      <td>0.000000</td>\n",
              "      <td>0</td>\n",
              "      <td>4.8</td>\n",
              "    </tr>\n",
              "    <tr>\n",
              "      <th>1</th>\n",
              "      <td>4.924663</td>\n",
              "      <td>6</td>\n",
              "      <td>4678</td>\n",
              "      <td>7209.42</td>\n",
              "      <td>0</td>\n",
              "      <td>0.000000</td>\n",
              "      <td>128</td>\n",
              "      <td>247.000000</td>\n",
              "      <td>184.000000</td>\n",
              "      <td>7.586961</td>\n",
              "      <td>100708.041972</td>\n",
              "      <td>1917.2</td>\n",
              "      <td>3.337889e+06</td>\n",
              "      <td>8.668838e+08</td>\n",
              "      <td>0.0</td>\n",
              "      <td>335.788026</td>\n",
              "      <td>2465.458673</td>\n",
              "      <td>47.464616</td>\n",
              "      <td>41202.416789</td>\n",
              "      <td>3.034784</td>\n",
              "      <td>0.000000</td>\n",
              "      <td>0</td>\n",
              "      <td>4.8</td>\n",
              "    </tr>\n",
              "    <tr>\n",
              "      <th>2</th>\n",
              "      <td>0.258811</td>\n",
              "      <td>5</td>\n",
              "      <td>3489</td>\n",
              "      <td>79316.50</td>\n",
              "      <td>0</td>\n",
              "      <td>0.000000</td>\n",
              "      <td>224</td>\n",
              "      <td>371.000000</td>\n",
              "      <td>0.000000</td>\n",
              "      <td>0.000000</td>\n",
              "      <td>1536.000000</td>\n",
              "      <td>1917.2</td>\n",
              "      <td>3.337889e+06</td>\n",
              "      <td>8.668838e+08</td>\n",
              "      <td>0.0</td>\n",
              "      <td>335.788026</td>\n",
              "      <td>2465.458673</td>\n",
              "      <td>47.464616</td>\n",
              "      <td>41202.416789</td>\n",
              "      <td>3.034784</td>\n",
              "      <td>0.000000</td>\n",
              "      <td>0</td>\n",
              "      <td>4.8</td>\n",
              "    </tr>\n",
              "    <tr>\n",
              "      <th>3</th>\n",
              "      <td>0.524698</td>\n",
              "      <td>5</td>\n",
              "      <td>755</td>\n",
              "      <td>7684.41</td>\n",
              "      <td>0</td>\n",
              "      <td>0.000000</td>\n",
              "      <td>436</td>\n",
              "      <td>373.000000</td>\n",
              "      <td>0.000000</td>\n",
              "      <td>0.000000</td>\n",
              "      <td>1532.000000</td>\n",
              "      <td>1917.2</td>\n",
              "      <td>3.337889e+06</td>\n",
              "      <td>8.668838e+08</td>\n",
              "      <td>0.0</td>\n",
              "      <td>335.788026</td>\n",
              "      <td>2465.458673</td>\n",
              "      <td>47.464616</td>\n",
              "      <td>41202.416789</td>\n",
              "      <td>3.034784</td>\n",
              "      <td>0.000000</td>\n",
              "      <td>0</td>\n",
              "      <td>4.8</td>\n",
              "    </tr>\n",
              "    <tr>\n",
              "      <th>4</th>\n",
              "      <td>0.361424</td>\n",
              "      <td>5</td>\n",
              "      <td>664</td>\n",
              "      <td>9805.65</td>\n",
              "      <td>0</td>\n",
              "      <td>0.000000</td>\n",
              "      <td>648</td>\n",
              "      <td>373.000000</td>\n",
              "      <td>0.000000</td>\n",
              "      <td>0.000000</td>\n",
              "      <td>1528.000000</td>\n",
              "      <td>1917.2</td>\n",
              "      <td>3.337889e+06</td>\n",
              "      <td>8.668838e+08</td>\n",
              "      <td>0.0</td>\n",
              "      <td>335.788026</td>\n",
              "      <td>2465.458673</td>\n",
              "      <td>47.464616</td>\n",
              "      <td>41202.416789</td>\n",
              "      <td>3.034784</td>\n",
              "      <td>0.000000</td>\n",
              "      <td>0</td>\n",
              "      <td>4.8</td>\n",
              "    </tr>\n",
              "    <tr>\n",
              "      <th>...</th>\n",
              "      <td>...</td>\n",
              "      <td>...</td>\n",
              "      <td>...</td>\n",
              "      <td>...</td>\n",
              "      <td>...</td>\n",
              "      <td>...</td>\n",
              "      <td>...</td>\n",
              "      <td>...</td>\n",
              "      <td>...</td>\n",
              "      <td>...</td>\n",
              "      <td>...</td>\n",
              "      <td>...</td>\n",
              "      <td>...</td>\n",
              "      <td>...</td>\n",
              "      <td>...</td>\n",
              "      <td>...</td>\n",
              "      <td>...</td>\n",
              "      <td>...</td>\n",
              "      <td>...</td>\n",
              "      <td>...</td>\n",
              "      <td>...</td>\n",
              "      <td>...</td>\n",
              "      <td>...</td>\n",
              "    </tr>\n",
              "    <tr>\n",
              "      <th>133546</th>\n",
              "      <td>0.830939</td>\n",
              "      <td>6</td>\n",
              "      <td>1651</td>\n",
              "      <td>11620.50</td>\n",
              "      <td>0</td>\n",
              "      <td>0.000000</td>\n",
              "      <td>1540524</td>\n",
              "      <td>315.000000</td>\n",
              "      <td>147.000000</td>\n",
              "      <td>5.179696</td>\n",
              "      <td>134910.746953</td>\n",
              "      <td>479.2</td>\n",
              "      <td>3.466346e+05</td>\n",
              "      <td>2.038267e+07</td>\n",
              "      <td>0.2</td>\n",
              "      <td>267.200000</td>\n",
              "      <td>5331.760000</td>\n",
              "      <td>77.200000</td>\n",
              "      <td>121061.898781</td>\n",
              "      <td>2.071878</td>\n",
              "      <td>0.310158</td>\n",
              "      <td>2</td>\n",
              "      <td>5.4</td>\n",
              "    </tr>\n",
              "    <tr>\n",
              "      <th>133547</th>\n",
              "      <td>0.590020</td>\n",
              "      <td>5</td>\n",
              "      <td>121</td>\n",
              "      <td>0.00</td>\n",
              "      <td>1</td>\n",
              "      <td>0.306011</td>\n",
              "      <td>1540644</td>\n",
              "      <td>180.000000</td>\n",
              "      <td>40.000000</td>\n",
              "      <td>0.000000</td>\n",
              "      <td>128640.000000</td>\n",
              "      <td>479.2</td>\n",
              "      <td>3.466346e+05</td>\n",
              "      <td>2.038267e+07</td>\n",
              "      <td>0.2</td>\n",
              "      <td>267.200000</td>\n",
              "      <td>5331.760000</td>\n",
              "      <td>77.200000</td>\n",
              "      <td>121061.898781</td>\n",
              "      <td>2.071878</td>\n",
              "      <td>0.310158</td>\n",
              "      <td>2</td>\n",
              "      <td>5.4</td>\n",
              "    </tr>\n",
              "    <tr>\n",
              "      <th>133548</th>\n",
              "      <td>0.707312</td>\n",
              "      <td>5</td>\n",
              "      <td>294</td>\n",
              "      <td>2013.25</td>\n",
              "      <td>0</td>\n",
              "      <td>0.598218</td>\n",
              "      <td>1540852</td>\n",
              "      <td>178.000000</td>\n",
              "      <td>40.000000</td>\n",
              "      <td>0.000000</td>\n",
              "      <td>108032.000000</td>\n",
              "      <td>479.2</td>\n",
              "      <td>3.466346e+05</td>\n",
              "      <td>2.038267e+07</td>\n",
              "      <td>0.2</td>\n",
              "      <td>267.200000</td>\n",
              "      <td>5331.760000</td>\n",
              "      <td>77.200000</td>\n",
              "      <td>121061.898781</td>\n",
              "      <td>2.071878</td>\n",
              "      <td>0.310158</td>\n",
              "      <td>2</td>\n",
              "      <td>5.4</td>\n",
              "    </tr>\n",
              "    <tr>\n",
              "      <th>133549</th>\n",
              "      <td>0.133834</td>\n",
              "      <td>6</td>\n",
              "      <td>167</td>\n",
              "      <td>0.00</td>\n",
              "      <td>0</td>\n",
              "      <td>0.000000</td>\n",
              "      <td>1541060</td>\n",
              "      <td>315.000000</td>\n",
              "      <td>203.000000</td>\n",
              "      <td>5.179696</td>\n",
              "      <td>134910.746953</td>\n",
              "      <td>492534.0</td>\n",
              "      <td>2.424253e+11</td>\n",
              "      <td>1.166616e+13</td>\n",
              "      <td>0.0</td>\n",
              "      <td>313.000000</td>\n",
              "      <td>4.000000</td>\n",
              "      <td>265.000000</td>\n",
              "      <td>97999.873477</td>\n",
              "      <td>2.589848</td>\n",
              "      <td>0.293746</td>\n",
              "      <td>2</td>\n",
              "      <td>5.4</td>\n",
              "    </tr>\n",
              "    <tr>\n",
              "      <th>133550</th>\n",
              "      <td>1.150349</td>\n",
              "      <td>5</td>\n",
              "      <td>984901</td>\n",
              "      <td>6831151.00</td>\n",
              "      <td>0</td>\n",
              "      <td>0.587492</td>\n",
              "      <td>1541176</td>\n",
              "      <td>311.000000</td>\n",
              "      <td>327.000000</td>\n",
              "      <td>0.000000</td>\n",
              "      <td>61089.000000</td>\n",
              "      <td>492534.0</td>\n",
              "      <td>2.424253e+11</td>\n",
              "      <td>1.166616e+13</td>\n",
              "      <td>0.0</td>\n",
              "      <td>313.000000</td>\n",
              "      <td>4.000000</td>\n",
              "      <td>265.000000</td>\n",
              "      <td>97999.873477</td>\n",
              "      <td>2.589848</td>\n",
              "      <td>0.293746</td>\n",
              "      <td>2</td>\n",
              "      <td>5.0</td>\n",
              "    </tr>\n",
              "  </tbody>\n",
              "</table>\n",
              "<p>133551 rows × 23 columns</p>\n",
              "</div>"
            ],
            "text/plain": [
              "         RunTime  Proto  TotBytes  ...  rtt_mean  output  Proto_mean\n",
              "0       2.709834      3         0  ...  0.000000       0         4.8\n",
              "1       4.924663      6      4678  ...  0.000000       0         4.8\n",
              "2       0.258811      5      3489  ...  0.000000       0         4.8\n",
              "3       0.524698      5       755  ...  0.000000       0         4.8\n",
              "4       0.361424      5       664  ...  0.000000       0         4.8\n",
              "...          ...    ...       ...  ...       ...     ...         ...\n",
              "133546  0.830939      6      1651  ...  0.310158       2         5.4\n",
              "133547  0.590020      5       121  ...  0.310158       2         5.4\n",
              "133548  0.707312      5       294  ...  0.310158       2         5.4\n",
              "133549  0.133834      6       167  ...  0.293746       2         5.4\n",
              "133550  1.150349      5    984901  ...  0.293746       2         5.0\n",
              "\n",
              "[133551 rows x 23 columns]"
            ]
          },
          "metadata": {
            "tags": []
          },
          "execution_count": 37
        }
      ]
    },
    {
      "cell_type": "code",
      "metadata": {
        "colab": {
          "base_uri": "https://localhost:8080/"
        },
        "id": "ubRbI-RBzfEO",
        "outputId": "1c8e45e1-eb1c-408e-a3d8-952a127569ef"
      },
      "source": [
        "skew_limit=10\n",
        "DIct=dict(Final.skew())\n",
        "cols=[]\n",
        "cols=[k for(k,v) in DIct.items() if abs(v) >= skew_limit]   # for taking heavily skewed data in both directions forward and backward.\n",
        "cols"
      ],
      "execution_count": null,
      "outputs": [
        {
          "output_type": "execute_result",
          "data": {
            "text/plain": [
              "['TotBytes',\n",
              " 'Loss',\n",
              " 'Gap',\n",
              " 'TotBytes_mean',\n",
              " 'TotBytes_var',\n",
              " 'Gap_mean',\n",
              " 'rtt_mean']"
            ]
          },
          "metadata": {
            "tags": []
          },
          "execution_count": 38
        }
      ]
    },
    {
      "cell_type": "code",
      "metadata": {
        "colab": {
          "base_uri": "https://localhost:8080/",
          "height": 439
        },
        "id": "arof5_u1T3wa",
        "outputId": "b78cd1b2-5d6a-4316-b667-f130df1884b4"
      },
      "source": [
        "Final.select_dtypes('number')"
      ],
      "execution_count": null,
      "outputs": [
        {
          "output_type": "execute_result",
          "data": {
            "text/html": [
              "<div>\n",
              "<style scoped>\n",
              "    .dataframe tbody tr th:only-of-type {\n",
              "        vertical-align: middle;\n",
              "    }\n",
              "\n",
              "    .dataframe tbody tr th {\n",
              "        vertical-align: top;\n",
              "    }\n",
              "\n",
              "    .dataframe thead th {\n",
              "        text-align: right;\n",
              "    }\n",
              "</style>\n",
              "<table border=\"1\" class=\"dataframe\">\n",
              "  <thead>\n",
              "    <tr style=\"text-align: right;\">\n",
              "      <th></th>\n",
              "      <th>RunTime</th>\n",
              "      <th>Proto</th>\n",
              "      <th>TotBytes</th>\n",
              "      <th>Load</th>\n",
              "      <th>Loss</th>\n",
              "      <th>TcpRtt</th>\n",
              "      <th>Offset</th>\n",
              "      <th>Ttl</th>\n",
              "      <th>Tos</th>\n",
              "      <th>Gap</th>\n",
              "      <th>win</th>\n",
              "      <th>TotBytes_mean</th>\n",
              "      <th>TotBytes_var</th>\n",
              "      <th>Load_var</th>\n",
              "      <th>Loss_mean</th>\n",
              "      <th>Ttl_mean</th>\n",
              "      <th>Ttl_var</th>\n",
              "      <th>Tos_mean</th>\n",
              "      <th>win_mean</th>\n",
              "      <th>Gap_mean</th>\n",
              "      <th>rtt_mean</th>\n",
              "      <th>output</th>\n",
              "      <th>Proto_mean</th>\n",
              "    </tr>\n",
              "  </thead>\n",
              "  <tbody>\n",
              "    <tr>\n",
              "      <th>0</th>\n",
              "      <td>2.709834</td>\n",
              "      <td>3</td>\n",
              "      <td>0</td>\n",
              "      <td>0.00</td>\n",
              "      <td>0</td>\n",
              "      <td>0.000000</td>\n",
              "      <td>0</td>\n",
              "      <td>314.940132</td>\n",
              "      <td>53.323082</td>\n",
              "      <td>7.586961</td>\n",
              "      <td>100708.041972</td>\n",
              "      <td>1917.2</td>\n",
              "      <td>3.337889e+06</td>\n",
              "      <td>8.668838e+08</td>\n",
              "      <td>0.0</td>\n",
              "      <td>335.788026</td>\n",
              "      <td>2465.458673</td>\n",
              "      <td>47.464616</td>\n",
              "      <td>41202.416789</td>\n",
              "      <td>3.034784</td>\n",
              "      <td>0.000000</td>\n",
              "      <td>0</td>\n",
              "      <td>4.8</td>\n",
              "    </tr>\n",
              "    <tr>\n",
              "      <th>1</th>\n",
              "      <td>4.924663</td>\n",
              "      <td>6</td>\n",
              "      <td>4678</td>\n",
              "      <td>7209.42</td>\n",
              "      <td>0</td>\n",
              "      <td>0.000000</td>\n",
              "      <td>128</td>\n",
              "      <td>247.000000</td>\n",
              "      <td>184.000000</td>\n",
              "      <td>7.586961</td>\n",
              "      <td>100708.041972</td>\n",
              "      <td>1917.2</td>\n",
              "      <td>3.337889e+06</td>\n",
              "      <td>8.668838e+08</td>\n",
              "      <td>0.0</td>\n",
              "      <td>335.788026</td>\n",
              "      <td>2465.458673</td>\n",
              "      <td>47.464616</td>\n",
              "      <td>41202.416789</td>\n",
              "      <td>3.034784</td>\n",
              "      <td>0.000000</td>\n",
              "      <td>0</td>\n",
              "      <td>4.8</td>\n",
              "    </tr>\n",
              "    <tr>\n",
              "      <th>2</th>\n",
              "      <td>0.258811</td>\n",
              "      <td>5</td>\n",
              "      <td>3489</td>\n",
              "      <td>79316.50</td>\n",
              "      <td>0</td>\n",
              "      <td>0.000000</td>\n",
              "      <td>224</td>\n",
              "      <td>371.000000</td>\n",
              "      <td>0.000000</td>\n",
              "      <td>0.000000</td>\n",
              "      <td>1536.000000</td>\n",
              "      <td>1917.2</td>\n",
              "      <td>3.337889e+06</td>\n",
              "      <td>8.668838e+08</td>\n",
              "      <td>0.0</td>\n",
              "      <td>335.788026</td>\n",
              "      <td>2465.458673</td>\n",
              "      <td>47.464616</td>\n",
              "      <td>41202.416789</td>\n",
              "      <td>3.034784</td>\n",
              "      <td>0.000000</td>\n",
              "      <td>0</td>\n",
              "      <td>4.8</td>\n",
              "    </tr>\n",
              "    <tr>\n",
              "      <th>3</th>\n",
              "      <td>0.524698</td>\n",
              "      <td>5</td>\n",
              "      <td>755</td>\n",
              "      <td>7684.41</td>\n",
              "      <td>0</td>\n",
              "      <td>0.000000</td>\n",
              "      <td>436</td>\n",
              "      <td>373.000000</td>\n",
              "      <td>0.000000</td>\n",
              "      <td>0.000000</td>\n",
              "      <td>1532.000000</td>\n",
              "      <td>1917.2</td>\n",
              "      <td>3.337889e+06</td>\n",
              "      <td>8.668838e+08</td>\n",
              "      <td>0.0</td>\n",
              "      <td>335.788026</td>\n",
              "      <td>2465.458673</td>\n",
              "      <td>47.464616</td>\n",
              "      <td>41202.416789</td>\n",
              "      <td>3.034784</td>\n",
              "      <td>0.000000</td>\n",
              "      <td>0</td>\n",
              "      <td>4.8</td>\n",
              "    </tr>\n",
              "    <tr>\n",
              "      <th>4</th>\n",
              "      <td>0.361424</td>\n",
              "      <td>5</td>\n",
              "      <td>664</td>\n",
              "      <td>9805.65</td>\n",
              "      <td>0</td>\n",
              "      <td>0.000000</td>\n",
              "      <td>648</td>\n",
              "      <td>373.000000</td>\n",
              "      <td>0.000000</td>\n",
              "      <td>0.000000</td>\n",
              "      <td>1528.000000</td>\n",
              "      <td>1917.2</td>\n",
              "      <td>3.337889e+06</td>\n",
              "      <td>8.668838e+08</td>\n",
              "      <td>0.0</td>\n",
              "      <td>335.788026</td>\n",
              "      <td>2465.458673</td>\n",
              "      <td>47.464616</td>\n",
              "      <td>41202.416789</td>\n",
              "      <td>3.034784</td>\n",
              "      <td>0.000000</td>\n",
              "      <td>0</td>\n",
              "      <td>4.8</td>\n",
              "    </tr>\n",
              "    <tr>\n",
              "      <th>...</th>\n",
              "      <td>...</td>\n",
              "      <td>...</td>\n",
              "      <td>...</td>\n",
              "      <td>...</td>\n",
              "      <td>...</td>\n",
              "      <td>...</td>\n",
              "      <td>...</td>\n",
              "      <td>...</td>\n",
              "      <td>...</td>\n",
              "      <td>...</td>\n",
              "      <td>...</td>\n",
              "      <td>...</td>\n",
              "      <td>...</td>\n",
              "      <td>...</td>\n",
              "      <td>...</td>\n",
              "      <td>...</td>\n",
              "      <td>...</td>\n",
              "      <td>...</td>\n",
              "      <td>...</td>\n",
              "      <td>...</td>\n",
              "      <td>...</td>\n",
              "      <td>...</td>\n",
              "      <td>...</td>\n",
              "    </tr>\n",
              "    <tr>\n",
              "      <th>133546</th>\n",
              "      <td>0.830939</td>\n",
              "      <td>6</td>\n",
              "      <td>1651</td>\n",
              "      <td>11620.50</td>\n",
              "      <td>0</td>\n",
              "      <td>0.000000</td>\n",
              "      <td>1540524</td>\n",
              "      <td>315.000000</td>\n",
              "      <td>147.000000</td>\n",
              "      <td>5.179696</td>\n",
              "      <td>134910.746953</td>\n",
              "      <td>479.2</td>\n",
              "      <td>3.466346e+05</td>\n",
              "      <td>2.038267e+07</td>\n",
              "      <td>0.2</td>\n",
              "      <td>267.200000</td>\n",
              "      <td>5331.760000</td>\n",
              "      <td>77.200000</td>\n",
              "      <td>121061.898781</td>\n",
              "      <td>2.071878</td>\n",
              "      <td>0.310158</td>\n",
              "      <td>2</td>\n",
              "      <td>5.4</td>\n",
              "    </tr>\n",
              "    <tr>\n",
              "      <th>133547</th>\n",
              "      <td>0.590020</td>\n",
              "      <td>5</td>\n",
              "      <td>121</td>\n",
              "      <td>0.00</td>\n",
              "      <td>1</td>\n",
              "      <td>0.306011</td>\n",
              "      <td>1540644</td>\n",
              "      <td>180.000000</td>\n",
              "      <td>40.000000</td>\n",
              "      <td>0.000000</td>\n",
              "      <td>128640.000000</td>\n",
              "      <td>479.2</td>\n",
              "      <td>3.466346e+05</td>\n",
              "      <td>2.038267e+07</td>\n",
              "      <td>0.2</td>\n",
              "      <td>267.200000</td>\n",
              "      <td>5331.760000</td>\n",
              "      <td>77.200000</td>\n",
              "      <td>121061.898781</td>\n",
              "      <td>2.071878</td>\n",
              "      <td>0.310158</td>\n",
              "      <td>2</td>\n",
              "      <td>5.4</td>\n",
              "    </tr>\n",
              "    <tr>\n",
              "      <th>133548</th>\n",
              "      <td>0.707312</td>\n",
              "      <td>5</td>\n",
              "      <td>294</td>\n",
              "      <td>2013.25</td>\n",
              "      <td>0</td>\n",
              "      <td>0.598218</td>\n",
              "      <td>1540852</td>\n",
              "      <td>178.000000</td>\n",
              "      <td>40.000000</td>\n",
              "      <td>0.000000</td>\n",
              "      <td>108032.000000</td>\n",
              "      <td>479.2</td>\n",
              "      <td>3.466346e+05</td>\n",
              "      <td>2.038267e+07</td>\n",
              "      <td>0.2</td>\n",
              "      <td>267.200000</td>\n",
              "      <td>5331.760000</td>\n",
              "      <td>77.200000</td>\n",
              "      <td>121061.898781</td>\n",
              "      <td>2.071878</td>\n",
              "      <td>0.310158</td>\n",
              "      <td>2</td>\n",
              "      <td>5.4</td>\n",
              "    </tr>\n",
              "    <tr>\n",
              "      <th>133549</th>\n",
              "      <td>0.133834</td>\n",
              "      <td>6</td>\n",
              "      <td>167</td>\n",
              "      <td>0.00</td>\n",
              "      <td>0</td>\n",
              "      <td>0.000000</td>\n",
              "      <td>1541060</td>\n",
              "      <td>315.000000</td>\n",
              "      <td>203.000000</td>\n",
              "      <td>5.179696</td>\n",
              "      <td>134910.746953</td>\n",
              "      <td>492534.0</td>\n",
              "      <td>2.424253e+11</td>\n",
              "      <td>1.166616e+13</td>\n",
              "      <td>0.0</td>\n",
              "      <td>313.000000</td>\n",
              "      <td>4.000000</td>\n",
              "      <td>265.000000</td>\n",
              "      <td>97999.873477</td>\n",
              "      <td>2.589848</td>\n",
              "      <td>0.293746</td>\n",
              "      <td>2</td>\n",
              "      <td>5.4</td>\n",
              "    </tr>\n",
              "    <tr>\n",
              "      <th>133550</th>\n",
              "      <td>1.150349</td>\n",
              "      <td>5</td>\n",
              "      <td>984901</td>\n",
              "      <td>6831151.00</td>\n",
              "      <td>0</td>\n",
              "      <td>0.587492</td>\n",
              "      <td>1541176</td>\n",
              "      <td>311.000000</td>\n",
              "      <td>327.000000</td>\n",
              "      <td>0.000000</td>\n",
              "      <td>61089.000000</td>\n",
              "      <td>492534.0</td>\n",
              "      <td>2.424253e+11</td>\n",
              "      <td>1.166616e+13</td>\n",
              "      <td>0.0</td>\n",
              "      <td>313.000000</td>\n",
              "      <td>4.000000</td>\n",
              "      <td>265.000000</td>\n",
              "      <td>97999.873477</td>\n",
              "      <td>2.589848</td>\n",
              "      <td>0.293746</td>\n",
              "      <td>2</td>\n",
              "      <td>5.0</td>\n",
              "    </tr>\n",
              "  </tbody>\n",
              "</table>\n",
              "<p>133551 rows × 23 columns</p>\n",
              "</div>"
            ],
            "text/plain": [
              "         RunTime  Proto  TotBytes  ...  rtt_mean  output  Proto_mean\n",
              "0       2.709834      3         0  ...  0.000000       0         4.8\n",
              "1       4.924663      6      4678  ...  0.000000       0         4.8\n",
              "2       0.258811      5      3489  ...  0.000000       0         4.8\n",
              "3       0.524698      5       755  ...  0.000000       0         4.8\n",
              "4       0.361424      5       664  ...  0.000000       0         4.8\n",
              "...          ...    ...       ...  ...       ...     ...         ...\n",
              "133546  0.830939      6      1651  ...  0.310158       2         5.4\n",
              "133547  0.590020      5       121  ...  0.310158       2         5.4\n",
              "133548  0.707312      5       294  ...  0.310158       2         5.4\n",
              "133549  0.133834      6       167  ...  0.293746       2         5.4\n",
              "133550  1.150349      5    984901  ...  0.293746       2         5.0\n",
              "\n",
              "[133551 rows x 23 columns]"
            ]
          },
          "metadata": {
            "tags": []
          },
          "execution_count": 39
        }
      ]
    },
    {
      "cell_type": "code",
      "metadata": {
        "colab": {
          "base_uri": "https://localhost:8080/"
        },
        "id": "bZfjy5sTNrtP",
        "outputId": "3a52b2d0-aefe-480e-f32c-76dd31393898"
      },
      "source": [
        " # we will use sqrt transformation as np.log was encountering divide by 0 problem\n",
        "for col in cols:\n",
        "  Final[col]=np.sqrt(Final[col])\n",
        "Final.skew()       #:) yoo many values reduced........\n",
        "# initial values were 39.45 Loss 45.69, TcpRtt 11 Gap 89.46 Loss_mean 19.5\n",
        "#for further more reduction run the next block "
      ],
      "execution_count": null,
      "outputs": [
        {
          "output_type": "stream",
          "text": [
            "/usr/local/lib/python3.6/dist-packages/ipykernel_launcher.py:3: SettingWithCopyWarning: \n",
            "A value is trying to be set on a copy of a slice from a DataFrame.\n",
            "Try using .loc[row_indexer,col_indexer] = value instead\n",
            "\n",
            "See the caveats in the documentation: https://pandas.pydata.org/pandas-docs/stable/user_guide/indexing.html#returning-a-view-versus-a-copy\n",
            "  This is separate from the ipykernel package so we can avoid doing imports until\n"
          ],
          "name": "stderr"
        },
        {
          "output_type": "execute_result",
          "data": {
            "text/plain": [
              "RunTime           0.506197\n",
              "Proto            -1.533594\n",
              "TotBytes          4.605499\n",
              "Load              7.327991\n",
              "Loss             18.617740\n",
              "TcpRtt            9.474460\n",
              "Offset            1.853773\n",
              "Ttl               0.646685\n",
              "Tos               1.884055\n",
              "Gap              59.804774\n",
              "win               2.608134\n",
              "TotBytes_mean     2.182198\n",
              "TotBytes_var     11.473772\n",
              "Load_var          7.143330\n",
              "Loss_mean         8.198907\n",
              "Ttl_mean          0.562496\n",
              "Ttl_var           1.800464\n",
              "Tos_mean          1.238825\n",
              "win_mean          1.473047\n",
              "Gap_mean         34.830307\n",
              "rtt_mean          1.205172\n",
              "output           -0.035839\n",
              "Proto_mean       -1.636064\n",
              "dtype: float64"
            ]
          },
          "metadata": {
            "tags": []
          },
          "execution_count": 40
        }
      ]
    },
    {
      "cell_type": "markdown",
      "metadata": {
        "id": "hUE1qKgF3kDa"
      },
      "source": [
        "# Skewness removal from dataset and saving the dataset"
      ]
    },
    {
      "cell_type": "code",
      "metadata": {
        "colab": {
          "base_uri": "https://localhost:8080/"
        },
        "id": "10WgW6oZW7d6",
        "outputId": "26d7b648-1ffb-405e-f250-7eeb930f1f49"
      },
      "source": [
        "from google.colab import drive\n",
        "drive.mount('/content/drive/')\n",
        "import pandas as pd\n",
        "# Final =pd.read_csv(\"/content/drive/My Drive/network_dataset/Final1.csv\")\n",
        "Final=pd.read_csv('/content/drive/MyDrive/Minor V sem/Final1.csv')"
      ],
      "execution_count": null,
      "outputs": [
        {
          "output_type": "stream",
          "text": [
            "Drive already mounted at /content/drive/; to attempt to forcibly remount, call drive.mount(\"/content/drive/\", force_remount=True).\n"
          ],
          "name": "stdout"
        }
      ]
    },
    {
      "cell_type": "code",
      "metadata": {
        "colab": {
          "base_uri": "https://localhost:8080/"
        },
        "id": "vvbNfAVg3o4W",
        "outputId": "35310211-e07d-41e7-ba8b-bbf9ab800774"
      },
      "source": [
        "Final.skew() # just surfing for the values...\n",
        "# TT.skew()"
      ],
      "execution_count": null,
      "outputs": [
        {
          "output_type": "execute_result",
          "data": {
            "text/plain": [
              "Unnamed: 0       0.000000\n",
              "RunTime          0.506197\n",
              "Proto           -1.533594\n",
              "TotBytes         4.605499\n",
              "Load             3.446591\n",
              "Loss             2.062827\n",
              "TcpRtt           1.764006\n",
              "Offset           1.853773\n",
              "Ttl              0.646685\n",
              "Tos              1.884055\n",
              "Gap              1.045439\n",
              "win              2.608134\n",
              "TotBytes_mean    2.182198\n",
              "TotBytes_var     2.242531\n",
              "Load_var         3.453818\n",
              "Loss_mean        1.189132\n",
              "Ttl_mean         0.562496\n",
              "Ttl_var          1.800464\n",
              "Tos_mean         1.238825\n",
              "win_mean         1.473047\n",
              "Gap_mean         0.784873\n",
              "rtt_mean         1.205172\n",
              "output          -0.035839\n",
              "Proto_mean      -1.636064\n",
              "dtype: float64"
            ]
          },
          "metadata": {
            "tags": []
          },
          "execution_count": 25
        }
      ]
    },
    {
      "cell_type": "code",
      "metadata": {
        "id": "ufY3_M2f3vTe"
      },
      "source": [
        "Final.drop('Unnamed: 0',axis=1,inplace=True)"
      ],
      "execution_count": null,
      "outputs": []
    },
    {
      "cell_type": "code",
      "metadata": {
        "id": "8jAEpvL23wbJ"
      },
      "source": [
        "def Skew_check(df, threshold):\n",
        "  cnt=0\n",
        "  for (item,val) in df.skew().items():\n",
        "    if abs(val) >= threshold:\n",
        "      cnt+=1\n",
        "      df[item]=np.sqrt(df[item])\n",
        "  if cnt==0:\n",
        "    return 'No more skewness with the given threshold'\n",
        "  return df.skew()"
      ],
      "execution_count": null,
      "outputs": []
    },
    {
      "cell_type": "code",
      "metadata": {
        "colab": {
          "base_uri": "https://localhost:8080/",
          "height": 35
        },
        "id": "h69_3Ksi3zGO",
        "outputId": "422e9035-462e-41a2-8b8b-686ce5377a65"
      },
      "source": [
        "import numpy as np\n",
        "Skew_check(TT, 6)  # run as many times until we reach the threshold of 6"
      ],
      "execution_count": null,
      "outputs": [
        {
          "output_type": "execute_result",
          "data": {
            "application/vnd.google.colaboratory.intrinsic+json": {
              "type": "string"
            },
            "text/plain": [
              "'No more skewness with the given threshold'"
            ]
          },
          "metadata": {
            "tags": []
          },
          "execution_count": 45
        }
      ]
    },
    {
      "cell_type": "code",
      "metadata": {
        "colab": {
          "base_uri": "https://localhost:8080/"
        },
        "id": "XQ1FxVnY327f",
        "outputId": "19e747b8-8750-4cd6-8495-a50c5d99d461"
      },
      "source": [
        "# Final.skew()\n",
        "TT.skew()"
      ],
      "execution_count": null,
      "outputs": [
        {
          "output_type": "execute_result",
          "data": {
            "text/plain": [
              "RunTime          0.133578\n",
              "Proto           -3.240254\n",
              "TotBytes         3.701289\n",
              "Load             3.531838\n",
              "Loss             3.155291\n",
              "TcpRtt           3.038592\n",
              "Offset           0.337301\n",
              "Ttl              1.273488\n",
              "Tos              0.464919\n",
              "Gap              3.969751\n",
              "win              3.111180\n",
              "TotBytes_mean    2.738440\n",
              "TotBytes_var     3.751402\n",
              "Load_var         3.454585\n",
              "Loss_mean        2.028124\n",
              "Ttl_mean         1.189178\n",
              "Ttl_var          1.979565\n",
              "Tos_mean         0.239571\n",
              "win_mean         0.847696\n",
              "Gap_mean         4.427201\n",
              "rtt_mean         2.437321\n",
              "output           1.486450\n",
              "Proto_mean      -0.203188\n",
              "dtype: float64"
            ]
          },
          "metadata": {
            "tags": []
          },
          "execution_count": 46
        }
      ]
    },
    {
      "cell_type": "code",
      "metadata": {
        "id": "R4Yk0XW648dJ"
      },
      "source": [
        "# Final.to_csv(\"/content/drive/network_dataset/Final1.csv\")\n",
        "TT.to_csv(\"/content/drive/MyDrive/Minor V sem/TT.csv\")"
      ],
      "execution_count": null,
      "outputs": []
    },
    {
      "cell_type": "markdown",
      "metadata": {
        "id": "XY-hTqfJsWTc"
      },
      "source": [
        "# classification using svm with guassian kernel(with and without pca)"
      ]
    },
    {
      "cell_type": "code",
      "metadata": {
        "id": "CUThjzdN43WG"
      },
      "source": [
        "import pandas as pd\n",
        "Final =pd.read_csv(\"/content/drive/My Drive/Minor V sem/Final1.csv\")\n",
        "#Final=pd.read_csv(\"/content/Final1.csv\")"
      ],
      "execution_count": null,
      "outputs": []
    },
    {
      "cell_type": "code",
      "metadata": {
        "id": "2cKLy3Ius9br"
      },
      "source": [
        "# imports\n",
        "from sklearn.model_selection import train_test_split\n",
        "from sklearn.svm import SVC\n",
        "from sklearn.decomposition import PCA\n",
        "from sklearn.metrics import accuracy_score, roc_auc_score, precision_score, recall_score, confusion_matrix\n",
        "from sklearn.preprocessing import RobustScaler,StandardScaler, MinMaxScaler\n",
        "import matplotlib.pyplot as plt\n",
        "import seaborn as sns"
      ],
      "execution_count": null,
      "outputs": []
    },
    {
      "cell_type": "code",
      "metadata": {
        "colab": {
          "base_uri": "https://localhost:8080/"
        },
        "id": "VtHYFkWKjcIP",
        "outputId": "7c99bd56-4632-4192-f008-ad21e36ff027"
      },
      "source": [
        "from google.colab import drive\n",
        "drive.mount('/content/drive/')"
      ],
      "execution_count": null,
      "outputs": [
        {
          "output_type": "stream",
          "text": [
            "Mounted at /content/drive/\n"
          ],
          "name": "stdout"
        }
      ]
    },
    {
      "cell_type": "code",
      "metadata": {
        "id": "A208hbabs_UK"
      },
      "source": [
        "X=Final.drop('output',1)\n",
        "y=Final['output']"
      ],
      "execution_count": null,
      "outputs": []
    },
    {
      "cell_type": "code",
      "metadata": {
        "colab": {
          "base_uri": "https://localhost:8080/",
          "height": 958
        },
        "id": "0DzbaMaishaK",
        "outputId": "3474fe5c-13a7-4dd3-ad12-f738812c0f73"
      },
      "source": [
        "x_train, x_holdout, y_train, y_holdout = train_test_split(X, y, stratify= y, test_size = 0.231,random_state=22) # 30k for holdout 1lakh for rem.\n",
        "x_train, x_test, y_train, y_test=train_test_split(x_train, y_train, test_size=0.1,random_state=22) # 90-10k split\n",
        "# scaling\n",
        "from sklearn.preprocessing import RobustScaler,StandardScaler, MinMaxScaler # Robust 91.1%, MinMax 86.4%, Standard is the best\n",
        "sc = StandardScaler()\n",
        "x_train = sc.fit_transform(x_train)\n",
        "x_test = sc.transform(x_test)\n",
        "x_holdout= sc.transform(x_holdout)\n",
        "svc=SVC() # The default kernel used by SVC is the gaussian kernel\n",
        "svc.fit(x_train, y_train)\n",
        "prediction=svc.predict(x_test)"
      ],
      "execution_count": null,
      "outputs": [
        {
          "output_type": "stream",
          "text": [
            "Training Accuracy ->  0.9444298069763446\n",
            "Validation Accuracy ->  0.9404089581304771\n",
            "Final Testset Accuracy ->  0.9399047032511102\n",
            "\n",
            "  computes area under the curve(max value 1) of roc which has TPR as y-axis and FPR as x-axis its motive is to minimize FPR and maximize TPR.\n",
            "\n",
            " classification report->               precision    recall  f1-score   support\n",
            "\n",
            "           0       0.95      0.89      0.92     10222\n",
            "           1       0.97      0.97      0.97      9812\n",
            "           2       0.91      0.96      0.93     10817\n",
            "\n",
            "    accuracy                           0.94     30851\n",
            "   macro avg       0.94      0.94      0.94     30851\n",
            "weighted avg       0.94      0.94      0.94     30851\n",
            "\n",
            "confusion matrix -> <sklearn.metrics._plot.confusion_matrix.ConfusionMatrixDisplay object at 0x7fb9f28b04a8>\n"
          ],
          "name": "stdout"
        },
        {
          "output_type": "error",
          "ename": "ValueError",
          "evalue": "ignored",
          "traceback": [
            "\u001b[0;31m---------------------------------------------------------------------------\u001b[0m",
            "\u001b[0;31mValueError\u001b[0m                                Traceback (most recent call last)",
            "\u001b[0;32m<ipython-input-13-1eb8245dfcab>\u001b[0m in \u001b[0;36m<module>\u001b[0;34m()\u001b[0m\n\u001b[1;32m     20\u001b[0m \u001b[0mprint\u001b[0m\u001b[0;34m(\u001b[0m\u001b[0;34m'confusion matrix ->'\u001b[0m\u001b[0;34m,\u001b[0m \u001b[0mplot_confusion_matrix\u001b[0m\u001b[0;34m(\u001b[0m\u001b[0msvc\u001b[0m\u001b[0;34m,\u001b[0m\u001b[0mx_holdout\u001b[0m\u001b[0;34m,\u001b[0m \u001b[0mhold_pred\u001b[0m\u001b[0;34m)\u001b[0m\u001b[0;34m)\u001b[0m\u001b[0;34m\u001b[0m\u001b[0;34m\u001b[0m\u001b[0m\n\u001b[1;32m     21\u001b[0m \u001b[0mplt\u001b[0m\u001b[0;34m.\u001b[0m\u001b[0mfigure\u001b[0m\u001b[0;34m(\u001b[0m\u001b[0mfigsize\u001b[0m\u001b[0;34m=\u001b[0m\u001b[0;34m(\u001b[0m\u001b[0;36m10\u001b[0m\u001b[0;34m,\u001b[0m\u001b[0;36m10\u001b[0m\u001b[0;34m)\u001b[0m\u001b[0;34m)\u001b[0m\u001b[0;34m\u001b[0m\u001b[0;34m\u001b[0m\u001b[0m\n\u001b[0;32m---> 22\u001b[0;31m \u001b[0msvc_disp\u001b[0m\u001b[0;34m=\u001b[0m\u001b[0mplot_roc_curve\u001b[0m\u001b[0;34m(\u001b[0m\u001b[0msvc\u001b[0m\u001b[0;34m,\u001b[0m \u001b[0mx_holdout\u001b[0m\u001b[0;34m,\u001b[0m \u001b[0mhold_pred\u001b[0m\u001b[0;34m)\u001b[0m\u001b[0;34m\u001b[0m\u001b[0;34m\u001b[0m\u001b[0m\n\u001b[0m\u001b[1;32m     23\u001b[0m \u001b[0msvc_disp\u001b[0m\u001b[0;34m.\u001b[0m\u001b[0mfigure_\u001b[0m\u001b[0;34m.\u001b[0m\u001b[0msuptitle\u001b[0m\u001b[0;34m(\u001b[0m\u001b[0;34m'ROC for SVC'\u001b[0m\u001b[0;34m)\u001b[0m\u001b[0;34m\u001b[0m\u001b[0;34m\u001b[0m\u001b[0m\n\u001b[1;32m     24\u001b[0m \u001b[0mplt\u001b[0m\u001b[0;34m.\u001b[0m\u001b[0mshow\u001b[0m\u001b[0;34m(\u001b[0m\u001b[0;34m)\u001b[0m\u001b[0;34m\u001b[0m\u001b[0;34m\u001b[0m\u001b[0m\n",
            "\u001b[0;32m/usr/local/lib/python3.6/dist-packages/sklearn/metrics/_plot/roc_curve.py\u001b[0m in \u001b[0;36mplot_roc_curve\u001b[0;34m(estimator, X, y, sample_weight, drop_intermediate, response_method, name, ax, **kwargs)\u001b[0m\n\u001b[1;32m    178\u001b[0m     \u001b[0;32mif\u001b[0m \u001b[0my_pred\u001b[0m\u001b[0;34m.\u001b[0m\u001b[0mndim\u001b[0m \u001b[0;34m!=\u001b[0m \u001b[0;36m1\u001b[0m\u001b[0;34m:\u001b[0m\u001b[0;34m\u001b[0m\u001b[0;34m\u001b[0m\u001b[0m\n\u001b[1;32m    179\u001b[0m         \u001b[0;32mif\u001b[0m \u001b[0my_pred\u001b[0m\u001b[0;34m.\u001b[0m\u001b[0mshape\u001b[0m\u001b[0;34m[\u001b[0m\u001b[0;36m1\u001b[0m\u001b[0;34m]\u001b[0m \u001b[0;34m!=\u001b[0m \u001b[0;36m2\u001b[0m\u001b[0;34m:\u001b[0m\u001b[0;34m\u001b[0m\u001b[0;34m\u001b[0m\u001b[0m\n\u001b[0;32m--> 180\u001b[0;31m             \u001b[0;32mraise\u001b[0m \u001b[0mValueError\u001b[0m\u001b[0;34m(\u001b[0m\u001b[0mclassification_error\u001b[0m\u001b[0;34m)\u001b[0m\u001b[0;34m\u001b[0m\u001b[0;34m\u001b[0m\u001b[0m\n\u001b[0m\u001b[1;32m    181\u001b[0m         \u001b[0;32melse\u001b[0m\u001b[0;34m:\u001b[0m\u001b[0;34m\u001b[0m\u001b[0;34m\u001b[0m\u001b[0m\n\u001b[1;32m    182\u001b[0m             \u001b[0my_pred\u001b[0m \u001b[0;34m=\u001b[0m \u001b[0my_pred\u001b[0m\u001b[0;34m[\u001b[0m\u001b[0;34m:\u001b[0m\u001b[0;34m,\u001b[0m \u001b[0;36m1\u001b[0m\u001b[0;34m]\u001b[0m\u001b[0;34m\u001b[0m\u001b[0;34m\u001b[0m\u001b[0m\n",
            "\u001b[0;31mValueError\u001b[0m: SVC should be a binary classifier"
          ]
        },
        {
          "output_type": "display_data",
          "data": {
            "image/png": "[encoded data removed]",
            "text/plain": [
              "<Figure size 432x288 with 2 Axes>"
            ]
          },
          "metadata": {
            "tags": []
          }
        },
        {
          "output_type": "display_data",
          "data": {
            "text/plain": [
              "<Figure size 720x720 with 0 Axes>"
            ]
          },
          "metadata": {
            "tags": []
          }
        }
      ]
    },
    {
      "cell_type": "markdown",
      "metadata": {
        "id": "g0hkzf2ER6qs"
      },
      "source": [
        "# Decision Tree"
      ]
    },
    {
      "cell_type": "code",
      "metadata": {
        "colab": {
          "base_uri": "https://localhost:8080/",
          "height": 665
        },
        "id": "Nm4YTlLJR6SJ",
        "outputId": "5e52f17e-91e8-4a65-ee51-d9b0c6cd9317"
      },
      "source": [
        "from sklearn.tree import DecisionTreeClassifier\n",
        "dt=DecisionTreeClassifier()\n",
        "x_train, x_holdout, y_train, y_holdout = train_test_split(X, y, stratify= y, test_size = 0.231,random_state=22) # 30k for holdout 1lakh for rem.\n",
        "x_train, x_test, y_train, y_test=train_test_split(x_train, y_train, test_size=0.1,random_state=22) # 90-10k split\n",
        "dt=dt.fit(x_train,y_train)\n",
        "hold_pred=dt.predict(x_holdout)\n",
        "print('Training Accuracy ->{:.3f} '.format(dt.score(x_train,y_train)))\n",
        "print('Validation Accuracy ->{:.3f} '.format(dt.score(x_test, y_test)))  # this is used for checking model's accuracy and how it works \n",
        "print('Final Testset Accuracy ->{:.3f}'.format(dt.score(x_holdout, y_holdout))) # this is used for final evaluation\n",
        "print('Precision score ->{:.3f} '.format(precision_score(y_holdout,hold_pred, average='macro')))\n",
        "print('Recall score ->{:.3f} '.format(recall_score(y_holdout,hold_pred, average='macro')))\n",
        "\n",
        "cm=pd.DataFrame(confusion_matrix(y_holdout, hold_pred))\n",
        "plt.figure(figsize = (12, 9))\n",
        "s=sns.heatmap(cm/np.sum(cm), annot=True, cmap='GnBu', fmt='.2%')\n",
        "s.set_yticklabels(labels=['Video Conferencing','Subscription based', 'Non-subscription based'])\n",
        "s.set_xticklabels(labels=['Video Conferencing','Subscription based', 'Non-subscription based'])\n",
        "plt.xlabel('Predicted label', fontsize=15)\n",
        "plt.ylabel('True label', fontsize=15)\n",
        "plt.title('Confusion Matrix for DT', fontsize=20)\n",
        "plt.show()"
      ],
      "execution_count": null,
      "outputs": [
        {
          "output_type": "stream",
          "text": [
            "Training Accuracy ->1.000 \n",
            "Validation Accuracy ->0.988 \n",
            "Final Testset Accuracy ->0.988\n",
            "Precision score ->0.988 \n",
            "Recall score ->0.988 \n"
          ],
          "name": "stdout"
        },
        {
          "output_type": "display_data",
          "data": {
            "image/png": "[encoded data removed]",
            "text/plain": [
              "<Figure size 864x648 with 2 Axes>"
            ]
          },
          "metadata": {
            "tags": [],
            "needs_background": "light"
          }
        }
      ]
    },
    {
      "cell_type": "markdown",
      "metadata": {
        "id": "hLsl0HXPejfp"
      },
      "source": [
        "#svm implement"
      ]
    },
    {
      "cell_type": "code",
      "metadata": {
        "id": "yPqy69p6XYbq",
        "colab": {
          "base_uri": "https://localhost:8080/",
          "height": 665
        },
        "outputId": "28938ca0-7cc6-46a5-cb62-4355fe3f3c9f"
      },
      "source": [
        "\n",
        "x_train, x_holdout, y_train, y_holdout = train_test_split(X, y, stratify= y, test_size = 0.231,random_state=22) # 30k for holdout 1lakh for rem.\n",
        "x_train, x_test, y_train, y_test=train_test_split(x_train, y_train, test_size=0.1,random_state=22) # 90-10k split\n",
        "\n",
        "sc = StandardScaler()\n",
        "x_train = sc.fit_transform(x_train)\n",
        "x_test = sc.transform(x_test)\n",
        "x_holdout= sc.transform(x_holdout)\n",
        "svc =SVC()\n",
        "svc=svc.fit(x_train, y_train)\n",
        "prediction = svc.predict(x_test)\n",
        "hold_pred = svc.predict(x_holdout)\n",
        "\n",
        "print('Training Accuracy ->{:.3f} '.format(svc.score(x_train,y_train)))\n",
        "print('Validation Accuracy ->{:.3f} '.format(accuracy_score(y_test, prediction)))  # this is used for checking model's accuracy and how it works \n",
        "print('Final Testset Accuracy ->{:.3f}'.format(accuracy_score(y_holdout, hold_pred))) # this is used for final evaluation\n",
        "print('Precision score ->{:.3f} '.format(precision_score(y_holdout,hold_pred, average='macro')))\n",
        "print('Recall score ->{:.3f} '.format(recall_score(y_holdout,hold_pred, average='macro')))\n",
        "cm=pd.DataFrame(confusion_matrix(y_holdout, hold_pred))\n",
        "plt.figure(figsize = (12, 9))\n",
        "s=sns.heatmap(cm/np.sum(cm), annot=True, cmap='GnBu', fmt='.2%')\n",
        "s.set_yticklabels(labels=['Video Conferencing','Subscription based', 'Non-subscription based'])\n",
        "s.set_xticklabels(labels=['Video Conferencing','Subscription based', 'Non-subscription based'])\n",
        "plt.xlabel('Predicted label', fontsize=15)\n",
        "plt.ylabel('True label', fontsize=15)\n",
        "plt.title('Confusion Matrix for SVM', fontsize=20)\n",
        "plt.show()\n"
      ],
      "execution_count": null,
      "outputs": [
        {
          "output_type": "stream",
          "text": [
            "Training Accuracy ->0.945 \n",
            "Validation Accuracy ->0.944 \n",
            "Final Testset Accuracy ->0.940\n",
            "Precision score ->0.942 \n",
            "Recall score ->0.940 \n"
          ],
          "name": "stdout"
        },
        {
          "output_type": "display_data",
          "data": {
            "image/png": "[encoded data removed]",
            "text/plain": [
              "<Figure size 864x648 with 2 Axes>"
            ]
          },
          "metadata": {
            "tags": [],
            "needs_background": "light"
          }
        }
      ]
    },
    {
      "cell_type": "code",
      "metadata": {
        "id": "msSCormob_1S"
      },
      "source": [
        "# with RobustScaler\n",
        "# Accuracy without PCA -> 0.771 \n",
        "# Holdout prediction -> 0.760\n",
        "# Accuracy with PCA -> 0.463 \n",
        "# Holdout prediction -> 0.451\n",
        "# Now with StandardScaler\n",
        "# Accuracy without PCA -> 0.966\n",
        "# Holdout prediction -> 0.965\n",
        "# Accuracy with PCA -> 0.948 \n",
        "# Holdout prediction -> 0.944 for 12 components or 93% variance retained..\n",
        "# Now with MinMaxScaler\n",
        "# Accuracy without PCA -> 0.913\n",
        "# Holdout prediction -> 0.910\n",
        "# Accuracy with PCA -> 0.941\n",
        "# Holdout prediction -> 0.938"
      ],
      "execution_count": null,
      "outputs": []
    },
    {
      "cell_type": "markdown",
      "metadata": {
        "id": "-_SF6a9Kp_b6"
      },
      "source": [
        "# Random Forest and GBDT"
      ]
    },
    {
      "cell_type": "markdown",
      "metadata": {
        "id": "M1wFsj6CquVK"
      },
      "source": [
        "## No PCA"
      ]
    },
    {
      "cell_type": "code",
      "metadata": {
        "colab": {
          "base_uri": "https://localhost:8080/"
        },
        "id": "rvuK7UAaidGc",
        "outputId": "cc390c23-2bee-4c10-dd2b-77c5768b960e"
      },
      "source": [
        "Final.dtypes.value_counts()"
      ],
      "execution_count": null,
      "outputs": [
        {
          "output_type": "execute_result",
          "data": {
            "text/plain": [
              "float64    20\n",
              "int64       3\n",
              "dtype: int64"
            ]
          },
          "metadata": {
            "tags": []
          },
          "execution_count": 30
        }
      ]
    },
    {
      "cell_type": "code",
      "metadata": {
        "colab": {
          "base_uri": "https://localhost:8080/"
        },
        "id": "wR1iuOyS1NXJ",
        "outputId": "22299841-3f5a-4863-de68-86cb4c5cda7d"
      },
      "source": [
        "np.geomspace(1e-7, 1e-1, 7) # sample"
      ],
      "execution_count": null,
      "outputs": [
        {
          "output_type": "execute_result",
          "data": {
            "text/plain": [
              "array([1.e-07, 1.e-06, 1.e-05, 1.e-04, 1.e-03, 1.e-02, 1.e-01])"
            ]
          },
          "metadata": {
            "tags": []
          },
          "execution_count": 33
        }
      ]
    },
    {
      "cell_type": "code",
      "metadata": {
        "colab": {
          "base_uri": "https://localhost:8080/",
          "height": 1000
        },
        "id": "15c8DzYCqEro",
        "outputId": "89ddcca2-1c8e-470c-c945-883e39c54ee9"
      },
      "source": [
        "from sklearn.ensemble import RandomForestClassifier, GradientBoostingClassifier\n",
        "from sklearn.model_selection import GridSearchCV\n",
        "from sklearn.pipeline import Pipeline\n",
        "x_train, x_holdout, y_train, y_holdout = train_test_split(X, y, stratify= y, test_size = 0.231)\n",
        "x_train, x_test, y_train, y_test=train_test_split(x_train, y_train, test_size=0.1)\n",
        "# params={'n_estimators':[100,101,102,103,104],\n",
        "#     'max_depth':[2,3,4,5]} # default n_estimators value is 100 decision trees\n",
        "RFC=RandomForestClassifier(max_depth=5,random_state=0)\n",
        "RFC.fit(x_train,y_train)\n",
        "prediction=RFC.predict(x_test)\n",
        "hold_pred=RFC.predict(x_holdout)\n",
        "print('************** FOR Random Forest ***************')\n",
        "print('Training Accuracy ->{:.3f} '.format(RFC.score(x_train,y_train)))\n",
        "print('Validation Accuracy ->{:.3f} '.format(accuracy_score(y_test, prediction)))  # this is used for checking model's accuracy and how it works \n",
        "print('Final Testset Accuracy ->{:.3f}'.format(accuracy_score(y_holdout, hold_pred))) # this is used for final evaluation\n",
        "print('Precision score ->{:.3f} '.format(precision_score(y_holdout,hold_pred, average='macro')))\n",
        "print('Recall score ->{:.3f} '.format(recall_score(y_holdout,hold_pred, average='macro')))\n",
        "cm=pd.DataFrame(confusion_matrix(y_holdout, hold_pred))\n",
        "plt.figure(figsize = (12, 9))\n",
        "s=sns.heatmap(cm/np.sum(cm), annot=True, cmap='GnBu', fmt='.2%')\n",
        "s.set_yticklabels(labels=['Video Conferencing','Subscription based', 'Non-subscription based'])\n",
        "s.set_xticklabels(labels=['Video Conferencing','Subscription based', 'Non-subscription based'])\n",
        "plt.xlabel('Predicted label', fontsize=15)\n",
        "plt.ylabel('True label', fontsize=15)\n",
        "plt.title('Confusion Matrix for Random forest', fontsize=20)\n",
        "plt.show()\n",
        "\n",
        "GBC=GradientBoostingClassifier()\n",
        "GBC.fit(x_train,y_train)\n",
        "pred=GBC.predict(x_test)\n",
        "hold_pred=GBC.predict(x_holdout)\n",
        "print()\n",
        "print('************** FOR Gradient Boosting Decision Tree ***************')\n",
        "print('Training Accuracy ->{:.3f} '.format(GBC.score(x_train,y_train)))\n",
        "print('Validation Accuracy ->{:.3f} '.format(accuracy_score(y_test, pred)))  # this is used for checking model's accuracy and how it works \n",
        "print('Final Testset Accuracy ->{:.3f}'.format(accuracy_score(y_holdout, hold_pred))) # this is used for final evaluation\n",
        "print('Precision score ->{:.3f} '.format(precision_score(y_holdout,hold_pred, average='macro')))\n",
        "print('Recall score ->{:.3f} '.format(recall_score(y_holdout,hold_pred, average='macro')))\n",
        "cm=pd.DataFrame(confusion_matrix(y_holdout, hold_pred))\n",
        "plt.figure(figsize = (12, 9))\n",
        "s=sns.heatmap(cm/np.sum(cm), annot=True, cmap='GnBu', fmt='.2%')\n",
        "s.set_yticklabels(labels=['Video Conferencing','Subscription based', 'Non-subscription based'])\n",
        "s.set_xticklabels(labels=['Video Conferencing','Subscription based', 'Non-subscription based'])\n",
        "plt.xlabel('Predicted label', fontsize=15)\n",
        "plt.ylabel('True label', fontsize=15)\n",
        "plt.title('Confusion Matrix for GBDT', fontsize=20)\n",
        "plt.show()"
      ],
      "execution_count": null,
      "outputs": [
        {
          "output_type": "stream",
          "text": [
            "************** FOR Random Forest ***************\n",
            "Training Accuracy ->0.914 \n",
            "Validation Accuracy ->0.911 \n",
            "Final Testset Accuracy ->0.913\n",
            "Precision score ->0.917 \n",
            "Recall score ->0.913 \n"
          ],
          "name": "stdout"
        },
        {
          "output_type": "display_data",
          "data": {
            "image/png": "[encoded data removed]",
            "text/plain": [
              "<Figure size 864x648 with 2 Axes>"
            ]
          },
          "metadata": {
            "tags": [],
            "needs_background": "light"
          }
        },
        {
          "output_type": "stream",
          "text": [
            "\n",
            "************** FOR Gradient Boosting Decision Tree ***************\n",
            "Training Accuracy ->0.977 \n",
            "Validation Accuracy ->0.976 \n",
            "Final Testset Accuracy ->0.976\n",
            "Precision score ->0.976 \n",
            "Recall score ->0.976 \n"
          ],
          "name": "stdout"
        },
        {
          "output_type": "display_data",
          "data": {
            "image/png": "[encoded data removed]",
            "text/plain": [
              "<Figure size 864x648 with 2 Axes>"
            ]
          },
          "metadata": {
            "tags": [],
            "needs_background": "light"
          }
        }
      ]
    },
    {
      "cell_type": "code",
      "metadata": {
        "colab": {
          "base_uri": "https://localhost:8080/"
        },
        "id": "kb_TjOMP-IDg",
        "outputId": "e9b52ca3-1120-4afb-abb1-3493ca78d217"
      },
      "source": [
        "GradientBoostingClassifier().get_params().keys()"
      ],
      "execution_count": null,
      "outputs": [
        {
          "output_type": "execute_result",
          "data": {
            "text/plain": [
              "dict_keys(['ccp_alpha', 'criterion', 'init', 'learning_rate', 'loss', 'max_depth', 'max_features', 'max_leaf_nodes', 'min_impurity_decrease', 'min_impurity_split', 'min_samples_leaf', 'min_samples_split', 'min_weight_fraction_leaf', 'n_estimators', 'n_iter_no_change', 'presort', 'random_state', 'subsample', 'tol', 'validation_fraction', 'verbose', 'warm_start'])"
            ]
          },
          "metadata": {
            "tags": []
          },
          "execution_count": 36
        }
      ]
    },
    {
      "cell_type": "markdown",
      "metadata": {
        "id": "LxM_9g_FveaM"
      },
      "source": [
        "## With PCA"
      ]
    },
    {
      "cell_type": "code",
      "metadata": {
        "colab": {
          "base_uri": "https://localhost:8080/"
        },
        "id": "EpNlTvFsq19m",
        "outputId": "a82cb1ef-2653-49e8-9777-85eba2e0bebc"
      },
      "source": [
        "pca= PCA(0.9) \n",
        "pca_train=pca.fit_transform(x_train)\n",
        "pca_test=pca.transform(x_test)\n",
        "pca_hold=pca.transform(x_holdout)\n",
        "\n",
        "svc=RandomForestClassifier(max_depth=11, random_state=0)\n",
        "svc.fit(pca_train, y_train)\n",
        "prediction=svc.predict(pca_test)\n",
        "# for test accuracy\n",
        "print(f'Accuracy with PCA -> {accuracy_score(y_test, prediction)} ')\n",
        "hold_pred=svc.predict(pca_hold)\n",
        "print(f'Holdout prediction -> {accuracy_score(y_holdout, hold_pred)}')"
      ],
      "execution_count": null,
      "outputs": [
        {
          "output_type": "stream",
          "text": [
            "Accuracy with PCA -> 0.9852645245050309 \n",
            "Holdout prediction -> 0.9854137629250267\n"
          ],
          "name": "stdout"
        }
      ]
    },
    {
      "cell_type": "code",
      "metadata": {
        "id": "n9gKGC_uycJY"
      },
      "source": [
        ""
      ],
      "execution_count": null,
      "outputs": []
    },
    {
      "cell_type": "markdown",
      "metadata": {
        "id": "A4aR2Dnh2J5n"
      },
      "source": [
        "# Deep learning approach"
      ]
    },
    {
      "cell_type": "code",
      "metadata": {
        "id": "iC5vi5HD0rTr"
      },
      "source": [
        "x_train, x_holdout, y_train, y_holdout = train_test_split(X, y, stratify= y, test_size = 0.231)\n",
        "x_train, x_test, y_train, y_test=train_test_split(x_train, y_train, test_size=0.15)"
      ],
      "execution_count": null,
      "outputs": []
    },
    {
      "cell_type": "code",
      "metadata": {
        "id": "L4TRiYDR2K1L"
      },
      "source": [
        "from numpy import argmax\n",
        "from tensorflow.keras import Sequential\n",
        "from tensorflow.keras.layers import Dense\n"
      ],
      "execution_count": null,
      "outputs": []
    },
    {
      "cell_type": "code",
      "metadata": {
        "colab": {
          "base_uri": "https://localhost:8080/"
        },
        "id": "-WXkfUAY-oe8",
        "outputId": "9c8dd2f8-4d14-48c4-b283-8793f388abab"
      },
      "source": [
        "# determine the number of input features\n",
        "n_features = x_train.shape[1]\n",
        "# define model\n",
        "model = Sequential()\n",
        "model.add(Dense(10, activation='relu', kernel_initializer='he_normal', input_shape=(n_features,)))\n",
        "model.add(Dense(8, activation='relu', kernel_initializer='he_normal'))\n",
        "model.add(Dense(3, activation='softmax'))\n",
        "# compile the model\n",
        "model.compile(optimizer='adam', loss='sparse_categorical_crossentropy', metrics=['accuracy'])\n",
        "# fit the model\n",
        "model.fit(x_train, y_train, epochs=150, batch_size=32, verbose=0)\n",
        "# evaluate the model\n",
        "loss, acc = model.evaluate(x_test, y_test, verbose=1)\n",
        "print('Test Accuracy: %.3f' % acc)\n"
      ],
      "execution_count": null,
      "outputs": [
        {
          "output_type": "stream",
          "text": [
            "482/482 [==============================] - 0s 828us/step - loss: 1.0852 - accuracy: 0.3665\n",
            "Test Accuracy: 0.367\n"
          ],
          "name": "stdout"
        }
      ]
    },
    {
      "cell_type": "code",
      "metadata": {
        "colab": {
          "base_uri": "https://localhost:8080/",
          "height": 256
        },
        "id": "fwEJWvkyGQGb",
        "outputId": "c0204060-8201-4c0c-83da-4b9462c76b9a"
      },
      "source": [
        "# make a prediction on validation set or holdout\n",
        "hat,cnt=[],0\n",
        "print(x_holdout.shape[0])\n",
        "for record in x_holdout:\n",
        "  yhat=model.predict([record.tolist()])\n",
        "  hat.append(argmax(yhat))\n",
        "for (y,yhat) in zip(y_holdout,hat):\n",
        "  if y==yhat:\n",
        "    cnt+=1\n",
        "acc=cnt/x_holdout.shape[0]\n",
        "print('validation set accuracy:->', acc)"
      ],
      "execution_count": null,
      "outputs": [
        {
          "output_type": "stream",
          "text": [
            "30851\n"
          ],
          "name": "stdout"
        },
        {
          "output_type": "error",
          "ename": "AttributeError",
          "evalue": "ignored",
          "traceback": [
            "\u001b[0;31m---------------------------------------------------------------------------\u001b[0m",
            "\u001b[0;31mAttributeError\u001b[0m                            Traceback (most recent call last)",
            "\u001b[0;32m<ipython-input-58-c8e96f30b554>\u001b[0m in \u001b[0;36m<module>\u001b[0;34m()\u001b[0m\n\u001b[1;32m      3\u001b[0m \u001b[0mprint\u001b[0m\u001b[0;34m(\u001b[0m\u001b[0mx_holdout\u001b[0m\u001b[0;34m.\u001b[0m\u001b[0mshape\u001b[0m\u001b[0;34m[\u001b[0m\u001b[0;36m0\u001b[0m\u001b[0;34m]\u001b[0m\u001b[0;34m)\u001b[0m\u001b[0;34m\u001b[0m\u001b[0;34m\u001b[0m\u001b[0m\n\u001b[1;32m      4\u001b[0m \u001b[0;32mfor\u001b[0m \u001b[0mrecord\u001b[0m \u001b[0;32min\u001b[0m \u001b[0mx_holdout\u001b[0m\u001b[0;34m:\u001b[0m\u001b[0;34m\u001b[0m\u001b[0;34m\u001b[0m\u001b[0m\n\u001b[0;32m----> 5\u001b[0;31m   \u001b[0myhat\u001b[0m\u001b[0;34m=\u001b[0m\u001b[0mmodel\u001b[0m\u001b[0;34m.\u001b[0m\u001b[0mpredict\u001b[0m\u001b[0;34m(\u001b[0m\u001b[0;34m[\u001b[0m\u001b[0mrecord\u001b[0m\u001b[0;34m.\u001b[0m\u001b[0mtolist\u001b[0m\u001b[0;34m(\u001b[0m\u001b[0;34m)\u001b[0m\u001b[0;34m]\u001b[0m\u001b[0;34m)\u001b[0m\u001b[0;34m\u001b[0m\u001b[0;34m\u001b[0m\u001b[0m\n\u001b[0m\u001b[1;32m      6\u001b[0m   \u001b[0mhat\u001b[0m\u001b[0;34m.\u001b[0m\u001b[0mappend\u001b[0m\u001b[0;34m(\u001b[0m\u001b[0margmax\u001b[0m\u001b[0;34m(\u001b[0m\u001b[0myhat\u001b[0m\u001b[0;34m)\u001b[0m\u001b[0;34m)\u001b[0m\u001b[0;34m\u001b[0m\u001b[0;34m\u001b[0m\u001b[0m\n\u001b[1;32m      7\u001b[0m \u001b[0;32mfor\u001b[0m \u001b[0;34m(\u001b[0m\u001b[0my\u001b[0m\u001b[0;34m,\u001b[0m\u001b[0myhat\u001b[0m\u001b[0;34m)\u001b[0m \u001b[0;32min\u001b[0m \u001b[0mzip\u001b[0m\u001b[0;34m(\u001b[0m\u001b[0my_holdout\u001b[0m\u001b[0;34m,\u001b[0m\u001b[0mhat\u001b[0m\u001b[0;34m)\u001b[0m\u001b[0;34m:\u001b[0m\u001b[0;34m\u001b[0m\u001b[0;34m\u001b[0m\u001b[0m\n",
            "\u001b[0;31mAttributeError\u001b[0m: 'str' object has no attribute 'tolist'"
          ]
        }
      ]
    },
    {
      "cell_type": "code",
      "metadata": {
        "id": "xYQhkvJ5GRZk"
      },
      "source": [
        "y_holdout.head()"
      ],
      "execution_count": null,
      "outputs": []
    },
    {
      "cell_type": "markdown",
      "metadata": {
        "id": "aUGSmPvd3bC-"
      },
      "source": [
        "# KNN algorithm"
      ]
    },
    {
      "cell_type": "markdown",
      "metadata": {
        "id": "m9EpSu-Y3lQv"
      },
      "source": [
        "## No-PCA"
      ]
    },
    {
      "cell_type": "code",
      "metadata": {
        "colab": {
          "base_uri": "https://localhost:8080/",
          "height": 665
        },
        "id": "BcE8NynHTnoy",
        "outputId": "1bed1c4c-fa07-43fc-c340-2da2d1ab9c4d"
      },
      "source": [
        "from sklearn.neighbors import KNeighborsClassifier\n",
        "x_train, x_holdout, y_train, y_holdout = train_test_split(X, y, stratify= y, test_size = 0.231)\n",
        "x_train, x_test, y_train, y_test=train_test_split(x_train, y_train, test_size=0.15)\n",
        "# scaling\n",
        "from sklearn.preprocessing import RobustScaler,StandardScaler, MinMaxScaler\n",
        "sc = StandardScaler()\n",
        "x_train = sc.fit_transform(x_train)\n",
        "x_test = sc.transform(x_test)\n",
        "x_holdout= sc.transform(x_holdout)\n",
        "knn=KNeighborsClassifier(n_neighbors=3)\n",
        "knn.fit(x_train, y_train)\n",
        "prediction=knn.predict(x_test)\n",
        "hold_pred=knn.predict(x_holdout)\n",
        "print('Training Accuracy ->{:.3f} '.format(knn.score(x_train,y_train)))\n",
        "print('Validation Accuracy ->{:.3f} '.format(accuracy_score(y_test, prediction)))  # this is used for checking model's accuracy and how it works \n",
        "print('Final Testset Accuracy ->{:.3f}'.format(accuracy_score(y_holdout, hold_pred))) # this is used for final evaluation\n",
        "print('Precision score ->{:.3f} '.format(precision_score(y_holdout,hold_pred, average='macro')))\n",
        "print('Recall score ->{:.3f} '.format(recall_score(y_holdout,hold_pred, average='macro')))\n",
        "cm=pd.DataFrame(confusion_matrix(y_holdout, hold_pred))\n",
        "plt.figure(figsize = (12, 9))\n",
        "s=sns.heatmap(cm/np.sum(cm), annot=True, cmap='GnBu', fmt='.2%')\n",
        "s.set_yticklabels(labels=['Video Conferencing','Subscription based', 'Non-subscription based'])\n",
        "s.set_xticklabels(labels=['Video Conferencing','Subscription based', 'Non-subscription based'])\n",
        "plt.xlabel('Predicted label', fontsize=15)\n",
        "plt.ylabel('True label', fontsize=15)\n",
        "plt.title('Confusion Matrix for k-NN', fontsize=20)\n",
        "plt.show()\n",
        "# 94.4% train acc\n",
        "# final test set acc-93.8%, prec- 93.9, recall- 93.8"
      ],
      "execution_count": null,
      "outputs": [
        {
          "output_type": "stream",
          "text": [
            "Training Accuracy ->0.973 \n",
            "Validation Accuracy ->0.940 \n",
            "Final Testset Accuracy ->0.938\n",
            "Precision score ->0.939 \n",
            "Recall score ->0.938 \n"
          ],
          "name": "stdout"
        },
        {
          "output_type": "display_data",
          "data": {
            "image/png": "[encoded data removed]",
            "text/plain": [
              "<Figure size 864x648 with 2 Axes>"
            ]
          },
          "metadata": {
            "tags": [],
            "needs_background": "light"
          }
        }
      ]
    },
    {
      "cell_type": "code",
      "metadata": {
        "id": "9Y2CXkuZDnbj"
      },
      "source": [
        "# KNN with 5 neighbors accuraccy= 94.3%\n",
        "# #holdout data acc -> 93.99%\n",
        "#  6 neighbors -> 93.6%, holdout -> 93.45%\n",
        "# 3 neighbors -> 94.3%, holdout -> 94.47%\n",
        "# 4 neighbors -> 94%, holdout -> 93.7%\n",
        "# 2 neighbors -> 93.8%"
      ],
      "execution_count": null,
      "outputs": []
    },
    {
      "cell_type": "markdown",
      "metadata": {
        "id": "8pERqVm75nCQ"
      },
      "source": [
        "## PCA"
      ]
    },
    {
      "cell_type": "code",
      "metadata": {
        "colab": {
          "base_uri": "https://localhost:8080/"
        },
        "id": "2brOJ9MY4RHa",
        "outputId": "9203581d-21f0-4039-ecc9-b3ed15cc456e"
      },
      "source": [
        "pca= PCA(0.9) \n",
        "pca_train=pca.fit_transform(x_train)\n",
        "pca_test=pca.transform(x_test)\n",
        "pca_hold=pca.transform(x_holdout)\n",
        "\n",
        "knn=KNeighborsClassifier(n_neighbors=5)\n",
        "knn.fit(pca_train, y_train)\n",
        "prediction=knn.predict(pca_test)\n",
        "# for test accuracy\n",
        "print(f'Accuracy with PCA -> {accuracy_score(y_test, prediction)} ')\n",
        "hold_pred=knn.predict(pca_hold)\n",
        "print(f'Holdout prediction -> {accuracy_score(y_holdout, hold_pred)}')"
      ],
      "execution_count": null,
      "outputs": [
        {
          "output_type": "stream",
          "text": [
            "Accuracy with PCA -> 0.9921454073352808 \n",
            "Holdout prediction -> 0.9908592914330168\n"
          ],
          "name": "stdout"
        }
      ]
    },
    {
      "cell_type": "markdown",
      "metadata": {
        "id": "WYk5mHvi6OMU"
      },
      "source": [
        "## Test with new csv"
      ]
    },
    {
      "cell_type": "code",
      "metadata": {
        "id": "dTcGn7h15wc0"
      },
      "source": [
        "inal =pd.read_csv(\"/content/drive/My Drive/network_dataset/Final1.csv\")"
      ],
      "execution_count": null,
      "outputs": []
    },
    {
      "cell_type": "code",
      "metadata": {
        "id": "rA_mkIEc6WAo"
      },
      "source": [
        "from sklearn.model_selection import train_test_split\n",
        "from sklearn.svm import SVC\n",
        "from sklearn.metrics import confusion_matrix\n",
        "from sklearn.decomposition import PCA\n",
        "from sklearn.metrics import accuracy_score"
      ],
      "execution_count": null,
      "outputs": []
    },
    {
      "cell_type": "code",
      "metadata": {
        "id": "lfJXVMGb6oRp"
      },
      "source": [
        "X=inal.drop('output',1)\n",
        "y=inal['output']"
      ],
      "execution_count": null,
      "outputs": []
    },
    {
      "cell_type": "code",
      "metadata": {
        "colab": {
          "base_uri": "https://localhost:8080/"
        },
        "id": "_gjhj_uy6vRd",
        "outputId": "f72ea920-5f42-4d0e-f92b-693aafd455bf"
      },
      "source": [
        "x_train, x_holdout, y_train, y_holdout = train_test_split(X, y, stratify= y, test_size = 0.231) # 30k for holdout 1lakh for rem.\n",
        "x_train, x_test, y_train, y_test=train_test_split(x_train, y_train, test_size=0.15) # 85-15k split\n",
        "# scaling\n",
        "from sklearn.preprocessing import RobustScaler,StandardScaler, MinMaxScaler\n",
        "sc = StandardScaler()\n",
        "x_train = sc.fit_transform(x_train)\n",
        "x_test = sc.transform(x_test)\n",
        "x_holdout= sc.transform(x_holdout)\n",
        "svc=SVC() # The default kernel used by SVC is the gaussian kernel\n",
        "svc.fit(x_train, y_train)\n",
        "prediction=svc.predict(x_test)\n",
        "# for test accuracy\n",
        "print(f'Accuracy without PCA -> {accuracy_score(y_test, prediction)} ')\n",
        "hold_pred=svc.predict(x_holdout)\n",
        "print(f'Holdout prediction -> {accuracy_score(y_holdout, hold_pred)}')"
      ],
      "execution_count": null,
      "outputs": [
        {
          "output_type": "stream",
          "text": [
            "Accuracy without PCA -> 0.9990912041544953 \n",
            "Holdout prediction -> 0.9989627564746686\n"
          ],
          "name": "stdout"
        }
      ]
    },
    {
      "cell_type": "markdown",
      "metadata": {
        "id": "hGvZMJBgCmW9"
      },
      "source": [
        "# Stacking up the models"
      ]
    },
    {
      "cell_type": "markdown",
      "metadata": {
        "id": "1yOMuNOveQQg"
      },
      "source": [
        "##Sample"
      ]
    },
    {
      "cell_type": "code",
      "metadata": {
        "id": "Dx83En0PSG5l"
      },
      "source": [
        "# imports\n",
        "from sklearn.ensemble import VotingClassifier,StackingClassifier\n",
        "from sklearn.linear_model import LogisticRegression\n",
        "from sklearn.neighbors import KNeighborsClassifier\n",
        "from sklearn.ensemble import RandomForestClassifier, GradientBoostingClassifier\n",
        "from sklearn.svm import SVC,LinearSVC\n",
        "from sklearn.pipeline import make_pipeline\n",
        "from xgboost import XGBClassifier\n",
        "from sklearn.model_selection import train_test_split\n",
        "from sklearn.preprocessing import RobustScaler,StandardScaler, MinMaxScaler"
      ],
      "execution_count": null,
      "outputs": []
    },
    {
      "cell_type": "code",
      "metadata": {
        "colab": {
          "background_save": true
        },
        "id": "eXPT2aWHCu6y",
        "outputId": "ac02f0e3-9492-468d-ee24-78da4ead351c"
      },
      "source": [
        "\n",
        "# X=Final.drop('output',1)\n",
        "# y=Final['output']\n",
        "\n",
        "x_train, x_holdout, y_train, y_holdout = train_test_split(X, y, stratify= y, random_state=43, test_size = 0.231)\n",
        "x_train, x_test, y_train, y_test=train_test_split(x_train, y_train,stratify=y_train, random_state=43, test_size=0.15)\n",
        "\n",
        "sc = StandardScaler()\n",
        "x_train = sc.fit_transform(x_train)\n",
        "x_test = sc.transform(x_test)\n",
        "x_holdout= sc.transform(x_holdout)\n",
        "# example for  pipelines     make_pipeline(StandardScaler(),SVC())\n",
        "estimator_list=[('knn',KNeighborsClassifier(n_neighbors=3)),('Rfs',RandomForestClassifier(max_depth=5, random_state=0)), ('svm',SVC()),('GBC',GradientBoostingClassifier())]\n",
        "# VC=VotingClassifier(estimator_list)\n",
        "# VC=VC.fit(x_train,y_train)\n",
        "# VC.predict(x_test)\n",
        "sclf=StackingClassifier(estimator_list, final_estimator=LogisticRegression())\n",
        "sclf=sclf.fit(x_train,y_train)\n",
        "print('Training Accuracy ->{:.3f} '.format(sclf.score(x_train,y_train)))\n",
        "print('Validation Accuracy ->{:.3f} '.format(accuracy_score(y_test, prediction)))  # this is used for checking model's accuracy and how it works \n",
        "print('Final Testset Accuracy ->{:.3f}'.format(accuracy_score(y_holdout, hold_pred))) # this is used for final evaluation\n",
        "print('Precision score ->{:.3f} '.format(precision_score(y_holdout,hold_pred, average='macro')))\n",
        "print('Recall score ->{:.3f} '.format(recall_score(y_holdout,hold_pred, average='macro')))\n",
        "cm=pd.DataFrame(confusion_matrix(y_holdout, hold_pred))\n",
        "plt.figure(figsize = (12, 9))\n",
        "s=sns.heatmap(cm/np.sum(cm), annot=True, cmap='GnBu', fmt='.2%')\n",
        "s.set_yticklabels(labels=['Video Conferencing','Subscription based', 'Non-subscription based'])\n",
        "s.set_xticklabels(labels=['Video Conferencing','Subscription based', 'Non-subscription based'])\n",
        "plt.xlabel('Predicted label', fontsize=15)\n",
        "plt.ylabel('True label', fontsize=15)\n",
        "plt.title('Confusion Matrix for SVM', fontsize=20)\n",
        "plt.show()"
      ],
      "execution_count": null,
      "outputs": [
        {
          "output_type": "stream",
          "text": [
            "/usr/local/lib/python3.6/dist-packages/sklearn/linear_model/_logistic.py:940: ConvergenceWarning: lbfgs failed to converge (status=1):\n",
            "STOP: TOTAL NO. of ITERATIONS REACHED LIMIT.\n",
            "\n",
            "Increase the number of iterations (max_iter) or scale the data as shown in:\n",
            "    https://scikit-learn.org/stable/modules/preprocessing.html\n",
            "Please also refer to the documentation for alternative solver options:\n",
            "    https://scikit-learn.org/stable/modules/linear_model.html#logistic-regression\n",
            "  extra_warning_msg=_LOGISTIC_SOLVER_CONVERGENCE_MSG)\n"
          ],
          "name": "stderr"
        },
        {
          "output_type": "stream",
          "text": [
            "Train accuracy -> 0.9876739790366\n",
            "Test accuracy-> 0.982992534891269\n",
            "Validation accuracy -> 0.9841172085183625\n"
          ],
          "name": "stdout"
        }
      ]
    },
    {
      "cell_type": "code",
      "metadata": {
        "colab": {
          "base_uri": "https://localhost:8080/"
        },
        "id": "MqU3rf_9QHYp",
        "outputId": "ac621da1-845e-43b8-a1fb-c8ec4e7bdb3b"
      },
      "source": [
        "sc = StandardScaler()\n",
        "x_train, x_holdout, y_train, y_holdout = train_test_split(X, y, stratify= y, random_state=43, test_size = 0.231)\n",
        "x_train, x_test, y_train, y_test=train_test_split(x_train, y_train,stratify=y_train, random_state=43, test_size=0.15)\n",
        "x_train = sc.fit_transform(x_train)\n",
        "x_test = sc.transform(x_test)\n",
        "x_holdout= sc.transform(x_holdout)\n",
        "estimator_list=[('knn',KNeighborsClassifier(n_neighbors=3)), ('svm',SVC()),('GBC',GradientBoostingClassifier())]\n",
        "sclf=StackingClassifier(estimator_list, final_estimator=LogisticRegression())\n",
        "sclf=sclf.fit(x_train,y_train)\n",
        "print(f'Train accuracy -> {sclf.score(x_train,y_train)}')\n",
        "print(f'Test accuracy-> {sclf.score(x_test,y_test)}') \n",
        "print(f'Validation accuracy -> {sclf.score(x_holdout, y_holdout)}')"
      ],
      "execution_count": null,
      "outputs": [
        {
          "output_type": "stream",
          "text": [
            "/usr/local/lib/python3.6/dist-packages/sklearn/linear_model/_logistic.py:940: ConvergenceWarning: lbfgs failed to converge (status=1):\n",
            "STOP: TOTAL NO. of ITERATIONS REACHED LIMIT.\n",
            "\n",
            "Increase the number of iterations (max_iter) or scale the data as shown in:\n",
            "    https://scikit-learn.org/stable/modules/preprocessing.html\n",
            "Please also refer to the documentation for alternative solver options:\n",
            "    https://scikit-learn.org/stable/modules/linear_model.html#logistic-regression\n",
            "  extra_warning_msg=_LOGISTIC_SOLVER_CONVERGENCE_MSG)\n"
          ],
          "name": "stderr"
        },
        {
          "output_type": "stream",
          "text": [
            "Train accuracy -> 0.9872730396929951\n",
            "Test accuracy-> 0.9823433950016228\n",
            "Validation accuracy -> 0.9838903114971962\n"
          ],
          "name": "stdout"
        }
      ]
    },
    {
      "cell_type": "markdown",
      "metadata": {
        "id": "WfMST7dwyXzi"
      },
      "source": [
        "## with voting classifier"
      ]
    },
    {
      "cell_type": "code",
      "metadata": {
        "colab": {
          "base_uri": "https://localhost:8080/"
        },
        "id": "uTM0FfZTSOLv",
        "outputId": "3ecb8c26-e434-4a73-dc11-ab9e7231778f"
      },
      "source": [
        "x_train, x_holdout, y_train, y_holdout = train_test_split(X, y, stratify= y, random_state=43, test_size = 0.231)\n",
        "x_train, x_test, y_train, y_test=train_test_split(x_train, y_train,stratify=y_train, random_state=43, test_size=0.15)\n",
        "estimator_list=[('knn',make_pipeline(StandardScaler(),KNeighborsClassifier(n_neighbors=3))), ('svm',make_pipeline(StandardScaler(),SVC())),('GBC',GradientBoostingClassifier(learning_rate=0.1))]\n",
        "sclf=VotingClassifier(estimator_list)\n",
        "sclf=sclf.fit(x_train,y_train)\n",
        "print(f'Train accuracy -> {sclf.score(x_train,y_train)}')\n",
        "print(f'Test accuracy-> {sclf.score(x_test,y_test)}') \n",
        "print(f'Validation accuracy -> {sclf.score(x_holdout, y_holdout)}')"
      ],
      "execution_count": null,
      "outputs": [
        {
          "output_type": "stream",
          "text": [
            "Train accuracy -> 0.976264390858583\n",
            "Test accuracy-> 0.9645569620253165\n",
            "Validation accuracy -> 0.9675213121130596\n"
          ],
          "name": "stdout"
        }
      ]
    },
    {
      "cell_type": "markdown",
      "metadata": {
        "id": "TG4QdmD3yd5x"
      },
      "source": [
        "## with KNN as meta-learner"
      ]
    },
    {
      "cell_type": "code",
      "metadata": {
        "colab": {
          "base_uri": "https://localhost:8080/"
        },
        "id": "hmyfGZvyjWGq",
        "outputId": "c39a7c47-6fe6-4092-9eab-c6f4efd7cf28"
      },
      "source": [
        "x_train, x_holdout, y_train, y_holdout = train_test_split(X, y, stratify= y, random_state=43, test_size = 0.231)\n",
        "x_train, x_test, y_train, y_test=train_test_split(x_train, y_train,stratify=y_train, random_state=43, test_size=0.15)\n",
        "estimator_list=[('knn',make_pipeline(StandardScaler(),KNeighborsClassifier(n_neighbors=3))), ('svm',make_pipeline(StandardScaler(),SVC())),('GBC',GradientBoostingClassifier(learning_rate=0.1))]\n",
        "sclf=StackingClassifier(estimator_list,final_estimator=KNeighborsClassifier(n_neighbors=3))\n",
        "sclf=sclf.fit(x_train,y_train)\n",
        "print(f'Train accuracy -> {sclf.score(x_train,y_train)}')\n",
        "print(f'Test accuracy-> {sclf.score(x_test,y_test)}') \n",
        "print(f'Validation accuracy -> {sclf.score(x_holdout, y_holdout)}')"
      ],
      "execution_count": null,
      "outputs": [
        {
          "output_type": "stream",
          "text": [
            "Train accuracy -> 0.9875479695286099\n",
            "Test accuracy-> 0.9811749432002597\n",
            "Validation accuracy -> 0.9818806521668666\n"
          ],
          "name": "stdout"
        }
      ]
    },
    {
      "cell_type": "markdown",
      "metadata": {
        "id": "t46wjnEPIa1L"
      },
      "source": [
        "## XGboost"
      ]
    },
    {
      "cell_type": "code",
      "metadata": {
        "colab": {
          "base_uri": "https://localhost:8080/",
          "height": 665
        },
        "id": "X5S0jO3eIaOl",
        "outputId": "b2da7614-d2e8-42bf-9777-d638bd66bd28"
      },
      "source": [
        "from sklearn.ensemble import VotingClassifier,StackingClassifier\n",
        "from sklearn.linear_model import LogisticRegression\n",
        "from sklearn.neighbors import KNeighborsClassifier\n",
        "from sklearn.ensemble import RandomForestClassifier, GradientBoostingClassifier\n",
        "from sklearn.svm import SVC,LinearSVC\n",
        "from sklearn.pipeline import make_pipeline\n",
        "from xgboost import XGBClassifier\n",
        "from sklearn.model_selection import train_test_split\n",
        "from sklearn.preprocessing import RobustScaler,StandardScaler, MinMaxScaler\n",
        "from sklearn.metrics import accuracy_score\n",
        "XGB=XGBClassifier()\n",
        "#Final.drop('Unnamed: 0',axis=1,inplace=True)\n",
        "X=Final.drop('output',1)\n",
        "y=Final['output']\n",
        "x_train, x_holdout, y_train, y_holdout = train_test_split(X, y, stratify= y, random_state=43, test_size = 0.231)\n",
        "x_train, x_test, y_train, y_test=train_test_split(x_train, y_train,stratify=y_train, random_state=43, test_size=0.15)\n",
        "XGB=XGB.fit(x_train,y_train)\n",
        "pred=XGB.predict(x_test)\n",
        "hold_pred=XGB.predict(x_holdout)\n",
        "print('Training Accuracy ->{:.3f} '.format(XGB.score(x_train,y_train)))\n",
        "print('Validation Accuracy ->{:.3f} '.format(accuracy_score(y_test, pred)))  # this is used for checking model's accuracy and how it works \n",
        "print('Final Testset Accuracy ->{:.3f}'.format(accuracy_score(y_holdout, hold_pred))) # this is used for final evaluation\n",
        "print('Precision score ->{:.3f} '.format(precision_score(y_holdout,hold_pred, average='macro')))\n",
        "print('Recall score ->{:.3f} '.format(recall_score(y_holdout,hold_pred, average='macro')))\n",
        "cm=pd.DataFrame(confusion_matrix(y_holdout, hold_pred))\n",
        "plt.figure(figsize = (12, 9))\n",
        "s=sns.heatmap(cm/np.sum(cm), annot=True, cmap='GnBu', fmt='.2%')\n",
        "s.set_yticklabels(labels=['Video Conferencing','Subscription based', 'Non-subscription based'])\n",
        "s.set_xticklabels(labels=['Video Conferencing','Subscription based', 'Non-subscription based'])\n",
        "plt.xlabel('Predicted label', fontsize=15)\n",
        "plt.ylabel('True label', fontsize=15)\n",
        "plt.title('Confusion Matrix for XGBoost', fontsize=20)\n",
        "plt.show()"
      ],
      "execution_count": null,
      "outputs": [
        {
          "output_type": "stream",
          "text": [
            "Training Accuracy ->0.965 \n",
            "Validation Accuracy ->0.964 \n",
            "Final Testset Accuracy ->0.965\n",
            "Precision score ->0.965 \n",
            "Recall score ->0.965 \n"
          ],
          "name": "stdout"
        },
        {
          "output_type": "display_data",
          "data": {
            "image/png": "[encoded data removed]",
            "text/plain": [
              "<Figure size 864x648 with 2 Axes>"
            ]
          },
          "metadata": {
            "tags": [],
            "needs_background": "light"
          }
        }
      ]
    },
    {
      "cell_type": "code",
      "metadata": {
        "id": "DwEQ_8xMjsew"
      },
      "source": [
        "from sklearn.ensemble import VotingClassifier,StackingClassifier\n",
        "from sklearn.linear_model import LogisticRegression\n",
        "from sklearn.neighbors import KNeighborsClassifier\n",
        "from sklearn.ensemble import RandomForestClassifier, GradientBoostingClassifier\n",
        "from sklearn.svm import SVC,LinearSVC\n",
        "from sklearn.pipeline import make_pipeline\n",
        "from xgboost import XGBClassifier\n",
        "from sklearn.model_selection import train_test_split\n",
        "from sklearn.preprocessing import RobustScaler,StandardScaler, MinMaxScaler\n",
        "from sklearn.metrics import accuracy_score\n",
        "XGB=XGBClassifier()"
      ],
      "execution_count": null,
      "outputs": []
    },
    {
      "cell_type": "markdown",
      "metadata": {
        "id": "zPMJL7-9NDs6"
      },
      "source": [
        "## with XGboost as meta-learner"
      ]
    },
    {
      "cell_type": "code",
      "metadata": {
        "colab": {
          "base_uri": "https://localhost:8080/",
          "height": 665
        },
        "id": "oqdfjAsgNC1p",
        "outputId": "439179f0-7e0b-4aa6-945e-496346ec2e88"
      },
      "source": [
        "# imports\n",
        "from sklearn.ensemble import VotingClassifier,StackingClassifier\n",
        "from sklearn.linear_model import LogisticRegression\n",
        "from sklearn.neighbors import KNeighborsClassifier\n",
        "from sklearn.ensemble import RandomForestClassifier, GradientBoostingClassifier\n",
        "from sklearn.svm import SVC,LinearSVC\n",
        "from sklearn.pipeline import make_pipeline\n",
        "from xgboost import XGBClassifier\n",
        "from sklearn.model_selection import train_test_split\n",
        "from sklearn.preprocessing import RobustScaler,StandardScaler, MinMaxScaler\n",
        "\n",
        "x_train, x_holdout, y_train, y_holdout = train_test_split(X, y, stratify= y, random_state=43, test_size = 0.231)\n",
        "x_train, x_test, y_train, y_test=train_test_split(x_train, y_train,stratify=y_train, random_state=43, test_size=0.15)\n",
        "estimator_list=[('knn',make_pipeline(StandardScaler(),KNeighborsClassifier(n_neighbors=3))), ('svm',make_pipeline(StandardScaler(),SVC())),('GBC',GradientBoostingClassifier(learning_rate=0.1))]\n",
        "sclf2=StackingClassifier(estimator_list,final_estimator=XGBClassifier())\n",
        "sclf2=sclf2.fit(x_train,y_train)\n",
        "prediction=sclf2.predict(x_test)\n",
        "hold_pred=sclf2.predict(x_holdout)\n",
        "print('Training Accuracy ->{:.3f} '.format(sclf2.score(x_train,y_train)))\n",
        "print('Validation Accuracy ->{:.3f} '.format(accuracy_score(y_test, prediction)))  # this is used for checking model's accuracy and how it works \n",
        "print('Final Testset Accuracy ->{:.3f}'.format(accuracy_score(y_holdout, hold_pred))) # this is used for final evaluation\n",
        "print('Precision score ->{:.3f} '.format(precision_score(y_holdout,hold_pred, average='macro')))\n",
        "print('Recall score ->{:.3f} '.format(recall_score(y_holdout,hold_pred, average='macro')))\n",
        "cm=pd.DataFrame(confusion_matrix(y_holdout, hold_pred))\n",
        "plt.figure(figsize = (12, 9))\n",
        "s=sns.heatmap(cm/np.sum(cm), annot=True, cmap='GnBu', fmt='.2%')\n",
        "s.set_yticklabels(labels=['Video Conferencing','Subscription based', 'Non-subscription based'])\n",
        "s.set_xticklabels(labels=['Video Conferencing','Subscription based', 'Non-subscription based'])\n",
        "plt.xlabel('Predicted label', fontsize=15)\n",
        "plt.ylabel('True label', fontsize=15)\n",
        "plt.title('Confusion Matrix for Stacking', fontsize=20)\n",
        "plt.show()"
      ],
      "execution_count": null,
      "outputs": [
        {
          "output_type": "stream",
          "text": [
            "Training Accuracy ->0.989 \n",
            "Validation Accuracy ->0.985 \n",
            "Final Testset Accuracy ->0.984\n",
            "Precision score ->0.984 \n",
            "Recall score ->0.984 \n"
          ],
          "name": "stdout"
        },
        {
          "output_type": "display_data",
          "data": {
            "image/png": "[encoded data removed]",
            "text/plain": [
              "<Figure size 864x648 with 2 Axes>"
            ]
          },
          "metadata": {
            "tags": [],
            "needs_background": "light"
          }
        }
      ]
    },
    {
      "cell_type": "code",
      "metadata": {
        "id": "mWpjt8Rvp7rs"
      },
      "source": [
        "import pickle\n",
        "\n",
        "with open('SVM_KNN_GBC_meta_XGB.pkl','wb') as f:\n",
        "    pickle.dump(sclf2,f)"
      ],
      "execution_count": null,
      "outputs": []
    },
    {
      "cell_type": "code",
      "metadata": {
        "colab": {
          "base_uri": "https://localhost:8080/"
        },
        "id": "FibAwKhnvRUx",
        "outputId": "9d1b9345-53a7-448f-b17d-6096e67a00fb"
      },
      "source": [
        "from google.colab import drive\n",
        "drive.mount('/content/drive')"
      ],
      "execution_count": null,
      "outputs": [
        {
          "output_type": "stream",
          "text": [
            "Mounted at /content/drive\n"
          ],
          "name": "stdout"
        }
      ]
    },
    {
      "cell_type": "markdown",
      "metadata": {
        "id": "D_HV4b-IgJVO"
      },
      "source": [
        "## with DT as meta learner"
      ]
    },
    {
      "cell_type": "code",
      "metadata": {
        "colab": {
          "base_uri": "https://localhost:8080/",
          "height": 665
        },
        "id": "rRqHaFSPe78R",
        "outputId": "18368b33-007e-411d-93ad-46252bde4f7d"
      },
      "source": [
        "from sklearn.tree import DecisionTreeClassifier\n",
        "dt=DecisionTreeClassifier()\n",
        "\n",
        "x_train, x_holdout, y_train, y_holdout = train_test_split(X, y, stratify= y, random_state=43, test_size = 0.231)\n",
        "x_train, x_test, y_train, y_test=train_test_split(x_train, y_train,stratify=y_train, random_state=43, test_size=0.15)\n",
        "estimator_list=[('knn',make_pipeline(StandardScaler(),KNeighborsClassifier(n_neighbors=3))), ('svm',make_pipeline(StandardScaler(),SVC())),('GBC',GradientBoostingClassifier(learning_rate=0.1))]\n",
        "sclf=StackingClassifier(estimator_list,final_estimator=dt)\n",
        "sclf=sclf.fit(x_train,y_train)\n",
        "prediction=sclf.predict(x_test)\n",
        "hold_pred=sclf.predict(x_holdout)\n",
        "print('Training Accuracy ->{:.3f} '.format(sclf.score(x_train,y_train)))\n",
        "print('Validation Accuracy ->{:.3f} '.format(accuracy_score(y_test, prediction)))  # this is used for checking model's accuracy and how it works \n",
        "print('Final Testset Accuracy ->{:.3f}'.format(accuracy_score(y_holdout, hold_pred))) # this is used for final evaluation\n",
        "print('Precision score ->{:.3f} '.format(precision_score(y_holdout,hold_pred, average='macro')))\n",
        "print('Recall score ->{:.3f} '.format(recall_score(y_holdout,hold_pred, average='macro')))\n",
        "cm=pd.DataFrame(confusion_matrix(y_holdout, hold_pred))\n",
        "plt.figure(figsize = (12, 9))\n",
        "s=sns.heatmap(cm/np.sum(cm), annot=True, cmap='GnBu', fmt='.2%')\n",
        "s.set_yticklabels(labels=['Video Conferencing','Subscription based', 'Non-subscription based'])\n",
        "s.set_xticklabels(labels=['Video Conferencing','Subscription based', 'Non-subscription based'])\n",
        "plt.xlabel('Predicted label', fontsize=15)\n",
        "plt.ylabel('True label', fontsize=15)\n",
        "plt.title('Confusion Matrix for Stacking with DT (meta)', fontsize=20)\n",
        "plt.show()"
      ],
      "execution_count": null,
      "outputs": [
        {
          "output_type": "stream",
          "text": [
            "Training Accuracy ->0.982 \n",
            "Validation Accuracy ->0.977 \n",
            "Final Testset Accuracy ->0.976\n",
            "Precision score ->0.976 \n",
            "Recall score ->0.976 \n"
          ],
          "name": "stdout"
        },
        {
          "output_type": "display_data",
          "data": {
            "image/png": "[encoded data removed]",
            "text/plain": [
              "<Figure size 864x648 with 2 Axes>"
            ]
          },
          "metadata": {
            "tags": [],
            "needs_background": "light"
          }
        }
      ]
    },
    {
      "cell_type": "markdown",
      "metadata": {
        "id": "6BV35BI0gSSG"
      },
      "source": [
        "## with GBDT as meta learner and (DT, SVM, kNN) base learners"
      ]
    },
    {
      "cell_type": "code",
      "metadata": {
        "colab": {
          "base_uri": "https://localhost:8080/",
          "height": 665
        },
        "id": "L7qO9v7gfZkx",
        "outputId": "83eef7aa-f23d-4259-f980-4535f2e5c4d9"
      },
      "source": [
        "x_train, x_holdout, y_train, y_holdout = train_test_split(X, y, stratify= y, random_state=43, test_size = 0.231)\n",
        "x_train, x_test, y_train, y_test=train_test_split(x_train, y_train,stratify=y_train, random_state=43, test_size=0.15)\n",
        "estimator_list=[('knn',make_pipeline(StandardScaler(),KNeighborsClassifier(n_neighbors=3))), ('svm',make_pipeline(StandardScaler(),SVC())),('DT',dt)]\n",
        "sclf=StackingClassifier(estimator_list,final_estimator=GradientBoostingClassifier(learning_rate=0.1))\n",
        "sclf=sclf.fit(x_train,y_train)\n",
        "prediction=sclf.predict(x_test)\n",
        "hold_pred=sclf.predict(x_holdout)\n",
        "print('Training Accuracy ->{:.3f} '.format(sclf.score(x_train,y_train)))\n",
        "print('Validation Accuracy ->{:.3f} '.format(accuracy_score(y_test, prediction)))  # this is used for checking model's accuracy and how it works \n",
        "print('Final Testset Accuracy ->{:.3f}'.format(accuracy_score(y_holdout, hold_pred))) # this is used for final evaluation\n",
        "print('Precision score ->{:.3f} '.format(precision_score(y_holdout,hold_pred, average='macro')))\n",
        "print('Recall score ->{:.3f} '.format(recall_score(y_holdout,hold_pred, average='macro')))\n",
        "cm=pd.DataFrame(confusion_matrix(y_holdout, hold_pred))\n",
        "plt.figure(figsize = (12, 9))\n",
        "s=sns.heatmap(cm/np.sum(cm), annot=True, cmap='GnBu', fmt='.2%')\n",
        "s.set_yticklabels(labels=['Video Conferencing','Subscription based', 'Non-subscription based'])\n",
        "s.set_xticklabels(labels=['Video Conferencing','Subscription based', 'Non-subscription based'])\n",
        "plt.xlabel('Predicted label', fontsize=15)\n",
        "plt.ylabel('True label', fontsize=15)\n",
        "plt.title('Confusion Matrix for Stacking with GBDT (meta)', fontsize=20)\n",
        "plt.show()"
      ],
      "execution_count": null,
      "outputs": [
        {
          "output_type": "stream",
          "text": [
            "Training Accuracy ->1.000 \n",
            "Validation Accuracy ->0.987 \n",
            "Final Testset Accuracy ->0.988\n",
            "Precision score ->0.988 \n",
            "Recall score ->0.988 \n"
          ],
          "name": "stdout"
        },
        {
          "output_type": "display_data",
          "data": {
            "image/png": "[encoded data removed]",
            "text/plain": [
              "<Figure size 864x648 with 2 Axes>"
            ]
          },
          "metadata": {
            "tags": [],
            "needs_background": "light"
          }
        }
      ]
    },
    {
      "cell_type": "markdown",
      "metadata": {
        "id": "X9fYY6qNua6W"
      },
      "source": [
        "## (XGB,GBDT,DT) base and meta(SVM)"
      ]
    },
    {
      "cell_type": "code",
      "metadata": {
        "colab": {
          "base_uri": "https://localhost:8080/",
          "height": 665
        },
        "id": "BcOAih82hnA2",
        "outputId": "6bdc93a1-24ac-452a-f91e-c86cbd2256dc"
      },
      "source": [
        "x_train, x_holdout, y_train, y_holdout = train_test_split(X, y, stratify= y, random_state=43, test_size = 0.231)\n",
        "x_train, x_test, y_train, y_test=train_test_split(x_train, y_train,stratify=y_train, random_state=43, test_size=0.15)\n",
        "estimator_list=[('XGB',XGBClassifier()), ('DT',dt),('GBDT',GradientBoostingClassifier(learning_rate=0.1))]\n",
        "sclf1=StackingClassifier(estimator_list,final_estimator=SVC())\n",
        "sclf1=sclf1.fit(x_train,y_train)\n",
        "prediction=sclf1.predict(x_test)\n",
        "hold_pred=sclf1.predict(x_holdout)\n",
        "print('Training Accuracy ->{:.3f} '.format(sclf1.score(x_train,y_train)))\n",
        "print('Validation Accuracy ->{:.3f} '.format(accuracy_score(y_test, prediction)))  # this is used for checking model's accuracy and how it works \n",
        "print('Final Testset Accuracy ->{:.3f}'.format(accuracy_score(y_holdout, hold_pred))) # this is used for final evaluation\n",
        "print('Precision score ->{:.3f} '.format(precision_score(y_holdout,hold_pred, average='macro')))\n",
        "print('Recall score ->{:.3f} '.format(recall_score(y_holdout,hold_pred, average='macro')))\n",
        "cm=pd.DataFrame(confusion_matrix(y_holdout, hold_pred))\n",
        "plt.figure(figsize = (12, 9))\n",
        "s=sns.heatmap(cm/np.sum(cm), annot=True, cmap='GnBu', fmt='.2%')\n",
        "s.set_yticklabels(labels=['Video Conferencing','Subscription based', 'Non-subscription based'])\n",
        "s.set_xticklabels(labels=['Video Conferencing','Subscription based', 'Non-subscription based'])\n",
        "plt.xlabel('Predicted label', fontsize=15)\n",
        "plt.ylabel('True label', fontsize=15)\n",
        "plt.title('Confusion Matrix for Stacking with SVM(meta)', fontsize=20)\n",
        "plt.show() "
      ],
      "execution_count": null,
      "outputs": [
        {
          "output_type": "stream",
          "text": [
            "Training Accuracy ->0.998 \n",
            "Validation Accuracy ->0.989 \n",
            "Final Testset Accuracy ->0.989\n",
            "Precision score ->0.989 \n",
            "Recall score ->0.990 \n"
          ],
          "name": "stdout"
        },
        {
          "output_type": "display_data",
          "data": {
            "image/png": "[encoded data removed]",
            "text/plain": [
              "<Figure size 864x648 with 2 Axes>"
            ]
          },
          "metadata": {
            "tags": [],
            "needs_background": "light"
          }
        }
      ]
    },
    {
      "cell_type": "code",
      "metadata": {
        "id": "AMObUI8Xprix"
      },
      "source": [
        "import pickle\n",
        "\n",
        "with open('XGB_GBDT_DT_meta_SVM.pkl','wb') as f:\n",
        "    pickle.dump(sclf1,f)"
      ],
      "execution_count": null,
      "outputs": []
    },
    {
      "cell_type": "code",
      "metadata": {
        "colab": {
          "base_uri": "https://localhost:8080/",
          "height": 665
        },
        "id": "wzq_66AJGpIq",
        "outputId": "7a97ace0-3af8-4dca-825a-5c6e216a3126"
      },
      "source": [
        "from sklearn.tree import DecisionTreeClassifier\n",
        "dt=DecisionTreeClassifier()\n",
        "x_train, x_holdout, y_train, y_holdout = train_test_split(X, y, stratify= y, random_state=43, test_size = 0.231)\n",
        "x_train, x_test, y_train, y_test=train_test_split(x_train, y_train,stratify=y_train, random_state=43, test_size=0.15)\n",
        "estimator_list=[('XGB',XGBClassifier()), ('DT',dt),('GBDT',GradientBoostingClassifier(learning_rate=0.1))]\n",
        "sclf=StackingClassifier(estimator_list,final_estimator=XGBClassifier())\n",
        "sclf=sclf.fit(x_train,y_train)\n",
        "prediction=sclf.predict(x_test)\n",
        "hold_pred=sclf.predict(x_holdout)\n",
        "print('Training Accuracy ->{:.3f} '.format(sclf.score(x_train,y_train)))\n",
        "print('Validation Accuracy ->{:.3f} '.format(accuracy_score(y_test, prediction)))  # this is used for checking model's accuracy and how it works \n",
        "print('Final Testset Accuracy ->{:.3f}'.format(accuracy_score(y_holdout, hold_pred))) # this is used for final evaluation\n",
        "print('Precision score ->{:.3f} '.format(precision_score(y_holdout,hold_pred, average='macro')))\n",
        "print('Recall score ->{:.3f} '.format(recall_score(y_holdout,hold_pred, average='macro')))\n",
        "cm=pd.DataFrame(confusion_matrix(y_holdout, hold_pred))\n",
        "plt.figure(figsize = (12, 9))\n",
        "s=sns.heatmap(cm/np.sum(cm), annot=True, cmap='GnBu', fmt='.2%')\n",
        "s.set_yticklabels(labels=['Video Conferencing','Subscription based', 'Non-subscription based'])\n",
        "s.set_xticklabels(labels=['Video Conferencing','Subscription based', 'Non-subscription based'])\n",
        "plt.xlabel('Predicted label', fontsize=15)\n",
        "plt.ylabel('True label', fontsize=15)\n",
        "plt.title('Confusion Matrix for Stacking with XGB(meta)', fontsize=20)\n",
        "plt.show()"
      ],
      "execution_count": null,
      "outputs": [
        {
          "output_type": "stream",
          "text": [
            "Training Accuracy ->0.998 \n",
            "Validation Accuracy ->0.990 \n",
            "Final Testset Accuracy ->0.990\n",
            "Precision score ->0.990 \n",
            "Recall score ->0.990 \n"
          ],
          "name": "stdout"
        },
        {
          "output_type": "display_data",
          "data": {
            "image/png": "[encoded data removed]",
            "text/plain": [
              "<Figure size 864x648 with 2 Axes>"
            ]
          },
          "metadata": {
            "tags": [],
            "needs_background": "light"
          }
        }
      ]
    },
    {
      "cell_type": "code",
      "metadata": {
        "id": "wnR43QKjufqd"
      },
      "source": [
        "import pickle\n",
        "\n",
        "with open('XGB_meta.pkl','wb') as f:\n",
        "    pickle.dump(sclf,f)"
      ],
      "execution_count": null,
      "outputs": []
    },
    {
      "cell_type": "code",
      "metadata": {
        "id": "rUGawSMEnbmy"
      },
      "source": [
        "with open('XGB_meta.pkl', 'rb') as f:\n",
        "    sclf = pickle.load(f)"
      ],
      "execution_count": null,
      "outputs": []
    },
    {
      "cell_type": "code",
      "metadata": {
        "colab": {
          "base_uri": "https://localhost:8080/"
        },
        "id": "y-wFyOJFnyFR",
        "outputId": "67afaf06-f4a8-4e3b-e9cb-01346f86d887"
      },
      "source": [
        "sclf.predict(x_test)"
      ],
      "execution_count": null,
      "outputs": [
        {
          "output_type": "execute_result",
          "data": {
            "text/plain": [
              "array([1, 0, 0, ..., 1, 0, 1])"
            ]
          },
          "metadata": {
            "tags": []
          },
          "execution_count": 29
        }
      ]
    },
    {
      "cell_type": "code",
      "metadata": {
        "colab": {
          "base_uri": "https://localhost:8080/",
          "height": 665
        },
        "id": "mwONGHr6n-54",
        "outputId": "5eb00f63-03b3-44e7-bdb9-6e37c9d1838f"
      },
      "source": [
        "\n",
        "prediction=sclf.predict(x_test)\n",
        "hold_pred=sclf.predict(x_holdout)\n",
        "print('Training Accuracy ->{:.3f} '.format(sclf.score(x_train,y_train)))\n",
        "print('Validation Accuracy ->{:.3f} '.format(accuracy_score(y_test, prediction)))  # this is used for checking model's accuracy and how it works \n",
        "print('Final Testset Accuracy ->{:.3f}'.format(accuracy_score(y_holdout, hold_pred))) # this is used for final evaluation\n",
        "print('Precision score ->{:.3f} '.format(precision_score(y_holdout,hold_pred, average='macro')))\n",
        "print('Recall score ->{:.3f} '.format(recall_score(y_holdout,hold_pred, average='macro')))\n",
        "cm=pd.DataFrame(confusion_matrix(y_holdout, hold_pred))\n",
        "plt.figure(figsize = (12, 9))\n",
        "s=sns.heatmap(cm/np.sum(cm), annot=True, cmap='GnBu', fmt='.2%')\n",
        "s.set_yticklabels(labels=['Video Conferencing','Subscription based', 'Non-subscription based'])\n",
        "s.set_xticklabels(labels=['Video Conferencing','Subscription based', 'Non-subscription based'])\n",
        "plt.xlabel('Predicted label', fontsize=15)\n",
        "plt.ylabel('True label', fontsize=15)\n",
        "plt.title('Confusion Matrix for Stacking with XGB(meta)', fontsize=20)\n",
        "plt.show()"
      ],
      "execution_count": null,
      "outputs": [
        {
          "output_type": "stream",
          "text": [
            "Training Accuracy ->0.998 \n",
            "Validation Accuracy ->0.990 \n",
            "Final Testset Accuracy ->0.990\n",
            "Precision score ->0.990 \n",
            "Recall score ->0.990 \n"
          ],
          "name": "stdout"
        },
        {
          "output_type": "display_data",
          "data": {
            "image/png": "[encoded data removed]",
            "text/plain": [
              "<Figure size 864x648 with 2 Axes>"
            ]
          },
          "metadata": {
            "tags": [],
            "needs_background": "light"
          }
        }
      ]
    },
    {
      "cell_type": "code",
      "metadata": {
        "id": "lwQpQb7loIwe"
      },
      "source": [
        "import pickle"
      ],
      "execution_count": null,
      "outputs": []
    },
    {
      "cell_type": "markdown",
      "metadata": {
        "id": "geIUfxxzoZa5"
      },
      "source": [
        "# pickle at its work"
      ]
    },
    {
      "cell_type": "code",
      "metadata": {
        "id": "Emw_UOFBob4R"
      },
      "source": [
        "import pickle\n",
        "# save the model to disk\n",
        "filename = 'xgb_meta.sav'\n",
        "pickle.dump(sclf, open(filename, 'wb')) "
      ],
      "execution_count": null,
      "outputs": []
    },
    {
      "cell_type": "code",
      "metadata": {
        "id": "cvSvzBuCorzM"
      },
      "source": [
        "import pickle\n",
        "with open('/content/drive/MyDrive/Minor V sem/TEST/Copy of SVM_KNN_GBC_meta_XGB.pkl', 'rb') as f:\n",
        "    sclf = pickle.load(f)"
      ],
      "execution_count": null,
      "outputs": []
    },
    {
      "cell_type": "code",
      "metadata": {
        "id": "r-onCh0YRpKs"
      },
      "source": [
        "TTX=TT.drop('output',1)\n",
        "TTy=TT['output']\n",
        "X = Final.drop('output',1)\n",
        "y = Final['output']"
      ],
      "execution_count": null,
      "outputs": []
    },
    {
      "cell_type": "code",
      "metadata": {
        "colab": {
          "base_uri": "https://localhost:8080/"
        },
        "id": "CNecirEIgogY",
        "outputId": "4912b989-d584-423f-e8bb-a5c4a05ec8ed"
      },
      "source": [
        "print(TTX.columns, X.columns)"
      ],
      "execution_count": null,
      "outputs": [
        {
          "output_type": "stream",
          "text": [
            "Index(['RunTime', 'Proto', 'TotBytes', 'Load', 'Loss', 'TcpRtt', 'Offset',\n",
            "       'Ttl', 'Tos', 'Gap', 'win', 'TotBytes_mean', 'TotBytes_var', 'Load_var',\n",
            "       'Loss_mean', 'Ttl_mean', 'Ttl_var', 'Tos_mean', 'win_mean', 'Gap_mean',\n",
            "       'rtt_mean', 'Proto_mean'],\n",
            "      dtype='object') Index(['RunTime', 'Proto', 'TotBytes', 'Load', 'Loss', 'TcpRtt', 'Offset',\n",
            "       'Ttl', 'Tos', 'Gap', 'win', 'TotBytes_mean', 'TotBytes_var', 'Load_var',\n",
            "       'Loss_mean', 'Ttl_mean', 'Ttl_var', 'Tos_mean', 'win_mean', 'Gap_mean',\n",
            "       'rtt_mean', 'Proto_mean'],\n",
            "      dtype='object')\n"
          ],
          "name": "stdout"
        }
      ]
    },
    {
      "cell_type": "code",
      "metadata": {
        "colab": {
          "base_uri": "https://localhost:8080/"
        },
        "id": "RpJSxpBygxhO",
        "outputId": "3b23cf71-4cbd-48c8-befb-4ca1aabbbb29"
      },
      "source": [
        "X.shape[1] == TTX.shape[1]"
      ],
      "execution_count": null,
      "outputs": [
        {
          "output_type": "execute_result",
          "data": {
            "text/plain": [
              "True"
            ]
          },
          "metadata": {
            "tags": []
          },
          "execution_count": 55
        }
      ]
    },
    {
      "cell_type": "code",
      "metadata": {
        "id": "uVUazp4miosw",
        "colab": {
          "base_uri": "https://localhost:8080/"
        },
        "outputId": "acb265d0-3fa9-415d-e543-c77377785392"
      },
      "source": [
        "pred=sclf.predict(TTX)\n",
        "print('Test set accuracy-> ', accuracy_score(TTy,pred))\n",
        "confusion_matrix(TTy,pred)"
      ],
      "execution_count": null,
      "outputs": [
        {
          "output_type": "stream",
          "text": [
            "Test set accuracy->  0.7163351185921959\n"
          ],
          "name": "stdout"
        },
        {
          "output_type": "execute_result",
          "data": {
            "text/plain": [
              "array([[3272,  869,   32],\n",
              "       [ 572,  473,   10],\n",
              "       [   0,    0,    0]])"
            ]
          },
          "metadata": {
            "tags": []
          },
          "execution_count": 69
        }
      ]
    },
    {
      "cell_type": "markdown",
      "metadata": {
        "id": "VVP40vPM9SUS"
      },
      "source": [
        "DT"
      ]
    },
    {
      "cell_type": "code",
      "metadata": {
        "colab": {
          "base_uri": "https://localhost:8080/",
          "height": 665
        },
        "id": "Y5nPbToj7usn",
        "outputId": "3cee0fdd-3c80-44eb-8c9f-50583aaeae6e"
      },
      "source": [
        "from sklearn.tree import DecisionTreeClassifier\n",
        "dt=DecisionTreeClassifier()\n",
        "x_train, x_holdout, y_train, y_holdout = train_test_split(X, y, stratify= y, test_size = 0.231,random_state=22) # 30k for holdout 1lakh for rem.\n",
        "x_train, x_test, y_train, y_test=train_test_split(x_train, y_train, test_size=0.1,random_state=22) # 90-10k split\n",
        "dt=dt.fit(x_train,y_train)\n",
        "hold_pred=dt.predict(x_holdout)\n",
        "print('Training Accuracy ->{:.3f} '.format(dt.score(x_train,y_train)))\n",
        "print('Validation Accuracy ->{:.3f} '.format(dt.score(x_test, y_test)))  # this is used for checking model's accuracy and how it works \n",
        "print('Final Testset Accuracy ->{:.3f}'.format(dt.score(x_holdout, y_holdout))) # this is used for final evaluation\n",
        "print('Precision score ->{:.3f} '.format(precision_score(y_holdout,hold_pred, average='macro')))\n",
        "print('Recall score ->{:.3f} '.format(recall_score(y_holdout,hold_pred, average='macro')))\n",
        "\n",
        "cm=pd.DataFrame(confusion_matrix(y_holdout, hold_pred))\n",
        "plt.figure(figsize = (12, 9))\n",
        "s=sns.heatmap(cm/np.sum(cm), annot=True, cmap='GnBu', fmt='.2%')\n",
        "s.set_yticklabels(labels=['Video Conferencing','Subscription based', 'Non-subscription based'])\n",
        "s.set_xticklabels(labels=['Video Conferencing','Subscription based', 'Non-subscription based'])\n",
        "plt.xlabel('Predicted label', fontsize=15)\n",
        "plt.ylabel('True label', fontsize=15)\n",
        "plt.title('Confusion Matrix for DT', fontsize=20)\n",
        "plt.show()"
      ],
      "execution_count": null,
      "outputs": [
        {
          "output_type": "stream",
          "text": [
            "Training Accuracy ->1.000 \n",
            "Validation Accuracy ->0.990 \n",
            "Final Testset Accuracy ->0.988\n",
            "Precision score ->0.988 \n",
            "Recall score ->0.988 \n"
          ],
          "name": "stdout"
        },
        {
          "output_type": "display_data",
          "data": {
            "image/png": "[encoded data removed]",
            "text/plain": [
              "<Figure size 864x648 with 2 Axes>"
            ]
          },
          "metadata": {
            "tags": [],
            "needs_background": "light"
          }
        }
      ]
    },
    {
      "cell_type": "code",
      "metadata": {
        "colab": {
          "base_uri": "https://localhost:8080/"
        },
        "id": "5_Y7zxXv9T8E",
        "outputId": "a5f4fb37-d7be-442e-f69a-4352f0c57537"
      },
      "source": [
        "pred=dt.predict(TTX)\n",
        "print('Test set accuracy-> ', accuracy_score(TTy,pred))\n",
        "confusion_matrix(TTy,pred)"
      ],
      "execution_count": null,
      "outputs": [
        {
          "output_type": "stream",
          "text": [
            "Test set accuracy->  0.43993879112471307\n"
          ],
          "name": "stdout"
        },
        {
          "output_type": "execute_result",
          "data": {
            "text/plain": [
              "array([[1861, 1490,  822],\n",
              "       [ 518,  439,   98],\n",
              "       [   0,    0,    0]])"
            ]
          },
          "metadata": {
            "tags": []
          },
          "execution_count": 71
        }
      ]
    },
    {
      "cell_type": "markdown",
      "metadata": {
        "id": "1MTh8lr2BizI"
      },
      "source": [
        "GBDT"
      ]
    },
    {
      "cell_type": "code",
      "metadata": {
        "colab": {
          "base_uri": "https://localhost:8080/",
          "height": 700
        },
        "id": "dAUdFrfI9ii7",
        "outputId": "285de720-c7c9-49f3-a65f-c3e5d978aedc"
      },
      "source": [
        "GBC=GradientBoostingClassifier()\n",
        "GBC.fit(x_train,y_train)\n",
        "pred=GBC.predict(x_test)\n",
        "hold_pred=GBC.predict(x_holdout)\n",
        "print()\n",
        "print('************** FOR Gradient Boosting Decision Tree ***************')\n",
        "print('Training Accuracy ->{:.3f} '.format(GBC.score(x_train,y_train)))\n",
        "print('Validation Accuracy ->{:.3f} '.format(accuracy_score(y_test, pred)))  # this is used for checking model's accuracy and how it works \n",
        "print('Final Testset Accuracy ->{:.3f}'.format(accuracy_score(y_holdout, hold_pred))) # this is used for final evaluation\n",
        "print('Precision score ->{:.3f} '.format(precision_score(y_holdout,hold_pred, average='macro')))\n",
        "print('Recall score ->{:.3f} '.format(recall_score(y_holdout,hold_pred, average='macro')))\n",
        "cm=pd.DataFrame(confusion_matrix(y_holdout, hold_pred))\n",
        "plt.figure(figsize = (12, 9))\n",
        "s=sns.heatmap(cm/np.sum(cm), annot=True, cmap='GnBu', fmt='.2%')\n",
        "s.set_yticklabels(labels=['Video Conferencing','Subscription based', 'Non-subscription based'])\n",
        "s.set_xticklabels(labels=['Video Conferencing','Subscription based', 'Non-subscription based'])\n",
        "plt.xlabel('Predicted label', fontsize=15)\n",
        "plt.ylabel('True label', fontsize=15)\n",
        "plt.title('Confusion Matrix for GBDT', fontsize=20)\n",
        "plt.show()"
      ],
      "execution_count": null,
      "outputs": [
        {
          "output_type": "stream",
          "text": [
            "\n",
            "************** FOR Gradient Boosting Decision Tree ***************\n",
            "Training Accuracy ->0.977 \n",
            "Validation Accuracy ->0.976 \n",
            "Final Testset Accuracy ->0.976\n",
            "Precision score ->0.976 \n",
            "Recall score ->0.976 \n"
          ],
          "name": "stdout"
        },
        {
          "output_type": "display_data",
          "data": {
            "image/png": "[encoded data removed]",
            "text/plain": [
              "<Figure size 864x648 with 2 Axes>"
            ]
          },
          "metadata": {
            "tags": [],
            "needs_background": "light"
          }
        }
      ]
    },
    {
      "cell_type": "code",
      "metadata": {
        "colab": {
          "base_uri": "https://localhost:8080/"
        },
        "id": "OrVI6ymt_6pS",
        "outputId": "6a15c1a1-a688-4150-cb97-61a57f0047b9"
      },
      "source": [
        "pred=GBC.predict(TTX)\n",
        "print('Test set accuracy-> ', accuracy_score(TTy,pred))\n",
        "confusion_matrix(TTy,pred)"
      ],
      "execution_count": null,
      "outputs": [
        {
          "output_type": "stream",
          "text": [
            "Test set accuracy->  0.5759372609028309\n"
          ],
          "name": "stdout"
        },
        {
          "output_type": "execute_result",
          "data": {
            "text/plain": [
              "array([[2422, 1662,   89],\n",
              "       [ 447,  589,   19],\n",
              "       [   0,    0,    0]])"
            ]
          },
          "metadata": {
            "tags": []
          },
          "execution_count": 73
        }
      ]
    },
    {
      "cell_type": "code",
      "metadata": {
        "id": "y4uU1Nk7BgYO"
      },
      "source": [
        ""
      ],
      "execution_count": null,
      "outputs": []
    }
  ]
}